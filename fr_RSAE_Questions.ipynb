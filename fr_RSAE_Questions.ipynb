{
 "cells": [
  {
   "cell_type": "markdown",
   "id": "e3d9191c",
   "metadata": {
    "id": "HQOsPSWZyQZx"
   },
   "source": [
    "#  Recommandation de films à l'aide des auto-encodeurs\n",
    "## IVADO - Cours en ligne sur les systèmes de recommandation\n",
    "\n",
    "Le présent tutoriel est une adaptation du contenu initialement créé pour l'atelier sur les systèmes de recommandation d’IVADO en août 2019.\n",
    "\n",
    "<b> Auteurs: </b>\n",
    "\n",
    "David Berger \n",
    "\n",
    "Laurent Charlin \n",
    "\n",
    "Nissan Pow "
   ]
  },
  {
   "cell_type": "markdown",
   "id": "046cfba1",
   "metadata": {
    "id": "qYuwYEztyQZ0"
   },
   "source": [
    "# 1. Introduction\n",
    "\n",
    "Dans cet atelier, nous proposons d'implémenter un système de recommandation basé sur un auto-encodeur, une architecture classique en apprentissage profond. Tout comme lors du volet de l'atelier portant sur les modèles utilisant la factorisation matricielle, nous utiliserons la base de données <a href=\"https://grouplens.org/datasets/movielens/\">MovieLens</a> afin d'entraîner nos modèles, mener certaines expériences et comparer nos résultats avec d'autres types d'architectures."
   ]
  },
  {
   "cell_type": "markdown",
   "id": "4686cf05",
   "metadata": {
    "id": "XDKq8-yXyQZ1"
   },
   "source": [
    "## 1.1 Installation des librairies\n",
    "\n",
    "Avant de commencer, nous devons nous assurer d'installer les librairies nécessaires pour le tutoriel à l'aide de pip. Pour ce faire, exécutez la cellule suivante en la sélectionnant et en cliquant `shift`+`Enter`. Ceci peut prendre quelques minutes."
   ]
  },
  {
   "cell_type": "code",
   "execution_count": null,
   "id": "6953569b",
   "metadata": {
    "colab": {
     "base_uri": "https://localhost:8080/"
    },
    "id": "and193IDyQZ2",
    "outputId": "d28084dc-4660-4d24-fb72-902d66eaa737"
   },
   "outputs": [],
   "source": [
    "!rm -rf RS-Workshop\n",
    "!git clone https://github.com/davidberger2785/RS-Workshop"
   ]
  },
  {
   "cell_type": "markdown",
   "id": "6656239b",
   "metadata": {
    "id": "jXnUNiZPyQZ8"
   },
   "source": [
    "Afin de vous assurer que l'installation ait eu lieu, importez toutes les libraries et modules dont nous nous servirons pour cet atelier en exécutant la prochaine cellule."
   ]
  },
  {
   "cell_type": "code",
   "execution_count": null,
   "id": "f564b4a2",
   "metadata": {
    "id": "ffIsFyBmyQZ8"
   },
   "outputs": [],
   "source": [
    "import numpy as np\n",
    "import pandas as pd\n",
    "\n",
    "# Visualisation des données\n",
    "import matplotlib.pyplot as plt\n",
    "import seaborn as sns\n",
    "\n",
    "import os\n",
    "import sys\n",
    "\n",
    "# Fonctions maison\n",
    "sys.path += ['RS-Workshop/Tutoriels - En/']\n",
    "import utilities as utl"
   ]
  },
  {
   "cell_type": "markdown",
   "id": "e72da7f8",
   "metadata": {
    "id": "pjO04i-MyQZ_"
   },
   "source": [
    "Nous avons également écrit quelques fonctions passe-partout que nous avons regroupées dans la librairie utilities. En fait, ces différentes fonctions existent fort probablement déjà en python, mais nous en ignorons simplement l'existence..."
   ]
  },
  {
   "cell_type": "markdown",
   "id": "3b8ef365",
   "metadata": {
    "id": "bt2C99HCyQZ_"
   },
   "source": [
    "## 1.2 Objectif\n",
    "\n",
    "De façon générale, l'objectif d'un système de recommandation est, comme son nom l'indique, d'effectuer des recommandations personnalisées à chacun des utilisateurs. Idéalement, ces recommandations devront être bonnes, bien que ce concept puisse rapidement devenir flou. Contrairement à d'autres tâches en apprentissage automatique, telle la reconnaissance d'images de chats ou la prédiction du cours d'une action en bourse, effectuer des recommandations de manière à aider un utilisateur est d'autant plus complexe que ce problème est plus ou moins bien défini. Cherchons-nous à présenter à un utilisateur précis des suggestions le confortant dans ses choix antérieurs? Ou enconre, voulons-nous lui présenter des suggestions complémentaires ou totalement indépendantes des items précédemment considérés? Enfin, tenterons-nous plutôt de lui présenter des items auxquels il n'a pas encore été exposé? Chacune des ces options sont légitimes et pourront être modélisées. Sans perte de généralités, le schéma ci-dessous modélise simplement la problématique des systèmes de recommandation sous l'angle de l'apprentissage automatique.\n",
    "\n",
    "![title](https://github.com/davidberger2785/RS-Workshop/blob/master/Images/High_level_1.png?raw=1)\n",
    "\n",
    "\n",
    "\n",
    "N'empêche, dans le cadre de cet atelier et en considérant le contexte dans lequel nous sommes plongés, soit la suggestion de films comme le font Netflix ou Amazon Prime, nous pouvons réduire le problème à une tâche relativement simple: recommander des films que l'utilisateur va aimer en fonction de ses intérêts passés. Afin de mener à bien cette tâche, nous utiliserons l'ensemble des préférences des usagers, certaines variables sociodémographiques associées de même que certaines caractéristiques des films. Enfin, nous pouvons rafiner le schéma ainsi:\n",
    "\n",
    "![title](https://github.com/davidberger2785/RS-Workshop/blob/master/Images/High_level_2.png?raw=1)\n"
   ]
  },
  {
   "cell_type": "markdown",
   "id": "a8918ac9",
   "metadata": {
    "id": "Z8kkOcZLyQaA"
   },
   "source": [
    "## 1.3 Jeu de données - MoviesLens 100k\n",
    "\n",
    "Les données utilisées consistent ici en plus ou moins 100 000 évaluations de films effectuées par 943 utilisateurs et où un ensemble de 1 682 films étaient disponibles en visionnement. En plus des 100 000 évaluations à notre disposition, nous avons des informations complémentaires liées à chacun des usagers de même qu'à chacun des films.\n",
    "\n",
    "En somme, nous allons utiliser un total de trois jeux de données afin de mener à bien nos analyses soit:\n",
    "\n",
    "* Users : contenant des informations associées aux caractéristiques des utilisateurs,\n",
    "* Movies : contenant des informations associées aux caractéristiques des films en visionnement,\n",
    "* Ratings : contenant l'ensemble des 100 000 évaluations effectuées par les utilisateurs.\n",
    "\n",
    "Nous utiliserons la librairie <a href=\"https://pandas.pydata.org/\">Pandas</a> pour télécharger la base de données.\n"
   ]
  },
  {
   "cell_type": "markdown",
   "id": "259359c8",
   "metadata": {
    "id": "apGD8Z_CyQaA"
   },
   "source": [
    "### 1.3.1 Users: Importation et prétraitement des données"
   ]
  },
  {
   "cell_type": "code",
   "execution_count": null,
   "id": "db1adb29",
   "metadata": {
    "id": "F6pLOxHjyQaB"
   },
   "outputs": [],
   "source": [
    "# Téléchargement des données\n",
    "ROOT_DIR = 'RS-Workshop/'\n",
    "DATA_DIR = os.path.join(ROOT_DIR, 'data/ml-100k/')\n",
    "\n",
    "users = pd.read_csv(os.path.join(DATA_DIR, 'u.user'), \n",
    "                        sep='|', header=None, engine='python', encoding='latin-1')\n",
    "\n",
    "# Nous définissons les différentes variables en fonction de l'information fournie dans le fichier 'readme'\n",
    "users.columns = ['Index', 'Age', 'Gender', 'Occupation', 'Zip code']\n",
    "\n",
    "# Bref aperçu\n",
    "users.head()"
   ]
  },
  {
   "cell_type": "markdown",
   "id": "ff3f2e5a",
   "metadata": {
    "id": "6xg1jIhbyQaD"
   },
   "source": [
    "Avant de présenter les statistiques descriptives liées à la population étudiée, nous allons dans un premier temps traiter les données associées aux usagers sous la forme d'une <a href=\"https://en.wikipedia.org/wiki/List_(abstract_data_type)\">list</a> afin de pouvoir plus aisément les manipuler. Notons que l'occupation de chaque individu étant une chaîne de caractères, nous avons recodé les 21 occupations possibles en booléen."
   ]
  },
  {
   "cell_type": "code",
   "execution_count": null,
   "id": "c363e260",
   "metadata": {
    "id": "C7KCPwC9yQaE"
   },
   "outputs": [],
   "source": [
    "# Nombre d'utilisateurs et d'utilisatrices\n",
    "nb_users = len(users)\n",
    "\n",
    "# Sexe\n",
    "gender = np.where(np.matrix(users['Gender']) == 'M', 0, 1)[0]\n",
    "\n",
    "# Occupation\n",
    "occupation_name = np.array(pd.read_csv(os.path.join(DATA_DIR, 'u.occupation'), \n",
    "                                            sep='|', header=None, engine='python', encoding='latin-1').loc[:, 0])\n",
    "\n",
    "# Recodage en booléen de la variable occupation\n",
    "occupation_matrix = np.zeros((nb_users, len(occupation_name)))\n",
    "\n",
    "for k in np.arange(nb_users):\n",
    "    occupation_matrix[k, occupation_name.tolist().index(users['Occupation'][k])] = 1\n",
    "\n",
    "# Concatenation des différentes données sociodémographiques sous forme de liste\n",
    "user_attributes = np.concatenate((np.matrix(users['Age']), np.matrix(gender), occupation_matrix.T)).T.tolist()"
   ]
  },
  {
   "cell_type": "markdown",
   "id": "5f376b1e",
   "metadata": {
    "id": "MupJaXiZyQaG"
   },
   "source": [
    "Nous explorons par la suite les différentes statistiques descriptives associées aux usagers. Celles-ci comportent des informations en lien avec l'âge (variable continue), le sexe (variable binaire) et l'occupation de chacun des usagers (au nombre de 21, toutes binaires).\n"
   ]
  },
  {
   "cell_type": "markdown",
   "id": "ab7742a5",
   "metadata": {
    "id": "cMm2LDjSyQaG"
   },
   "source": [
    "Statistiques descriptives associées à <i>Age."
   ]
  },
  {
   "cell_type": "code",
   "execution_count": null,
   "id": "8d102724",
   "metadata": {
    "id": "ZF4Y5TUQyQaH"
   },
   "outputs": [],
   "source": [
    "pd.DataFrame(users['Age'].describe()).T"
   ]
  },
  {
   "cell_type": "markdown",
   "id": "7598b634",
   "metadata": {
    "id": "LeX_TqtCyQaJ"
   },
   "source": [
    "Diagramme à bandes pour la stastistique associée au <i> genre."
   ]
  },
  {
   "cell_type": "code",
   "execution_count": null,
   "id": "1c275c69",
   "metadata": {
    "id": "ktjctlNPyQaJ"
   },
   "outputs": [],
   "source": [
    "utl.barplot(['Women', 'Men'], np.array([np.mean(gender) , 1 - np.mean(gender)]) * 100, \n",
    "            'Sex', 'Percentage (%)', \"User's gender\", 0)"
   ]
  },
  {
   "cell_type": "markdown",
   "id": "fd25c5a6",
   "metadata": {
    "id": "Tv5sHwVZyQaO"
   },
   "source": [
    "Diagramme à bandes pour la stastistique associée à <i>Occupation."
   ]
  },
  {
   "cell_type": "code",
   "execution_count": null,
   "id": "df911089",
   "metadata": {
    "id": "z0_b6pd9yQaP"
   },
   "outputs": [],
   "source": [
    "attributes, scores = utl.rearrange(occupation_name, np.mean(occupation_matrix, axis=0) * 100)\n",
    "utl.barplot(attributes, scores, 'Occupation', 'Percentage (%)', \"User's occupation\", 90)"
   ]
  },
  {
   "cell_type": "markdown",
   "id": "1ff391ea",
   "metadata": {
    "id": "PyIfNODfyQaR"
   },
   "source": [
    "### 1.3.2 Movies: Importation et reformatage des données\n",
    "\n",
    "De la même façon, nous allons traiter et explorer les données associées aux films. Pour chacun d'eux, nous disposons du titre, de la date de sortie en Amérique du Nord, de même que les genres auxquels il est associé."
   ]
  },
  {
   "cell_type": "code",
   "execution_count": null,
   "id": "6c495514",
   "metadata": {
    "id": "Em0nC2FpyQaR"
   },
   "outputs": [],
   "source": [
    "movies = pd.read_csv(os.path.join(DATA_DIR, 'u.item'), sep='|', header=None, engine='python', encoding='latin-1')\n",
    "\n",
    "# Nombre de films\n",
    "nb_movies = len(movies)\n",
    "\n",
    "# Genres\n",
    "movies_genre = np.matrix(movies.loc[:, 5:])\n",
    "movies_genre_name = np.array(pd.read_csv(os.path.join(DATA_DIR, 'u.genre'), sep='|', header=None, engine='python', encoding='latin-1').loc[:, 0])\n",
    "\n",
    "# Survol rapide\n",
    "movies.columns = ['Index', 'Title', 'Release', 'The Not a Number column', 'Imdb'] + movies_genre_name.tolist()\n",
    "movies.head()"
   ]
  },
  {
   "cell_type": "markdown",
   "id": "87d253ed",
   "metadata": {
    "id": "c0uDnLOYyQaT"
   },
   "source": [
    "Nous présentons les proportions de films en fonction du genre comme statistique descriptive."
   ]
  },
  {
   "cell_type": "code",
   "execution_count": null,
   "id": "5e1479bc",
   "metadata": {
    "id": "eqaRcdBtyQaU"
   },
   "outputs": [],
   "source": [
    "attributes, scores = utl.rearrange(movies_genre_name, \n",
    "                                   np.array(np.round(np.mean(movies_genre, axis=0) * 1, 2))[0])\n",
    "utl.barplot(attributes, np.array(scores) * 100, xlabel='Genre', ylabel='Percentage (%)', \n",
    "            title=\" \", rotation = 90)"
   ]
  },
  {
   "cell_type": "markdown",
   "id": "7b684e06",
   "metadata": {
    "id": "8BIFt6pxyQaW"
   },
   "source": [
    "### 1.3.3 Ratings: Importation et traitement des données\n",
    "\n",
    "La base de données comportant les évaluations des films effectuées par les usagers est constituée d'environ 100 mille lignes (une évaluation par ligne) où sont respectivement recensés le numéro d'identification de l'utilisateur, le numéro d'identification du film, l'évaluation associée et un marqueur de temps auquel le film a été visionné. Les ensembles d'entraînement et de test ont été fournis tels quels, c'est-à-dire que nous n'avons pas besoin de les construire nous-même, et comportent respectivement 80 et 20 mille évaluations.\n",
    "\n",
    "Pour des raisons pratiques, nous convertissons la base de données sous la forme d'une liste grâce à la fonction maison convert."
   ]
  },
  {
   "cell_type": "code",
   "execution_count": null,
   "id": "c06a0ac8",
   "metadata": {
    "id": "SlMXfiltyQaX"
   },
   "outputs": [],
   "source": [
    "training_set = np.array(pd.read_csv(os.path.join(DATA_DIR, 'u1.base'), delimiter='\\t'), dtype='int')\n",
    "testing_set = np.array(pd.read_csv(os.path.join(DATA_DIR, 'u1.test'), delimiter='\\t'), dtype='int')\n",
    "\n",
    "train_set = utl.convert(training_set, nb_users, nb_movies)\n",
    "test_set = utl.convert(testing_set, nb_users, nb_movies)"
   ]
  },
  {
   "cell_type": "markdown",
   "id": "18333e71",
   "metadata": {
    "id": "5zvO5UCTyQaZ"
   },
   "source": [
    "Comme nous l'avons fait auparavant, nous pouvons obtenir quelques statistiques descriptives associées aux évaluations. Dans une premier temps, il pourrait être intéressant d'étudier les tendances moyennes des individus.\n",
    "\n",
    "##### Question 1\n",
    "\n",
    "1. Quelles autres types de statistiques pourraient être intéressantes?"
   ]
  },
  {
   "cell_type": "code",
   "execution_count": null,
   "id": "970e7fb0",
   "metadata": {
    "id": "qu-AEw28yQaZ"
   },
   "outputs": [],
   "source": [
    "train_matrix = np.array(train_set)\n",
    "shape = (len(train_set), len(train_set[0]))\n",
    "train_matrix.reshape(shape)\n",
    "train_matrix_bool = np.where(train_matrix > 0 , 1, 0)\n",
    "\n",
    "user_watch = np.sum(train_matrix_bool, axis=1)\n",
    "pd.DataFrame(user_watch).describe().T"
   ]
  },
  {
   "cell_type": "markdown",
   "id": "4a5dbad1",
   "metadata": {
    "id": "T9Dsm_LZyQac"
   },
   "source": [
    "Avec un petit histogramme..."
   ]
  },
  {
   "cell_type": "code",
   "execution_count": null,
   "id": "f345687f",
   "metadata": {
    "id": "XQhKtRRFyQad"
   },
   "outputs": [],
   "source": [
    "sns.set(rc={'figure.figsize':(12,8)})\n",
    "sns.set(font_scale = 1.5)\n",
    "\n",
    "plt.title('Empirical distribution of \\n the number of movies watched per user')\n",
    "plt.xlabel('Number of movies watched')\n",
    "plt.ylabel('Number of users')\n",
    "plt.hist(user_watch, 100);"
   ]
  },
  {
   "cell_type": "markdown",
   "id": "8ceb1b6a",
   "metadata": {
    "id": "NJNTBhdeyQag"
   },
   "source": [
    "Nous présentons finalement quelques statistiques associées aux films."
   ]
  },
  {
   "cell_type": "code",
   "execution_count": null,
   "id": "058b1e4b",
   "metadata": {
    "id": "vZXYJ4eryQah"
   },
   "outputs": [],
   "source": [
    "movie_frequency = np.mean(train_matrix_bool, axis=0)\n",
    "pd.DataFrame(movie_frequency).describe().T"
   ]
  },
  {
   "cell_type": "markdown",
   "id": "55ab4a9a",
   "metadata": {
    "id": "67pC2NGKyQaj"
   },
   "source": [
    "##### Question 2\n",
    "\n",
    "a. Quelles statistiques ou observations pourraient nous paraître pertinentes? Pourquoi?\n",
    "\n",
    "b. Quel type de statistique pourrait être plus approprié dans un tel contexte?"
   ]
  },
  {
   "cell_type": "code",
   "execution_count": null,
   "id": "e867775d",
   "metadata": {
    "id": "Z4KxdnsTyQaj"
   },
   "outputs": [],
   "source": [
    "plt.xlabel('Proportion of the population who watched the movie')\n",
    "plt.ylabel('Number of Movies')\n",
    "plt.hist(movie_frequency, 100);"
   ]
  },
  {
   "cell_type": "markdown",
   "id": "810a3e47",
   "metadata": {
    "id": "Qfpcfvk_yQal"
   },
   "source": [
    "#### Quel type de statistique pourrait être plus approprié dans un tel contexte?\n",
    "\n",
    "Nous pourrions également nous intéresser au comportement d'un individu en particulier. Entre autres choses, nous pourrions étudier s'il y a un biais associé à son schème d'évaluation ou encore quelles sont ses préférences cinématographiques en fonction du score attribué."
   ]
  },
  {
   "cell_type": "code",
   "execution_count": null,
   "id": "efc91d47",
   "metadata": {
    "id": "74RuNFKtyQal"
   },
   "outputs": [],
   "source": [
    "def stats_user(data, movies_genre, user_id):\n",
    "    \n",
    "    ratings = data[user_id]\n",
    "    stats = np.zeros(6)\n",
    "    eva = np.zeros((6, movies_genre.shape[1]))\n",
    "\n",
    "    for k in np.arange(len(ratings)):\n",
    "        index = int(ratings[k])\n",
    "        stats[index] += 1\n",
    "        eva[index, :] = eva[index, :] + movies_genre[k]\n",
    "\n",
    "    return stats, eva"
   ]
  },
  {
   "cell_type": "code",
   "execution_count": null,
   "id": "2eb1be3f",
   "metadata": {
    "id": "J9sH_M2HyQan"
   },
   "outputs": [],
   "source": [
    "user_id = 0\n",
    "stats, eva = stats_user(train_set, movies_genre, user_id)\n",
    "utl.barplot(np.arange(5) + 1, stats[1:6] / sum(stats[1:6]), xlabel='Number of stars', ylabel='Percentage of movies (%)', \n",
    "            title=\" \", rotation = 0)"
   ]
  },
  {
   "cell_type": "markdown",
   "id": "50b51e82",
   "metadata": {
    "id": "zuIGfhUFyQaq"
   },
   "source": [
    "##### Question 3\n",
    "\n",
    "3. Comment vérifier qu'il existe un biais associé au schème d'évaluation d'un individu?"
   ]
  },
  {
   "cell_type": "markdown",
   "id": "7c30f489",
   "metadata": {
    "id": "s4jcmvzwyQaq"
   },
   "source": [
    "## 1.4 Création des sous-ensembles d'entraînement et de validation\n",
    "\n",
    "En apprentissage automatique, nous manipulons des <a href=\"https://blogs.nvidia.com/blog/2018/04/15/nvidia-research-image-translation/\">bases de données complexes</a> pour lesquelles nous tentons de définir des espaces de fonctions tout aussi complexes dans le but d'accomplir une tâche précise. Ceci étant, ces espaces de fonctions sont définis par un ensemble de paramètres dont le nombre tend à augmenter avec la complexité des données. Une fois l'espace défini par un ensemble de paramètres fixés, nous pouvons varier les différentes valeurs d'hyperparamètres afin d'explorer empiriquement les espaces de fonctions. Pour choisir l'ensemble des paramètres et d'hyperparamètres optimaux, nous définissons une métrique nous permettant d'évaluer le modèle; par exemple, à quel point l'image d'un chat nous paraît vraisemblable.\n",
    "\n",
    "Dans la mesure où nous voulons développer un modèle capable de généraliser, l'évaluation de ses performances, et donc la sélection des (hyperparamtètres) doit se faire sur un ensemble de données indépendant, mais issues de la même distribution, de l'ensemble sur lequel il a appris. Pareil ensemble porte le nom d'ensemble de validation.\n",
    "\n",
    "**! Remarque !** \n",
    "\n",
    "La notion d'ensemble d'entraînement et de test dans le cadre de système de recommandation est quelque peu différente de ce que l'on voit habituellement avec les problèmes dits supervisés. Si dans le cadre d'un problème supervisé, l'ensemble de test consiste essentiellement en de nouvelles observations (lire lignes d'un fichier) indépendantes des observations préalablement observées dans l'ensemble d'entraînement, le paradigme est sensiblement différent lorsque nous travaillons avec des systèmes de recommandation.\n",
    "\n",
    "Effectivement, et en raison du modèle mathématique sur lequel est basé les systèmes de recommandation, les données appartenant à l'ensemble de test ne sont pas liées à un nouvel individu, mais bien à de nouvelles évaluations, faites par le même ensemble d'individus, mais jusqu'alors inobservées. Dès lors, les données associées aux ensembles d'entraînement, de validation et de test ne sont plus indépendantes tel que supposé (la fameuse hypothèse iid ); ce qui complique théoriquement les choses.\n",
    "\n",
    "Puisque le but de l'atelier n'est pas d'étudier la notion de biais associée au type de dépendance entre les différents évaluations dans les systèmes de recommendation, nous allons naïvement supposer que chacune des évaluations sont indépendantes les unes des autres. N'empêche, dans un cadre pratique, ignorer ce genre de considérations pourra éventuellement biaiser les algorithmes."
   ]
  },
  {
   "cell_type": "code",
   "execution_count": null,
   "id": "6634c194",
   "metadata": {
    "id": "vvqL3zJmyQaq"
   },
   "outputs": [],
   "source": [
    "def split(data, ratio, tensor=False):\n",
    "    train = np.zeros((len(data), len(data[0]))).tolist()\n",
    "    valid = np.zeros((len(data), len(data[0]))).tolist()\n",
    "\n",
    "    for i in range(len(data)):\n",
    "        for j in range(len(data[i])):\n",
    "            if data[i][j] > 0:\n",
    "                if np.random.binomial(1, ratio, 1):\n",
    "                    train[i][j] = data[i][j]\n",
    "                else:\n",
    "                    valid[i][j] = data[i][j]\n",
    "\n",
    "    return [train, valid]\n",
    "\n",
    "train_0 = split(train_set, 0.8)\n",
    "test = test_set"
   ]
  },
  {
   "cell_type": "markdown",
   "id": "95179590",
   "metadata": {
    "id": "0tYJWzOVyQaw"
   },
   "source": [
    "# 2. Système de recommandation: Auto-encodeur"
   ]
  },
  {
   "cell_type": "markdown",
   "id": "6503b5ab",
   "metadata": {
    "id": "XPQ8-o41yQax"
   },
   "source": [
    "## 2.1 Modèle\n",
    "\n",
    "De façon générale, les auto-encodeurs sont une classe de réseaux de neurones permettant d'effectuer l'apprentissage non supervisé des caractéristiques latentes des données à l'étude. Pour ce faire, l'AE tentera de prédire, ou copier, les observations en entrée à l'aide de (multiple) couche cachée. Dans sa plus simple expression, l'architecture d'un AE peut se résumer au schéma ci-dessous.\n",
    "\n",
    "![title](https://github.com/davidberger2785/RS-Workshop/blob/master/Images/AE.png?raw=1)\n",
    "\n",
    "En regardant de plus près, l'AE consiste en un encodeur, soit la fonction $h(\\cdot)$ définie par:\n",
    "\n",
    "$$\n",
    "\\begin{align}\n",
    "    h(\\mathbf{x}) = \\frac{1}{1+ \\exp(-\\mathbf{W} \\mathbf{x})}.\n",
    "\\end{align}\n",
    "$$\n",
    "\n",
    "Cette fonction prend en entrée les observations et consistera à la recoder sous forme d'une couche cachée de façon telle à réduire leur dimension (moins de neurones). Par après, un encodeur défini par:\n",
    "\n",
    "$$\n",
    "\\begin{align}\n",
    "    f(h(\\mathbf{x})) = \\mathbf{W}^\\top h(\\mathbf{x})\n",
    "\\end{align}\n",
    "$$\n",
    "\n",
    "tentera de reconstuire les observations présentées en entrée à partir de la couche cachée. En ce sens, l'AE cherche à estimer les observations utilisées en entrée.\n",
    "\n",
    "Nous pouvons avantageusement utiliser les estimations faites par les auto-encodeurs de façon telle à présenter de nouvelles recommandations aux usagers.\n",
    "\n",
    "Par exemple, supposons que l'ensemble des évaluations effectuées par un usager est défini par le vecteur:\n",
    "\n",
    "$$\n",
    "\\begin{align}\n",
    "    \\mathbf{x} = [3, \\ 0, \\ 0, \\ 1, \\ ..., \\ 2, \\ 4].\n",
    "\\end{align}\n",
    "$$\n",
    "\n",
    "Nous remarquons que le film en première position, soit Toy Story , a été moyennement apprécié, alors que les deux films suivant, Golden eye et Four rooms, n'ont pas été visionnés. Supposons encore une fois qu'à ce même ensemble d'évaluations, l'AE présentera les estimations suivantes:\n",
    "\n",
    "$$\n",
    "\\begin{align}\n",
    "    \\mathbf{\\hat{x}} = [3.2, \\ 1.3, \\ 4, \\ 0.5, \\ ..., \\ 3, \\ 1].\n",
    "\\end{align}\n",
    "$$\n",
    "\n",
    "Dès lors, nous pourrons utiliser les estimations associées aux films initiallement non visionnés comme autant de recommandations. Ainsi, le film Four rooms, en troisième position, semble une bonne suggestion pour l'usager, alors que Golden eye n'est définitivement pas un recommandation probante."
   ]
  },
  {
   "cell_type": "markdown",
   "id": "1ad311b0",
   "metadata": {
    "id": "tb8oH65vyQax"
   },
   "source": [
    "## 2.2 L'apprentissage profond avec Pytorch\n",
    "\n",
    "Afin de construire un système de recommandation basé sur les AE, nous allons utiliser la librairie\n",
    "<a href=\"https://pytorch.org/\">Pytorch</a>. Cette libraire fournit deux fonctionnalités extrêmement intéressantes:\n",
    "<ul>\n",
    "<li> Manipulation de tenseurs (matrices à plusieurs dimensions) permettant d'effectuer les calculs avec GPU. </li>\n",
    "<li> Utilisation de la différentiation automatique avec la classe <a href=\"http://pytorch.org/docs/master/autograd.html\">autograd </a> permettant de calculer facilement la descente de gradient.</li>"
   ]
  },
  {
   "cell_type": "code",
   "execution_count": null,
   "id": "cba21b76",
   "metadata": {
    "id": "5dJgvL_1yQay"
   },
   "outputs": [],
   "source": [
    "import torch\n",
    "import torch.nn as nn\n",
    "import torch.nn.parallel\n",
    "import torch.optim as optim\n",
    "import torch.utils.data\n",
    "\n",
    "from torch.nn import functional\n",
    "from torch.autograd import Variable"
   ]
  },
  {
   "cell_type": "markdown",
   "id": "ad1ed080",
   "metadata": {
    "id": "_8KzAwHKyQaz"
   },
   "source": [
    "Puisque nous travaillerons avec Pytorch, transformons les données de MoviesLens en objet tensoriel."
   ]
  },
  {
   "cell_type": "code",
   "execution_count": null,
   "id": "85853d75",
   "metadata": {
    "id": "EjAhxXU6yQa0"
   },
   "outputs": [],
   "source": [
    "train = torch.FloatTensor(train_0)\n",
    "train, valid = train[0], train[1]\n",
    "test = torch.FloatTensor(test_set)"
   ]
  },
  {
   "cell_type": "markdown",
   "id": "72689012",
   "metadata": {
    "id": "MTz99dilyQa2"
   },
   "source": [
    "**! Remarque !** \n",
    "\n",
    "Bien que la documentation disponible pour Pytorch soit détaillée (comparativement à d'autres librairies en apprentissage profond), il est facile de s'y perdre. N'empêche, pour la suite de l'atelier, il n'est pas nécessaire de saisir la totalité des nuances associées aux différentes commandes. En fait, l'essentiel est plutôt de bien saisir les tenants et aboutissants des étapes clés présentées."
   ]
  },
  {
   "cell_type": "markdown",
   "id": "a4c9ffd7",
   "metadata": {
    "id": "FgHOkq9yyQa2"
   },
   "source": [
    "## 2.3 Implémentation\n",
    "\n",
    "Nous pouvons décliner en cinq étapes l'implémentation d'un AE comme système de recommandation:\n",
    "\n",
    "1. Initialisation de l'AE,\n",
    "2. Propagation message,\n",
    "3. Estimation: calcul du coût et rétro propagation,\n",
    "4. Boucle d'apprentissage,\n",
    "5. Évaluation."
   ]
  },
  {
   "cell_type": "markdown",
   "id": "5b293df2",
   "metadata": {
    "id": "8afngqjXyQa2"
   },
   "source": [
    "### 2.3.1 Initialisation\n",
    "\n",
    "Dans un premier temps, nous définissons la classe de l'auto-encodeur à l'aide de la classe <a href=\"http://pytorch.org/docs/master/nn.html#module\"> torch.nn</a>. En PyTorch, tout réseau de neurones doit hériter de cette classe. La classe d'auto-encodeur que nous définierons fait appel à d'autres classes communes dans Pytorch, telle<a href = \"http://pytorch.org/docs/master/nn.html#torch.nn. Linear \"> torch.nn.Linear (in_features, out_features)</a>. Cette dernière implémente une couche linéaire (comme son nom l'indique) et complétement connectée prenant par défaut deux paramètres, soit l'entrée (in_features) et la sortie (out_features).\n"
   ]
  },
  {
   "cell_type": "markdown",
   "id": "ee3f727c",
   "metadata": {
    "id": "Pw5N1JF0Ca1L"
   },
   "source": [
    "##### Question 4\n",
    "\n",
    "4. Complétez l'initialisation de la classe d'auto-encodeur conformément au schéma de l'architecture présenté ci-dessus."
   ]
  },
  {
   "cell_type": "code",
   "execution_count": null,
   "id": "27967b83",
   "metadata": {
    "id": "-RVCLuGayQa3"
   },
   "outputs": [],
   "source": [
    "class AE(nn.Module):\n",
    "    def __init__(self, inputs, outputs, features, criterion=None):\n",
    "        \"\"\"\n",
    "        Args:\n",
    "            self: nom de la classe\n",
    "            nb_inputs: nombre neurones sur la couche d'entrée\n",
    "            nb_outputs: nombre neurones sur la couche de sortie\n",
    "            nb_features: nombre de neurones sur la couche cachée\n",
    "            criterion: fonction de perte utilisé pour l'apprentissage    \n",
    "        \"\"\"\n",
    "        \n",
    "        super(AE, self).__init__()\n",
    "        # Complétez ici\n",
    "        # Et là\n",
    "        \n",
    "        self.criterion = criterion"
   ]
  },
  {
   "cell_type": "markdown",
   "id": "eca3cb5b",
   "metadata": {
    "id": "ozLRChh6yQa5"
   },
   "source": [
    "La classe maintenant définie, nous définierons:\n",
    "\n",
    "1. Le nombre de neurones en entrée,\n",
    "2. Le nombre de neurones en sortie,\n",
    "3. Le nombre de neuronnes désirés dans la couche cachée."
   ]
  },
  {
   "cell_type": "markdown",
   "id": "d5ac23ec",
   "metadata": {
    "id": "GXv9KoeQyQa5"
   },
   "source": [
    "##### Question 5\n",
    "\n",
    "\n",
    "\n"
   ]
  },
  {
   "cell_type": "markdown",
   "id": "dcf8a3df",
   "metadata": {
    "id": "qRMLG7iqDMfX"
   },
   "source": [
    "###### Question 5.1\n",
    "Initialisez l'auto-encodeur avec les bonnes valeurs de paramètres."
   ]
  },
  {
   "cell_type": "code",
   "execution_count": null,
   "id": "490e2faf",
   "metadata": {
    "id": "VJXLOMYZyQa6"
   },
   "outputs": [],
   "source": [
    "nb_inputs = ?\n",
    "nb_outputs = ?\n",
    "nb_features = ?\n",
    "\n",
    "# Ininitalisation\n",
    "ae = AE(?)"
   ]
  },
  {
   "cell_type": "markdown",
   "id": "5e9391ac",
   "metadata": {
    "id": "jJWe85RbDDlX"
   },
   "source": [
    "###### Question 5.2\n",
    "\n",
    "Est-ce pertinent que la couche cachée ait plus de neurones que la couche d'entrée?"
   ]
  },
  {
   "cell_type": "markdown",
   "id": "b29f7b1a",
   "metadata": {
    "id": "TyH3ax3HyQa9"
   },
   "source": [
    "### 2.3.2 Propagation\n",
    "\n",
    "Lors de la phase de propagation, la fonction forward associée à la propagation du message définit les opérations à effectuer afin de calculer les éléments de la sortie. Cette fonction est indispensable, porte par défault le nom forward et doit concorder avec l'initialisation du modèle lors de l'étape précédente afin de permettre une rétropropagation adéquate.\n",
    "   \n",
    "Notons également l'utilisation de la méthode <a href=\"http://pytorch.org/docs/master/nn.html#torch-nn-functional\">torch.nn.functional</a> définissant un ensemble de fonctions qui peuvent être appliquées aux couches d'un réseau de neurones. Dans le cadre de cet atelier, nous utiliserons des fonctions non-linéaires comme<a href=\"http://pytorch.org/docs/master/nn.html#id36\">sigmoid</a> et des fonctions de coût tel l'erreur quadratique moyenne <a href=\"http://pytorch.org/docs/master/nn.html#mse-loss\">mse_loss</a>."
   ]
  },
  {
   "cell_type": "markdown",
   "id": "ae36ada7",
   "metadata": {
    "id": "LOpI_qz9yQa-"
   },
   "source": [
    "##### Question 6\n",
    "\n",
    "6. Complétez la fonction forward."
   ]
  },
  {
   "cell_type": "code",
   "execution_count": null,
   "id": "ac1ae6bb",
   "metadata": {
    "id": "w4qq6sRCyQa-"
   },
   "outputs": [],
   "source": [
    "def forward(model, x):\n",
    "    \"\"\"\n",
    "    Args: \n",
    "        model: nom de l'auto-encodeur tel qu'initialisé\n",
    "        x: couche d'entrée, ici composée de 1682 neurones\n",
    "    Return: \n",
    "        predictions: la couche de sortie\n",
    "    \"\"\"\n",
    "    \n",
    "    # ...\n",
    "    \n",
    "    return ?"
   ]
  },
  {
   "cell_type": "markdown",
   "id": "a1d83909",
   "metadata": {
    "id": "vXgbMhgVyQbB"
   },
   "source": [
    "### 2.2.2 Estimation des poids\n",
    "\n",
    "Bien que les réseaux de neurones présentent notamment dans capacités prédictives ahurissantes, la complexité de leur archicture peut s'avérer rapidement très grande. D'un point de vue calculatoire, cela se traduit entre autres choses par l'impossibilité d'obtenir un optimum global pour la fonction de coût et bien sûr, d'estimer la valeur des poids de façon analytique, comme cela peut être fait dans un modèle linéaire sous hypothèse de normalité. N'empêche, si aucun optimum global n'est garanti, et si accessoirement aucune forme analytique ne peut être calculée, il n'en demeure pas moins que les poids associés peuvent être estimés.\n",
    "\n",
    "En ce sens, la descente (stochastique) du gradient (et ses dérivées) est une technique d'optimisation efficace et largement mise de l'avant en apprentissage profond. Cette technique fait appel à trois concepts clés, soit:\n",
    "\n",
    "1. La fonction de coût.\n",
    "2. Le type d'optimisateur.\n",
    "3. La rétropropagation du gradient (implémentée dans la boucle d'apprentissage)"
   ]
  },
  {
   "cell_type": "markdown",
   "id": "792577a9",
   "metadata": {
    "id": "ZyXo169lyQbB"
   },
   "source": [
    "#### 2.2.2.1 Fonction de coût\n",
    "\n",
    "Comme nous l'avons vu lors du précédent atelier, la fonction de coût joue un rôle déterminant dans la construction d'un modèle prédictif. En effect, c'est cette même fonction de coût que nous essaierons de minimiser (ou maximiser c'est selon) en ajustant itérativement les poids de l'AE au fur et à mesure que nous lui fournirons des évaluations. Ainsi, deux fonctions de coût différentes entraîneront fort probablement deux modèles différents. Comme d'habitude, Pytorch propose une grande quantité de <a href=\"http://pytorch.org/docs/master/nn.html#id42\">fonction de coût</a> que vous pourrez explorer à votre guise.\n",
    "\n",
    "Dans la mesure où l'on considère que les évaluations varient entre 1 et 5, l'erreur quadratique moyenne (EQM) semble une première option intéressante. Formellement, dans le cadre d'un système de recommandation, nous définierons l'EQM ainsi :\n",
    "\n",
    "$$\n",
    "\\begin{align}\n",
    "\\textit{MSE}(\\mathbf{R}, \\hat{\\mathbf{R}}) = \\frac{1}{n} \\sum_{r_{ui} \\neq 0} (r_{ui} - \\hat{r}_{ui})^2, \n",
    "\\end{align}\n",
    "$$\n",
    "\n",
    "où $\\mathbf{R}$ et $\\hat{\\mathbf{R}}$  sont respectivement les matrices des évaluations observées et prédites, $n$ est le nombre total d'estimations effectuées. De la même façon, $r_{ui}$ and $\\hat{r}_{ui}$ sont des scalaires associés respectivement à l'évaluation observée et l'évaluation estimée de l'usager $u$ pour l'item $i$ .\n",
    "    \n",
    "Puisque nous avons codé la fonction de coût comme étant un attribut de la classe des auto-encodeurs, nous pouvons la définir avec la commande suivante."
   ]
  },
  {
   "cell_type": "code",
   "execution_count": null,
   "id": "cc3f0279",
   "metadata": {
    "id": "EEXLzacKyQbC"
   },
   "outputs": [],
   "source": [
    "ae.criterion = nn.MSELoss()"
   ]
  },
  {
   "cell_type": "markdown",
   "id": "3aeb14a3",
   "metadata": {
    "id": "RGMAyx5TyQbD"
   },
   "source": [
    "##### Question 7\n",
    "\n",
    "7. Si l'EQM nous semble une fonction de coût intéressante dans le cas de système de recommandation avec des données explicites, quelle fonction de coût pertinente aurait pu être implémentée si les données avaient été implicites (évaluations binaires en fonction des préférences)?"
   ]
  },
  {
   "cell_type": "markdown",
   "id": "1a60dbb2",
   "metadata": {
    "id": "plmRF7m8yQbE"
   },
   "source": [
    "#### 2.2.2.2 Optimiseur\n",
    "\n",
    "PyTorch fournit plusieurs <a href=\"http://pytorch.org/docs/master/optim.html#algorithms\">méthodes d'optimisation</a> plus ou moins dérivées de la descente du gradient via la classe torch.optim. Parmi ces techniques, nommons:\n",
    "\n",
    "<ul>\n",
    "<li> SGD (Descente Stochastique du Gradient) : implémentation de SGD.\n",
    "<li> Adam (Adaptive Moment Estimation) : variation de la méthode de descente de gradient où le taux d'apprentissage est ajusté pour chaque paramètre.\n",
    "<li> RMSprop : fonction de coût adaptée aux systèmes de recommandations. Plus de détails<a href=\"http://www.cs.toronto.edu/~tijmen/csc321/slides/lecture_slides_lec6.pdf\"> ici</a>.\n",
    "</ul>\n",
    "\n",
    "Dans tous les cas, lorsque nous utilisons des méthodes d'optimisation itératives, nous devons fournir un pas d'apprentissage (learning rate) et une contrainte sur les poids, pour des raisons similaires à celles évoquées lors du précédent atelier portant sur la <i>factorisation matricielle</i>."
   ]
  },
  {
   "cell_type": "code",
   "execution_count": null,
   "id": "1bc68b4e",
   "metadata": {
    "id": "AUF_1V9FyQbE"
   },
   "outputs": [],
   "source": [
    "learning_rate = 0.02\n",
    "weight_decay = 0.2\n",
    "\n",
    "optimizer = optim.RMSprop(ae.parameters(), lr=learning_rate, weight_decay=weight_decay)"
   ]
  },
  {
   "cell_type": "markdown",
   "id": "e36ddce3",
   "metadata": {
    "id": "gFiTJAkkyQbH"
   },
   "source": [
    "#### 2.2.2.3 Rétropropagation du gradient\n",
    "\n",
    "En Pytorch, la rétropropagation du gradient est simplifiée grâce à la différentiation automatique du gradient et de la classe <a href=\"http://pytorch.org/docs/master/notes/autograd.html\">autograd</a>. Celle-ci se fait en deux temps:\n",
    "\n",
    "1.Calcul de la fonction de coût avec la fonction définie au préalable dans la classe de l'AE.\n",
    "2. Dérivation automatique de la fonction de coût grace à la fonction backward().\n",
    "    \n",
    "L'ensemble du processus de rétropropagation est directement implémenté dans la boucle d'apprentissage définie ci-dessous."
   ]
  },
  {
   "cell_type": "markdown",
   "id": "3ac2bfb6",
   "metadata": {
    "id": "5IZE4qcSyQbH"
   },
   "source": [
    "### 2.2.3 Boucle d'apprentissage\n",
    "\n",
    "Lorsqu'un auto-encodeur (et de façon générale une architecture basée sur l'apprentissage profond) est utilisé comme système de recommandation, la boucle d'apprentissage diffère quelque peu de celle associée aux modèles basés sur la factorisation matricielle. Ainsi, chaque évaluation n'est plus considérée de façon individuelle, comme c'était le cas auparavant, mais est ici considérée sur l'ensemble des évaluations fournies par un individu donné par exemple.\n"
   ]
  },
  {
   "cell_type": "markdown",
   "id": "7142454a",
   "metadata": {
    "id": "5l865Yw4JC4g"
   },
   "source": [
    "##### Question 8\n",
    "\n",
    "a. Complétez la phase de propagation.\n",
    "b. À la fin de chaque époque, quelle statistique serait-il préférable de calculer? Codez-la. Remarque : il est préférable d'initialiser des objets en début de fonction (voir ligne 6)\n",
    "c. Implémentez la phase de rétropropagation.\n",
    "d. Dans la mesure où des données issues de l'ensemble d'entraînement, de validation ou de test peuvent être utilisées dans la fonction fit, quelles condition devrions-nous mettre à la ligne 22?"
   ]
  },
  {
   "cell_type": "code",
   "execution_count": null,
   "id": "fad334e5",
   "metadata": {
    "id": "mdAUWt8vyQbH"
   },
   "outputs": [],
   "source": [
    "def fit(model, x, y, valid=False):\n",
    "    \"\"\"\n",
    "    Args:\n",
    "        model: nom de l'auto-encodeur tel qu'initialisé\n",
    "        x: entrées\n",
    "        y: sorties\n",
    "        valid: variable booléene nous permettant de dire si on veut ajuster les poids du modèle ou nom\n",
    "    Returns:\n",
    "        model: le modèle d'AE, entraîné ou pas\n",
    "        average_loss: scalaire associée à la fonction de perte\n",
    "        s: compteur du nombre d'observations en terme de x\n",
    "    \"\"\"\n",
    "    \n",
    "    nb_obs, nb_items = len(x), len(x[0])\n",
    "    average_loss, s = 0, 0.\n",
    "\n",
    "    for id_user in range(nb_obs):\n",
    "\n",
    "        inputs = Variable(x[id_user]).unsqueeze(0)\n",
    "        target = Variable(y[id_user]).unsqueeze(0)\n",
    "\n",
    "        if torch.sum(target > 0) > 0:\n",
    "            \n",
    "            # Question 8.1: Phase de propagation\n",
    "            estimate = ?\n",
    "    \n",
    "            target.require_grad = False\n",
    "            \n",
    "            # Question 8.3: Phase de rétropropagation\n",
    "            loss = ?\n",
    "            \n",
    "            # Question 8.4: Condition\n",
    "            if ?:\n",
    "                loss.backward()\n",
    "                optimizer.step()\n",
    "    \n",
    "\n",
    "            # Question 8.2: Statistique à calculer\n",
    "            #\n",
    "            s += 1.\n",
    "\n",
    "    return model, average_loss, s"
   ]
  },
  {
   "cell_type": "markdown",
   "id": "729bdecc",
   "metadata": {
    "id": "yYyw2GVlyQbJ"
   },
   "source": [
    "## 2.4 Entraînement de l'AE\n",
    "\n",
    "L'auto-encodeur et les fonctions associées maintenant implémentés, nous pouvons commencer à entraîner le modèle. Encore une fois, le but ici n'est pas d'ajuster les paramètres de façon telle à obtenir le meilleur modèle possible, mais simplement de comprendre le rôle que ceux-ci peuvent jouer en fonction de leur capacité prédictive.\n"
   ]
  },
  {
   "cell_type": "markdown",
   "id": "2fbb28b9",
   "metadata": {
    "id": "AvN6ja4XJJx1"
   },
   "source": [
    "##### Question 9\n",
    "\n",
    "9. Finissez d'implémenter la phase d'entraînement."
   ]
  },
  {
   "cell_type": "code",
   "execution_count": null,
   "id": "9f73a437",
   "metadata": {
    "id": "t-ydW5_KyQbJ"
   },
   "outputs": [],
   "source": [
    "nb_epoch = 20\n",
    "\n",
    "for epoch in range(1, nb_epoch + 1):\n",
    "    \n",
    "    # ...\n",
    " \n",
    "    print(\"epoch: \", \"{:3.0f}\".format(epoch), \"   |   train: \", \"{:1.8f}\".format(train_loss.numpy() / train_s), \\\n",
    "                    '   |   valid: ', \"{:1.8f}\".format(valid_loss.numpy() / valid_s))"
   ]
  },
  {
   "cell_type": "markdown",
   "id": "e9ce4b05",
   "metadata": {
    "id": "IrsVTVVeyQbM"
   },
   "source": [
    "Vous pouvez maintenant manipuler les différents paramètres et hyperparamètres de l'AE. Parmi les différentes modifications que vous pouvez apporter, voici une (courte et non exhaustive) liste des modifications facilement implémentables:\n",
    "\n",
    "1. Changer les hyperparamètres (un peu plate).\n",
    "2. Augmenter la taille de la couche cachée (plus intéressant).\n",
    "3. Ajouter des couches cachées au modèle en prenant soin de bien les initialiser et d'adapter la fonction forward.\n",
    "4. Dichotomiser les données à l'aide d'un seuil (par exemple 3) et rouler l'ensemble du code en adaptant ou pas la fonction de coût tel que discuté précédemment."
   ]
  },
  {
   "cell_type": "markdown",
   "id": "8b1018b9",
   "metadata": {
    "id": "4tcquuEUyQbM"
   },
   "source": [
    "Enfin, nous pouvons évaluer les performances de notre modèle sur l'ensemble test."
   ]
  },
  {
   "cell_type": "code",
   "execution_count": null,
   "id": "ae1f5e0c",
   "metadata": {
    "id": "NHCODYiGyQbN"
   },
   "outputs": [],
   "source": [
    "ae, test_loss, test_s = fit(model=ae, x=test, y=test, valid=True)\n",
    "print('test: ',\"{:1.8f}\".format(test_loss.numpy() / test_s))"
   ]
  },
  {
   "cell_type": "markdown",
   "id": "54906ca8",
   "metadata": {
    "id": "D-ZvlGKkyQbQ"
   },
   "source": [
    "## 2.5 Analyse\n",
    "\n",
    "\n",
    "### 2.5.1 Exploration de la couche latente\n",
    "\n",
    "De façon analogue à ce qui a été présenté dans l'atelier sur la factorisation matricielle, nous pouvons explorer la couche latente de l'AE. Dans la mesure où la couche d'entrée représente l'ensemble des évaluations pour un individu donnée, chaque neurone de la couche latente sera associé à un attribut latent d'un individu.\n",
    "\n",
    "À titre d'exemple, posons $\\mathbf{H}_{|U| \\times k}$ la matrice associée à la couche la tente où chaque ligne représente la représentation latente des préférences pour un usager donné et où chaque colonne représente un neurone de cette même couche. Supposons maintenant que les deux premiers neurones de la couche latente présentent les valeurs suivantes:\n",
    "\n",
    "$$\n",
    "\\begin{align}\n",
    "h_1 &= [1.0, \\ 0.0, \\ -0.5, \\ ..., \\ 1.0, \\ -1.0]\n",
    "\\qquad \\text{and} \\qquad\n",
    "h_2 = [1.0, \\ 0.0, \\ 0.5, \\ ..., \\ -1.0, \\ -0.8].\n",
    "\\end{align}\n",
    "$$\n",
    "\n",
    "Et qu'à ces valeurs correspondent les usagers suivant:\n",
    "\n",
    "1. Serena,\n",
    "2. Kali,\n",
    "3. Neil,\n",
    "4. Marie,\n",
    "5. David.\n",
    "    \n",
    "Nous pourrons dès lors cartographier les usagers en fonction des valeurs associées à $h_1$ et $h_2$:\n",
    "\n",
    "![title](https://github.com/davidberger2785/RS-Workshop/blob/master/Images/hidden_4.png?raw=1)\n",
    "\n",
    "\n",
    "Cette façon de faire pourrait nous permettre d'effectuer des grappes d'individus en fonction des attributs latents. En fait, un rapide coup d'oeil nous permet de penser que les préférences en terme de cinéma de Serena sont à l'opposé de David, ce qui n'a rien de bien surprenant.\n",
    "\n",
    "Avec les commandes suivantes, nouus proposons d'explorer davatange la structure latente de l'AE."
   ]
  },
  {
   "cell_type": "code",
   "execution_count": null,
   "id": "b9736614",
   "metadata": {
    "id": "rzlHsEykyQbQ"
   },
   "outputs": [],
   "source": [
    "x = train\n",
    "hidden = torch.sigmoid(ae.fc1(x)).detach().numpy()"
   ]
  },
  {
   "cell_type": "markdown",
   "id": "b812206d",
   "metadata": {
    "id": "u_oQUsAByQbT"
   },
   "source": [
    "Bien que cette information nous semble informe, nous pourrions nous intéresser, par exemple, aux mesures d'association entre les différentes couches cachées, ou encore une couche cachée et une des caractéristiques sociodémographiques. Pour ce faire, une avenue intéressante serait de simplement calculer les corrélations associées.\n",
    "    \n",
    "Premièrement, en explorant simplement les corrélations entre les différents neurones."
   ]
  },
  {
   "cell_type": "code",
   "execution_count": null,
   "id": "a8f2d25d",
   "metadata": {
    "id": "ebCk3BucyQbT"
   },
   "outputs": [],
   "source": [
    "df = pd.DataFrame(np.array(hidden))\n",
    "f = plt.figure(figsize=(6, 6))\n",
    "plt.matshow(df.corr(), fignum=f.number)\n",
    "plt.xticks(range(df.shape[1]), df.columns, fontsize=10, rotation=0)\n",
    "plt.yticks(range(df.shape[1]), df.columns, fontsize=10)\n",
    "cb = plt.colorbar()\n",
    "cb.ax.tick_params(labelsize=10)"
   ]
  },
  {
   "cell_type": "markdown",
   "id": "f21d3b79",
   "metadata": {
    "id": "p-r0v_i7yQbV"
   },
   "source": [
    "##### Question 10\n",
    "\n",
    "10. Quel neurone de la couche cachée vous semble a priori le plus intéressant? Pourquoi?"
   ]
  },
  {
   "cell_type": "markdown",
   "id": "75e378b2",
   "metadata": {
    "id": "lsY2vDgayQbV"
   },
   "source": [
    "##### Question 11\n",
    "\n",
    "11. L'étude de la couche latente s'est faite ici en fonction des utilisateurs du système. Serait-il possible d'étudier les couches latentes associées aux individus. Si oui, comment?"
   ]
  },
  {
   "cell_type": "markdown",
   "id": "b9a9b1ac",
   "metadata": {
    "id": "3NNUvFz2yQbW"
   },
   "source": [
    "# 3. Applications\n",
    "\n",
    "L'un des objectifs premier des systèmes de recommandation est d'effectuer de recommandations (!) personnalisées pour chacun des utilisateurs. Dès lors, il pourrait être intéressant d'étudier les recommandations effectuées par notre modèle pour un individu spécifique. Il serait également préférable que les recommendations faites ne suggèrent que des films non visionnés par l'usager.\n",
    "\n"
   ]
  },
  {
   "cell_type": "markdown",
   "id": "c4377f8a",
   "metadata": {
    "id": "s-5m512lJoXl"
   },
   "source": [
    "##### Question 12\n",
    "\n",
    "12. Implémentez une courte fonction afin d'effectuer les k meilleures recommandations de films n'ayant pas encore été visionnés pour un usager choisi."
   ]
  },
  {
   "cell_type": "code",
   "execution_count": null,
   "id": "571c3741",
   "metadata": {
    "id": "IPXEtoAdyQbW"
   },
   "outputs": [],
   "source": [
    "def recommendations(model, data, titles, k):\n",
    "    \"\"\"\n",
    "    Args:\n",
    "        model: nom de l'auto-encodeur tel qu'initialisé\n",
    "        data: les évaluations associées à l'usager\n",
    "        titles: listes de titres des objets potentiellement recommandés\n",
    "        k: nombre de recommandations voulues\n",
    "    Return:\n",
    "        names: titres des recommandations\n",
    "        scores: le score qui leur est associé\n",
    "    \"\"\"\n",
    "\n",
    "    # ...\n",
    "    \n",
    "    return ?"
   ]
  },
  {
   "cell_type": "markdown",
   "id": "e25f79a6",
   "metadata": {
    "id": "gkPtOvMIyQbY"
   },
   "source": [
    "Appel de la fonction avec quelques manipulations..."
   ]
  },
  {
   "cell_type": "code",
   "execution_count": null,
   "id": "23482dbc",
   "metadata": {
    "id": "l1PVUkKyyQbY"
   },
   "outputs": [],
   "source": [
    "user_id = 0\n",
    "k=10\n",
    "names, scores = recommendations(ae, (train + valid + test)[user_id], movies['Title'], k)\n",
    "\n",
    "df = pd.DataFrame(np.matrix((names[-k:], scores[-k:])).T, (np.arange(k) + 1).tolist())\n",
    "df.columns = ['Title', 'Predicted rating']\n",
    "df"
   ]
  },
  {
   "cell_type": "markdown",
   "id": "1441b094",
   "metadata": {
    "id": "B8JoYDYdyQba"
   },
   "source": [
    "Comme nous l'avons vu lors de l'atelier portant sur les systèmes de recommandation basés sur la factorisation matricielle, nous pouvons facielement personnaliser les algorithmes en fonction de plusieurs paramètres. À titre d'exemple, nous pourrions implémenter un systèmes proposant les meilleures recommandations en fonction:\n",
    "\n",
    "1. D'un genre de film en particulier.\n",
    "2. D'une préférence minimale souhaitée: un score minimal prédit strictrement supérieur à 4,5 par exemple."
   ]
  },
  {
   "cell_type": "markdown",
   "id": "c913dc17",
   "metadata": {
    "id": "ohnEsX7myQba"
   },
   "source": [
    "##### Question 13\n",
    "\n",
    "13. Est-ce que les recommandations faites pour un même usager sont les mêmes d'un algorithme à l'autre?\n"
   ]
  },
  {
   "cell_type": "markdown",
   "id": "6d0a546a",
   "metadata": {
    "id": "9T5Zy189yQbb"
   },
   "source": [
    "# 4. Autres idées de modélisations\n",
    "\n",
    "Jusqu'à présent, nous n'avons considéré que les évaluations dans notre modèle. Il pourrait être intéressant de considérer d'autres types de modélisations.\n",
    "\n",
    "Par exemple, au lieu d'utiliser les évaluations de films fait par un individu comme couche d'entrée (donc 1682 neurones), nous pourrions utiliser les évaluations des individus pour un film en particulier (et donc 943 neurones en couches d'entrée). Dans la même veine, à cette modélisation, nous pourrions incorporer les différents genre des films et/ou leur année de sortie.\n",
    "\n",
    "Enfin, nous pourrions simplement nous détacher des auto-encodeurs et lorgner d'autres types d'architectures. En considérant les différentes fonctions et classe précédement codées, nous pourrions implémenter un perceptron multicouche. Pour ce faire, les entrées du réseaux seraient exactement les mêmes, à la différence que les cibles ne seraient constituées que de films non visionnés."
   ]
  },
  {
   "cell_type": "markdown",
   "id": "10fb7c92",
   "metadata": {
    "id": "3kWSAmBEyQbc"
   },
   "source": [
    "## 4.1 Utilisation des données sociodémographiques\n",
    "\n",
    "Il pourrait être intéressant de vérifier si l'utilisation des données sociodémographiques des usagers améliore ou non les capacités prédictives du modèle. En fait, dans la mesure où pareilles informations n'amélioreraient que très peu les capacités du modèle, elles pourraient être utiles lorsqu'un nouvel usager compte utiliser le système de recommandation mis en place. Bien qu'imparfaites, les informations associées à l'âge, le genre et l'occupation d'un usager pourraient être utiles pour présenter les premières recommendations.\n",
    "\n",
    "Afin d'observer comment l'AE se comporte avec de telles données, nous devons dans un premier temps modifier les différents ensembles afin que ceux-ci présentent les informations sociodémographiques de chaque usager."
   ]
  },
  {
   "cell_type": "code",
   "execution_count": null,
   "id": "c3f93f2d",
   "metadata": {
    "id": "Mzq15h9TyQbc"
   },
   "outputs": [],
   "source": [
    "train_inputs = torch.FloatTensor(utl.inner_concatenation(user_attributes, train_0[0]))\n",
    "train_outputs = torch.FloatTensor(train_0[0])\n",
    "\n",
    "valid_inputs = torch.FloatTensor(utl.inner_concatenation(user_attributes, train_0[1]))\n",
    "valid_outputs = torch.FloatTensor(train_0[1])\n",
    "\n",
    "test_inputs = torch.FloatTensor(utl.inner_concatenation(user_attributes, test_set))\n",
    "test_outputs = torch.FloatTensor(test_set)"
   ]
  },
  {
   "cell_type": "markdown",
   "id": "aa258154",
   "metadata": {
    "id": "a-KippqOyQbh"
   },
   "source": [
    "##### Question 14\n",
    "\n",
    "14. Initialisez l'auto-encodeur."
   ]
  },
  {
   "cell_type": "code",
   "execution_count": null,
   "id": "fc189f17",
   "metadata": {
    "id": "F07Bdo-xyQbh"
   },
   "outputs": [],
   "source": [
    "#TO-DO"
   ]
  },
  {
   "cell_type": "markdown",
   "id": "19abd5cc",
   "metadata": {
    "id": "z6MteKllyQbj"
   },
   "source": [
    "##### Question 15\n",
    "\n",
    "15. Implémentez la phase d'entraînement."
   ]
  },
  {
   "cell_type": "code",
   "execution_count": null,
   "id": "2435a33c",
   "metadata": {
    "id": "uGREkaBCyQbk"
   },
   "outputs": [],
   "source": [
    "#TO-DO"
   ]
  },
  {
   "cell_type": "markdown",
   "id": "d8c2bd8e",
   "metadata": {
    "id": "mYhkBa1ryQbm"
   },
   "source": [
    "##### Question 16\n",
    "\n",
    "16. Calculez les performances sur l'ensemble test."
   ]
  },
  {
   "cell_type": "code",
   "execution_count": null,
   "id": "cd3c8c03",
   "metadata": {
    "id": "G6XQvsfwyQbm"
   },
   "outputs": [],
   "source": [
    "#TO-DO"
   ]
  },
  {
   "cell_type": "markdown",
   "id": "49db1473",
   "metadata": {
    "id": "0IwUVsx4yQbo"
   },
   "source": [
    "### 4.1.1 Problème du démarrage à froid\n",
    "\n",
    "En fait, et tel que mentionné précédemment, au-delà d'améliorer les performances du modèle en fonction de la métrique choisie, l'incorporation de variables sociodémographiques dans le modèle permet d'effectuer des recommandations à un nouvel utilisateur simplement en fonction de ses attributs. Cette modélisation permet de contrecarrer le problème de démarrage à froid ou mieux connu sous le nom de cold start.\n"
   ]
  },
  {
   "cell_type": "markdown",
   "id": "7433ad80",
   "metadata": {
    "id": "Ef4d7Y_oJ1zb"
   },
   "source": [
    "##### Question 17\n",
    "\n",
    "1. Fixer l'âge, le genre et l'occupation d'un individu.\n",
    "    \n",
    "2. Considérer que ce-dernier n'a encore évaluer aucun film.\n",
    "\n",
    "3. Présentez-lui, selon le modèle estimée, les meilleures recommandations de films.\n",
    "\n",
    "4. Faites varier les attributs de l'individus.\n",
    "\n",
    "5. Que remarquez-vous?\n",
    "\n",
    "\n"
   ]
  },
  {
   "cell_type": "code",
   "execution_count": null,
   "id": "3fe478a8",
   "metadata": {
    "id": "43OfivOOyQbo"
   },
   "outputs": [],
   "source": [
    "# Question 17.1: Fixez les attributs d'un individu\n",
    "age = [?]\n",
    "gender = [?]\n",
    "\n",
    "occupation = np.zeros(len(occupation_name))\n",
    "\n",
    "occupation[occupation_name.tolist().index('artist')] = 1\n",
    "\n",
    "# Question 17.2: Aucun film\n",
    "\n",
    "\n",
    "# Question 17.3: Meilleures recommandations"
   ]
  }
 ],
 "metadata": {
  "jupytext": {
   "formats": "ipynb,md"
  },
  "kernelspec": {
   "display_name": "Python 3",
   "language": "python",
   "name": "python3"
  }
 },
 "nbformat": 4,
 "nbformat_minor": 5
}
