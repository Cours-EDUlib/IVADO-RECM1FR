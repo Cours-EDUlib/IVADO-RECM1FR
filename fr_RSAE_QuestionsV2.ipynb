{
  "cells": [
    {
      "cell_type": "markdown",
      "metadata": {
        "id": "view-in-github",
        "colab_type": "text"
      },
      "source": [
        "<a href=\"https://colab.research.google.com/github/Cours-EDUlib/IVADO-RECM1FR/blob/main/fr_RSAE_QuestionsV2.ipynb\" target=\"_parent\"><img src=\"https://colab.research.google.com/assets/colab-badge.svg\" alt=\"Open In Colab\"/></a>"
      ]
    },
    {
      "cell_type": "markdown",
      "metadata": {
        "id": "WnL-1XGEt_M4"
      },
      "source": [
        "#  Recommandation de films à l'aide des auto-encodeurs\n",
        "## IVADO - Cours en ligne sur les systèmes de recommandation\n",
        "\n",
        "Le présent tutoriel est une adaptation du contenu initialement créé pour l'atelier sur les systèmes de recommandation d’IVADO en août 2019.\n",
        "\n",
        "<b> Auteurs: </b>\n",
        "\n",
        "David Berger \n",
        "\n",
        "Laurent Charlin \n",
        "\n",
        "Nissan Pow "
      ]
    },
    {
      "cell_type": "markdown",
      "metadata": {
        "id": "mPjGr7lUt_M6"
      },
      "source": [
        "# 1. Introduction\n",
        "\n",
        "Dans cet atelier, nous proposons d'implémenter un système de recommandation basé sur un auto-encodeur (AE), une architecture classique en apprentissage profond. Tout comme lors du volet de l'atelier portant sur les modèles utilisant la factorisation matricielle, nous utiliserons la base de données <a href=\"https://grouplens.org/datasets/movielens/\">MovieLens</a> afin d'entraîner nos modèles, mener certaines expériences et comparer nos résultats avec d'autres types d'architectures."
      ]
    },
    {
      "cell_type": "markdown",
      "metadata": {
        "id": "lfCHRmn5t_M7"
      },
      "source": [
        "## 1.1 Installation des librairies\n",
        "\n",
        "Avant de commencer, nous devons nous assurer d'installer les librairies nécessaires pour le tutoriel à l'aide de `pip`.  Pour ce faire, exécutez la cellule suivante en la sélectionnant et en cliquant `shift`+`Enter`. Ceci peut prendre quelques minutes."
      ]
    },
    {
      "cell_type": "code",
      "execution_count": null,
      "metadata": {
        "colab": {
          "base_uri": "https://localhost:8080/"
        },
        "id": "UWqe_4Bgt_M7",
        "outputId": "83cb1d84-42df-4c56-bdea-460d07bbcb08"
      },
      "outputs": [
        {
          "output_type": "stream",
          "name": "stdout",
          "text": [
            "Cloning into 'RS-Workshop'...\n",
            "remote: Enumerating objects: 49, done.\u001b[K\n",
            "remote: Total 49 (delta 0), reused 0 (delta 0), pack-reused 49\u001b[K\n",
            "Unpacking objects: 100% (49/49), done.\n"
          ]
        }
      ],
      "source": [
        "!rm -rf RS-Workshop\n",
        "!git clone https://github.com/davidberger2785/RS-Workshop"
      ]
    },
    {
      "cell_type": "markdown",
      "metadata": {
        "id": "LAB7ksMEt_M9"
      },
      "source": [
        "Afin de vous assurer que l'installation ait eu lieu, importez toutes les libraries et modules dont nous nous servirons pour cet atelier en exécutant la prochaine cellule."
      ]
    },
    {
      "cell_type": "code",
      "execution_count": null,
      "metadata": {
        "id": "LBMPgicHt_M9"
      },
      "outputs": [],
      "source": [
        "import numpy as np\n",
        "import pandas as pd\n",
        "\n",
        "# Data vizualisation\n",
        "import matplotlib.pyplot as plt\n",
        "import seaborn as sns\n",
        "\n",
        "import os\n",
        "import sys\n",
        "\n",
        "# Homemade functions\n",
        "sys.path += ['RS-Workshop/Tutoriels - En/']\n",
        "import utilities as utl"
      ]
    },
    {
      "cell_type": "markdown",
      "metadata": {
        "id": "f7KxjGSgt_M9"
      },
      "source": [
        "Nous avons également écrit quelques fonctions passe-partout que nous avons regroupées dans la librairie `utilities`. En fait, ces différentes fonctions existent fort probablement déjà en python, mais nous en ignorons simplement l'existence..."
      ]
    },
    {
      "cell_type": "markdown",
      "metadata": {
        "id": "XwuZGBHYt_M-"
      },
      "source": [
        "## 1.2 Objectif\n",
        "\n",
        "De façon générale, l'objectif d'un système de recommandation est, comme son nom l'indique, d'effectuer des recommandations personnalisées à chacun des utilisateurs. Idéalement, ces recommandations devront être bonnes, bien que ce concept puisse rapidement devenir flou. Contrairement à d'autres tâches en apprentissage automatique, telle la reconnaissance d'images de chats ou la prédiction du cours d'une action en bourse, effectuer des recommandations de manière à aider un utilisateur est d'autant plus complexe que ce problème est plus ou moins bien défini. Cherchons-nous à présenter à un utilisateur précis des suggestions le confortant dans ses choix antérieurs? Ou enconre, voulons-nous lui présenter des suggestions complémentaires ou totalement indépendantes des items précédemment considérés? Enfin, tenterons-nous plutôt de lui présenter des items auxquels il n'a pas encore été exposé? Chacune des ces options sont légitimes et pourront être modélisées. Sans perte de généralités, le schéma ci-dessous modélise simplement la problématique des systèmes de recommandation sous l'angle de l'apprentissage automatique.\n",
        "\n",
        "![title](https://github.com/davidberger2785/RS-Workshop/blob/master/Images/High_level_1.png?raw=1)\n",
        "\n",
        "N'empêche, dans le cadre de cet atelier et en considérant le contexte dans lequel nous sommes plongés, soit la suggestion de films comme le font Netflix ou Amazon Prime, nous pouvons réduire le problème à une tâche relativement simple: recommander des films que l'utilisateur va aimer en fonction de ses intérêts passés. Afin de mener à bien cette tâche, nous utiliserons l'ensemble des préférences des usagers, certaines variables sociodémographiques associées de même que certaines caractéristiques des films. Enfin, nous pouvons rafiner le schéma ainsi: \n",
        "\n",
        "![title](https://github.com/davidberger2785/RS-Workshop/blob/master/Images/High_level_2.png?raw=1)\n"
      ]
    },
    {
      "cell_type": "markdown",
      "metadata": {
        "id": "7CgQtoA9t_M-"
      },
      "source": [
        "## 1.3 Jeu de données  - MoviesLens 100k\n",
        "\n",
        "Les données que nous allons manipuler afin d'explorer différents types de systèmes de recommandation sont celles associées au projet <a href=\"https://grouplens.org/datasets/movielens/\"> MovieLens</a>. Brièvement, les données utilisées consistent ici en plus ou moins 100 000 évaluations de films effectuées par 943 utilisateurs et où un ensemble de 1 682 films étaient disponibles en visionnement. En plus des 100 000 évaluations à notre disposition, nous avons des informations complémentaires liées à chacun des usagers de même qu'à chacun des films.\n",
        "\n",
        "En somme, nous allons utiliser un total de trois jeux de données afin de mener à bien nos analyses soit: \n",
        "\n",
        "<ul>\n",
        "<li> Users : contenant des informations associées aux caractéristiques des utilisateurs,\n",
        "<li> Movies : contenant des informations associées aux caractéristiques des films en visionnement,\n",
        "<li> Ratings : contenant l'ensemble des 100 000 évaluations effectuées par les utilisateurs.\n",
        "</ul>\n",
        "\n",
        "Nous utiliserons la librairie <a href=\"https://pandas.pydata.org/\">Pandas</a> pour télécharger la base de données."
      ]
    },
    {
      "cell_type": "markdown",
      "metadata": {
        "scrolled": true,
        "id": "B7Rl0we8t_M-"
      },
      "source": [
        "### 1.3.1 Users: Importation et prétraitement des données"
      ]
    },
    {
      "cell_type": "code",
      "execution_count": null,
      "metadata": {
        "colab": {
          "base_uri": "https://localhost:8080/",
          "height": 206
        },
        "id": "ZhPsxg-qt_M_",
        "outputId": "2d2eff18-52e7-4522-b039-e49c262e40e9"
      },
      "outputs": [
        {
          "output_type": "execute_result",
          "data": {
            "text/plain": [
              "   Index  Age Gender  Occupation Zip code\n",
              "0      1   24      M  technician    85711\n",
              "1      2   53      F       other    94043\n",
              "2      3   23      M      writer    32067\n",
              "3      4   24      M  technician    43537\n",
              "4      5   33      F       other    15213"
            ],
            "text/html": [
              "\n",
              "  <div id=\"df-4b912924-94e7-425a-b3b2-ce1a85389571\">\n",
              "    <div class=\"colab-df-container\">\n",
              "      <div>\n",
              "<style scoped>\n",
              "    .dataframe tbody tr th:only-of-type {\n",
              "        vertical-align: middle;\n",
              "    }\n",
              "\n",
              "    .dataframe tbody tr th {\n",
              "        vertical-align: top;\n",
              "    }\n",
              "\n",
              "    .dataframe thead th {\n",
              "        text-align: right;\n",
              "    }\n",
              "</style>\n",
              "<table border=\"1\" class=\"dataframe\">\n",
              "  <thead>\n",
              "    <tr style=\"text-align: right;\">\n",
              "      <th></th>\n",
              "      <th>Index</th>\n",
              "      <th>Age</th>\n",
              "      <th>Gender</th>\n",
              "      <th>Occupation</th>\n",
              "      <th>Zip code</th>\n",
              "    </tr>\n",
              "  </thead>\n",
              "  <tbody>\n",
              "    <tr>\n",
              "      <th>0</th>\n",
              "      <td>1</td>\n",
              "      <td>24</td>\n",
              "      <td>M</td>\n",
              "      <td>technician</td>\n",
              "      <td>85711</td>\n",
              "    </tr>\n",
              "    <tr>\n",
              "      <th>1</th>\n",
              "      <td>2</td>\n",
              "      <td>53</td>\n",
              "      <td>F</td>\n",
              "      <td>other</td>\n",
              "      <td>94043</td>\n",
              "    </tr>\n",
              "    <tr>\n",
              "      <th>2</th>\n",
              "      <td>3</td>\n",
              "      <td>23</td>\n",
              "      <td>M</td>\n",
              "      <td>writer</td>\n",
              "      <td>32067</td>\n",
              "    </tr>\n",
              "    <tr>\n",
              "      <th>3</th>\n",
              "      <td>4</td>\n",
              "      <td>24</td>\n",
              "      <td>M</td>\n",
              "      <td>technician</td>\n",
              "      <td>43537</td>\n",
              "    </tr>\n",
              "    <tr>\n",
              "      <th>4</th>\n",
              "      <td>5</td>\n",
              "      <td>33</td>\n",
              "      <td>F</td>\n",
              "      <td>other</td>\n",
              "      <td>15213</td>\n",
              "    </tr>\n",
              "  </tbody>\n",
              "</table>\n",
              "</div>\n",
              "      <button class=\"colab-df-convert\" onclick=\"convertToInteractive('df-4b912924-94e7-425a-b3b2-ce1a85389571')\"\n",
              "              title=\"Convert this dataframe to an interactive table.\"\n",
              "              style=\"display:none;\">\n",
              "        \n",
              "  <svg xmlns=\"http://www.w3.org/2000/svg\" height=\"24px\"viewBox=\"0 0 24 24\"\n",
              "       width=\"24px\">\n",
              "    <path d=\"M0 0h24v24H0V0z\" fill=\"none\"/>\n",
              "    <path d=\"M18.56 5.44l.94 2.06.94-2.06 2.06-.94-2.06-.94-.94-2.06-.94 2.06-2.06.94zm-11 1L8.5 8.5l.94-2.06 2.06-.94-2.06-.94L8.5 2.5l-.94 2.06-2.06.94zm10 10l.94 2.06.94-2.06 2.06-.94-2.06-.94-.94-2.06-.94 2.06-2.06.94z\"/><path d=\"M17.41 7.96l-1.37-1.37c-.4-.4-.92-.59-1.43-.59-.52 0-1.04.2-1.43.59L10.3 9.45l-7.72 7.72c-.78.78-.78 2.05 0 2.83L4 21.41c.39.39.9.59 1.41.59.51 0 1.02-.2 1.41-.59l7.78-7.78 2.81-2.81c.8-.78.8-2.07 0-2.86zM5.41 20L4 18.59l7.72-7.72 1.47 1.35L5.41 20z\"/>\n",
              "  </svg>\n",
              "      </button>\n",
              "      \n",
              "  <style>\n",
              "    .colab-df-container {\n",
              "      display:flex;\n",
              "      flex-wrap:wrap;\n",
              "      gap: 12px;\n",
              "    }\n",
              "\n",
              "    .colab-df-convert {\n",
              "      background-color: #E8F0FE;\n",
              "      border: none;\n",
              "      border-radius: 50%;\n",
              "      cursor: pointer;\n",
              "      display: none;\n",
              "      fill: #1967D2;\n",
              "      height: 32px;\n",
              "      padding: 0 0 0 0;\n",
              "      width: 32px;\n",
              "    }\n",
              "\n",
              "    .colab-df-convert:hover {\n",
              "      background-color: #E2EBFA;\n",
              "      box-shadow: 0px 1px 2px rgba(60, 64, 67, 0.3), 0px 1px 3px 1px rgba(60, 64, 67, 0.15);\n",
              "      fill: #174EA6;\n",
              "    }\n",
              "\n",
              "    [theme=dark] .colab-df-convert {\n",
              "      background-color: #3B4455;\n",
              "      fill: #D2E3FC;\n",
              "    }\n",
              "\n",
              "    [theme=dark] .colab-df-convert:hover {\n",
              "      background-color: #434B5C;\n",
              "      box-shadow: 0px 1px 3px 1px rgba(0, 0, 0, 0.15);\n",
              "      filter: drop-shadow(0px 1px 2px rgba(0, 0, 0, 0.3));\n",
              "      fill: #FFFFFF;\n",
              "    }\n",
              "  </style>\n",
              "\n",
              "      <script>\n",
              "        const buttonEl =\n",
              "          document.querySelector('#df-4b912924-94e7-425a-b3b2-ce1a85389571 button.colab-df-convert');\n",
              "        buttonEl.style.display =\n",
              "          google.colab.kernel.accessAllowed ? 'block' : 'none';\n",
              "\n",
              "        async function convertToInteractive(key) {\n",
              "          const element = document.querySelector('#df-4b912924-94e7-425a-b3b2-ce1a85389571');\n",
              "          const dataTable =\n",
              "            await google.colab.kernel.invokeFunction('convertToInteractive',\n",
              "                                                     [key], {});\n",
              "          if (!dataTable) return;\n",
              "\n",
              "          const docLinkHtml = 'Like what you see? Visit the ' +\n",
              "            '<a target=\"_blank\" href=https://colab.research.google.com/notebooks/data_table.ipynb>data table notebook</a>'\n",
              "            + ' to learn more about interactive tables.';\n",
              "          element.innerHTML = '';\n",
              "          dataTable['output_type'] = 'display_data';\n",
              "          await google.colab.output.renderOutput(dataTable, element);\n",
              "          const docLink = document.createElement('div');\n",
              "          docLink.innerHTML = docLinkHtml;\n",
              "          element.appendChild(docLink);\n",
              "        }\n",
              "      </script>\n",
              "    </div>\n",
              "  </div>\n",
              "  "
            ]
          },
          "metadata": {},
          "execution_count": 3
        }
      ],
      "source": [
        "# Téléchargement des données\n",
        "ROOT_DIR = 'RS-Workshop/'\n",
        "DATA_DIR = os.path.join(ROOT_DIR, 'data/ml-100k/')\n",
        "\n",
        "users = pd.read_csv(os.path.join(DATA_DIR, 'u.user'), \n",
        "                        sep='|', header=None, engine='python', encoding='latin-1')\n",
        "# Nous définissons les différentes variables en fonction de l'information fournie dans le fichier 'readme'\n",
        "users.columns = ['Index', 'Age', 'Gender', 'Occupation', 'Zip code']\n",
        "\n",
        "# Bref aperçu\n",
        "users.head()"
      ]
    },
    {
      "cell_type": "markdown",
      "metadata": {
        "id": "5GA_z6Cat_M_"
      },
      "source": [
        "Avant de présenter les statistiques descriptives liées à la population étudiée, nous allons dans un premier temps traiter les données associées aux usagers sous la forme d'une <a href=\"https://fr.wikipedia.org/wiki/Liste_(informatique)\">liste</a> afin de pouvoir plus aisément les manipuler. Notons que l'occupation de chaque individu étant une chaîne de caractères, nous avons recodé les 21 occupations possibles en booléen."
      ]
    },
    {
      "cell_type": "code",
      "execution_count": null,
      "metadata": {
        "id": "sXd40kc9t_M_"
      },
      "outputs": [],
      "source": [
        "# Nombre d'utilisateurs et d'utilisatrices\n",
        "nb_users = len(users)\n",
        "\n",
        "# Sexe\n",
        "gender = np.where(np.matrix(users['Gender']) == 'M', 0, 1)[0]\n",
        "\n",
        "# Occupation\n",
        "occupation_name = np.array(pd.read_csv(os.path.join(DATA_DIR, 'u.occupation'), \n",
        "                                            sep='|', header=None, engine='python', encoding='latin-1').loc[:, 0])\n",
        "\n",
        "# Recodage en booléen de la variable occupation\n",
        "occupation_matrix = np.zeros((nb_users, len(occupation_name)))\n",
        "\n",
        "for k in np.arange(nb_users):\n",
        "    occupation_matrix[k, occupation_name.tolist().index(users['Occupation'][k])] = 1\n",
        "\n",
        "# Concatenation des différentes données sociodémographiques sous forme de liste\n",
        "user_attributes = np.concatenate((np.matrix(users['Age']), np.matrix(gender), occupation_matrix.T)).T.tolist()"
      ]
    },
    {
      "cell_type": "markdown",
      "metadata": {
        "id": "Dv5Odt0ot_NA"
      },
      "source": [
        "Nous explorons par la suite les différentes statistiques descriptives associées aux usagers. Celles-ci comportent des informations en lien avec l'âge (variable continue), le sexe (variable binaire) et l'occupation de chacun des usagers (au nombre de 21, toutes binaires). "
      ]
    },
    {
      "cell_type": "markdown",
      "metadata": {
        "id": "9w3BzeDZt_NA"
      },
      "source": [
        "Statistiques descriptives associées à l'âge."
      ]
    },
    {
      "cell_type": "code",
      "execution_count": null,
      "metadata": {
        "colab": {
          "base_uri": "https://localhost:8080/",
          "height": 81
        },
        "id": "p62XtVJtt_NA",
        "outputId": "bfae95ba-fd3c-44f6-c9b1-361ea4caa35e"
      },
      "outputs": [
        {
          "output_type": "execute_result",
          "data": {
            "text/plain": [
              "     count       mean       std  min   25%   50%   75%   max\n",
              "Age  943.0  34.051962  12.19274  7.0  25.0  31.0  43.0  73.0"
            ],
            "text/html": [
              "\n",
              "  <div id=\"df-a1e345bc-9a90-493b-8bdd-5249e927d67f\">\n",
              "    <div class=\"colab-df-container\">\n",
              "      <div>\n",
              "<style scoped>\n",
              "    .dataframe tbody tr th:only-of-type {\n",
              "        vertical-align: middle;\n",
              "    }\n",
              "\n",
              "    .dataframe tbody tr th {\n",
              "        vertical-align: top;\n",
              "    }\n",
              "\n",
              "    .dataframe thead th {\n",
              "        text-align: right;\n",
              "    }\n",
              "</style>\n",
              "<table border=\"1\" class=\"dataframe\">\n",
              "  <thead>\n",
              "    <tr style=\"text-align: right;\">\n",
              "      <th></th>\n",
              "      <th>count</th>\n",
              "      <th>mean</th>\n",
              "      <th>std</th>\n",
              "      <th>min</th>\n",
              "      <th>25%</th>\n",
              "      <th>50%</th>\n",
              "      <th>75%</th>\n",
              "      <th>max</th>\n",
              "    </tr>\n",
              "  </thead>\n",
              "  <tbody>\n",
              "    <tr>\n",
              "      <th>Age</th>\n",
              "      <td>943.0</td>\n",
              "      <td>34.051962</td>\n",
              "      <td>12.19274</td>\n",
              "      <td>7.0</td>\n",
              "      <td>25.0</td>\n",
              "      <td>31.0</td>\n",
              "      <td>43.0</td>\n",
              "      <td>73.0</td>\n",
              "    </tr>\n",
              "  </tbody>\n",
              "</table>\n",
              "</div>\n",
              "      <button class=\"colab-df-convert\" onclick=\"convertToInteractive('df-a1e345bc-9a90-493b-8bdd-5249e927d67f')\"\n",
              "              title=\"Convert this dataframe to an interactive table.\"\n",
              "              style=\"display:none;\">\n",
              "        \n",
              "  <svg xmlns=\"http://www.w3.org/2000/svg\" height=\"24px\"viewBox=\"0 0 24 24\"\n",
              "       width=\"24px\">\n",
              "    <path d=\"M0 0h24v24H0V0z\" fill=\"none\"/>\n",
              "    <path d=\"M18.56 5.44l.94 2.06.94-2.06 2.06-.94-2.06-.94-.94-2.06-.94 2.06-2.06.94zm-11 1L8.5 8.5l.94-2.06 2.06-.94-2.06-.94L8.5 2.5l-.94 2.06-2.06.94zm10 10l.94 2.06.94-2.06 2.06-.94-2.06-.94-.94-2.06-.94 2.06-2.06.94z\"/><path d=\"M17.41 7.96l-1.37-1.37c-.4-.4-.92-.59-1.43-.59-.52 0-1.04.2-1.43.59L10.3 9.45l-7.72 7.72c-.78.78-.78 2.05 0 2.83L4 21.41c.39.39.9.59 1.41.59.51 0 1.02-.2 1.41-.59l7.78-7.78 2.81-2.81c.8-.78.8-2.07 0-2.86zM5.41 20L4 18.59l7.72-7.72 1.47 1.35L5.41 20z\"/>\n",
              "  </svg>\n",
              "      </button>\n",
              "      \n",
              "  <style>\n",
              "    .colab-df-container {\n",
              "      display:flex;\n",
              "      flex-wrap:wrap;\n",
              "      gap: 12px;\n",
              "    }\n",
              "\n",
              "    .colab-df-convert {\n",
              "      background-color: #E8F0FE;\n",
              "      border: none;\n",
              "      border-radius: 50%;\n",
              "      cursor: pointer;\n",
              "      display: none;\n",
              "      fill: #1967D2;\n",
              "      height: 32px;\n",
              "      padding: 0 0 0 0;\n",
              "      width: 32px;\n",
              "    }\n",
              "\n",
              "    .colab-df-convert:hover {\n",
              "      background-color: #E2EBFA;\n",
              "      box-shadow: 0px 1px 2px rgba(60, 64, 67, 0.3), 0px 1px 3px 1px rgba(60, 64, 67, 0.15);\n",
              "      fill: #174EA6;\n",
              "    }\n",
              "\n",
              "    [theme=dark] .colab-df-convert {\n",
              "      background-color: #3B4455;\n",
              "      fill: #D2E3FC;\n",
              "    }\n",
              "\n",
              "    [theme=dark] .colab-df-convert:hover {\n",
              "      background-color: #434B5C;\n",
              "      box-shadow: 0px 1px 3px 1px rgba(0, 0, 0, 0.15);\n",
              "      filter: drop-shadow(0px 1px 2px rgba(0, 0, 0, 0.3));\n",
              "      fill: #FFFFFF;\n",
              "    }\n",
              "  </style>\n",
              "\n",
              "      <script>\n",
              "        const buttonEl =\n",
              "          document.querySelector('#df-a1e345bc-9a90-493b-8bdd-5249e927d67f button.colab-df-convert');\n",
              "        buttonEl.style.display =\n",
              "          google.colab.kernel.accessAllowed ? 'block' : 'none';\n",
              "\n",
              "        async function convertToInteractive(key) {\n",
              "          const element = document.querySelector('#df-a1e345bc-9a90-493b-8bdd-5249e927d67f');\n",
              "          const dataTable =\n",
              "            await google.colab.kernel.invokeFunction('convertToInteractive',\n",
              "                                                     [key], {});\n",
              "          if (!dataTable) return;\n",
              "\n",
              "          const docLinkHtml = 'Like what you see? Visit the ' +\n",
              "            '<a target=\"_blank\" href=https://colab.research.google.com/notebooks/data_table.ipynb>data table notebook</a>'\n",
              "            + ' to learn more about interactive tables.';\n",
              "          element.innerHTML = '';\n",
              "          dataTable['output_type'] = 'display_data';\n",
              "          await google.colab.output.renderOutput(dataTable, element);\n",
              "          const docLink = document.createElement('div');\n",
              "          docLink.innerHTML = docLinkHtml;\n",
              "          element.appendChild(docLink);\n",
              "        }\n",
              "      </script>\n",
              "    </div>\n",
              "  </div>\n",
              "  "
            ]
          },
          "metadata": {},
          "execution_count": 5
        }
      ],
      "source": [
        "pd.DataFrame(users['Age'].describe()).T"
      ]
    },
    {
      "cell_type": "markdown",
      "metadata": {
        "id": "X8r22PHat_NA"
      },
      "source": [
        "Diagramme à bandes pour la stastistique associée au sexe."
      ]
    },
    {
      "cell_type": "code",
      "execution_count": null,
      "metadata": {
        "colab": {
          "base_uri": "https://localhost:8080/",
          "height": 307
        },
        "id": "zb5KMeLKt_NA",
        "outputId": "7c4908b3-a40f-483a-e346-ef6cbd5ffcf2"
      },
      "outputs": [
        {
          "output_type": "display_data",
          "data": {
            "text/plain": [
              "<Figure size 432x288 with 1 Axes>"
            ],
            "image/png": "[encoded data removed]"
          },
          "metadata": {}
        }
      ],
      "source": [
        "utl.barplot(['Women', 'Men'], np.array([np.mean(gender) , 1 - np.mean(gender)]) * 100, \n",
        "            'Sex', 'Percentage (%)', \"User's gender\", 0)"
      ]
    },
    {
      "cell_type": "markdown",
      "metadata": {
        "id": "XD29taR1t_NA"
      },
      "source": [
        "Diagramme à bandes pour la stastistique associée à l'occupation des individus."
      ]
    },
    {
      "cell_type": "code",
      "execution_count": null,
      "metadata": {
        "colab": {
          "base_uri": "https://localhost:8080/",
          "height": 369
        },
        "id": "RV1C9pPQt_NB",
        "outputId": "cece1ccf-aa86-4f72-af26-fb38eef938e6"
      },
      "outputs": [
        {
          "output_type": "display_data",
          "data": {
            "text/plain": [
              "<Figure size 432x288 with 1 Axes>"
            ],
            "image/png": "[encoded data removed]"
          },
          "metadata": {}
        }
      ],
      "source": [
        "attributes, scores = utl.rearrange(occupation_name, np.mean(occupation_matrix, axis=0) * 100)\n",
        "utl.barplot(attributes, scores, 'Occupation', 'Percentage (%)', \"User's occupation\", 90)"
      ]
    },
    {
      "cell_type": "markdown",
      "metadata": {
        "id": "_r8Kh07jt_NC"
      },
      "source": [
        "### 1.3.2 Movies: Importation et reformatage des données\n",
        "\n",
        "De la même façon, nous allons traiter et explorer les données associées aux films. Pour chacun d'eux, nous disposons du titre, de la date de sortie en Amérique du Nord, de même que les genres auxquels il est associé."
      ]
    },
    {
      "cell_type": "code",
      "execution_count": null,
      "metadata": {
        "colab": {
          "base_uri": "https://localhost:8080/",
          "height": 473
        },
        "id": "Ee3RhyGKt_NC",
        "outputId": "d97ecfe5-de2e-44da-b234-c260952159c8"
      },
      "outputs": [
        {
          "output_type": "execute_result",
          "data": {
            "text/plain": [
              "   Index              Title      Release  The Not a Number column  \\\n",
              "0      1   Toy Story (1995)  01-Jan-1995                      NaN   \n",
              "1      2   GoldenEye (1995)  01-Jan-1995                      NaN   \n",
              "2      3  Four Rooms (1995)  01-Jan-1995                      NaN   \n",
              "3      4  Get Shorty (1995)  01-Jan-1995                      NaN   \n",
              "4      5     Copycat (1995)  01-Jan-1995                      NaN   \n",
              "\n",
              "                                                Imdb  unknown  Action  \\\n",
              "0  http://us.imdb.com/M/title-exact?Toy%20Story%2...        0       0   \n",
              "1  http://us.imdb.com/M/title-exact?GoldenEye%20(...        0       1   \n",
              "2  http://us.imdb.com/M/title-exact?Four%20Rooms%...        0       0   \n",
              "3  http://us.imdb.com/M/title-exact?Get%20Shorty%...        0       1   \n",
              "4  http://us.imdb.com/M/title-exact?Copycat%20(1995)        0       0   \n",
              "\n",
              "   Adventure  Animation  Children's  ...  Fantasy  Film-Noir  Horror  Musical  \\\n",
              "0          0          1           1  ...        0          0       0        0   \n",
              "1          1          0           0  ...        0          0       0        0   \n",
              "2          0          0           0  ...        0          0       0        0   \n",
              "3          0          0           0  ...        0          0       0        0   \n",
              "4          0          0           0  ...        0          0       0        0   \n",
              "\n",
              "   Mystery  Romance  Sci-Fi  Thriller  War  Western  \n",
              "0        0        0       0         0    0        0  \n",
              "1        0        0       0         1    0        0  \n",
              "2        0        0       0         1    0        0  \n",
              "3        0        0       0         0    0        0  \n",
              "4        0        0       0         1    0        0  \n",
              "\n",
              "[5 rows x 24 columns]"
            ],
            "text/html": [
              "\n",
              "  <div id=\"df-59690df3-6092-4033-99e9-760e8e2add84\">\n",
              "    <div class=\"colab-df-container\">\n",
              "      <div>\n",
              "<style scoped>\n",
              "    .dataframe tbody tr th:only-of-type {\n",
              "        vertical-align: middle;\n",
              "    }\n",
              "\n",
              "    .dataframe tbody tr th {\n",
              "        vertical-align: top;\n",
              "    }\n",
              "\n",
              "    .dataframe thead th {\n",
              "        text-align: right;\n",
              "    }\n",
              "</style>\n",
              "<table border=\"1\" class=\"dataframe\">\n",
              "  <thead>\n",
              "    <tr style=\"text-align: right;\">\n",
              "      <th></th>\n",
              "      <th>Index</th>\n",
              "      <th>Title</th>\n",
              "      <th>Release</th>\n",
              "      <th>The Not a Number column</th>\n",
              "      <th>Imdb</th>\n",
              "      <th>unknown</th>\n",
              "      <th>Action</th>\n",
              "      <th>Adventure</th>\n",
              "      <th>Animation</th>\n",
              "      <th>Children's</th>\n",
              "      <th>...</th>\n",
              "      <th>Fantasy</th>\n",
              "      <th>Film-Noir</th>\n",
              "      <th>Horror</th>\n",
              "      <th>Musical</th>\n",
              "      <th>Mystery</th>\n",
              "      <th>Romance</th>\n",
              "      <th>Sci-Fi</th>\n",
              "      <th>Thriller</th>\n",
              "      <th>War</th>\n",
              "      <th>Western</th>\n",
              "    </tr>\n",
              "  </thead>\n",
              "  <tbody>\n",
              "    <tr>\n",
              "      <th>0</th>\n",
              "      <td>1</td>\n",
              "      <td>Toy Story (1995)</td>\n",
              "      <td>01-Jan-1995</td>\n",
              "      <td>NaN</td>\n",
              "      <td>http://us.imdb.com/M/title-exact?Toy%20Story%2...</td>\n",
              "      <td>0</td>\n",
              "      <td>0</td>\n",
              "      <td>0</td>\n",
              "      <td>1</td>\n",
              "      <td>1</td>\n",
              "      <td>...</td>\n",
              "      <td>0</td>\n",
              "      <td>0</td>\n",
              "      <td>0</td>\n",
              "      <td>0</td>\n",
              "      <td>0</td>\n",
              "      <td>0</td>\n",
              "      <td>0</td>\n",
              "      <td>0</td>\n",
              "      <td>0</td>\n",
              "      <td>0</td>\n",
              "    </tr>\n",
              "    <tr>\n",
              "      <th>1</th>\n",
              "      <td>2</td>\n",
              "      <td>GoldenEye (1995)</td>\n",
              "      <td>01-Jan-1995</td>\n",
              "      <td>NaN</td>\n",
              "      <td>http://us.imdb.com/M/title-exact?GoldenEye%20(...</td>\n",
              "      <td>0</td>\n",
              "      <td>1</td>\n",
              "      <td>1</td>\n",
              "      <td>0</td>\n",
              "      <td>0</td>\n",
              "      <td>...</td>\n",
              "      <td>0</td>\n",
              "      <td>0</td>\n",
              "      <td>0</td>\n",
              "      <td>0</td>\n",
              "      <td>0</td>\n",
              "      <td>0</td>\n",
              "      <td>0</td>\n",
              "      <td>1</td>\n",
              "      <td>0</td>\n",
              "      <td>0</td>\n",
              "    </tr>\n",
              "    <tr>\n",
              "      <th>2</th>\n",
              "      <td>3</td>\n",
              "      <td>Four Rooms (1995)</td>\n",
              "      <td>01-Jan-1995</td>\n",
              "      <td>NaN</td>\n",
              "      <td>http://us.imdb.com/M/title-exact?Four%20Rooms%...</td>\n",
              "      <td>0</td>\n",
              "      <td>0</td>\n",
              "      <td>0</td>\n",
              "      <td>0</td>\n",
              "      <td>0</td>\n",
              "      <td>...</td>\n",
              "      <td>0</td>\n",
              "      <td>0</td>\n",
              "      <td>0</td>\n",
              "      <td>0</td>\n",
              "      <td>0</td>\n",
              "      <td>0</td>\n",
              "      <td>0</td>\n",
              "      <td>1</td>\n",
              "      <td>0</td>\n",
              "      <td>0</td>\n",
              "    </tr>\n",
              "    <tr>\n",
              "      <th>3</th>\n",
              "      <td>4</td>\n",
              "      <td>Get Shorty (1995)</td>\n",
              "      <td>01-Jan-1995</td>\n",
              "      <td>NaN</td>\n",
              "      <td>http://us.imdb.com/M/title-exact?Get%20Shorty%...</td>\n",
              "      <td>0</td>\n",
              "      <td>1</td>\n",
              "      <td>0</td>\n",
              "      <td>0</td>\n",
              "      <td>0</td>\n",
              "      <td>...</td>\n",
              "      <td>0</td>\n",
              "      <td>0</td>\n",
              "      <td>0</td>\n",
              "      <td>0</td>\n",
              "      <td>0</td>\n",
              "      <td>0</td>\n",
              "      <td>0</td>\n",
              "      <td>0</td>\n",
              "      <td>0</td>\n",
              "      <td>0</td>\n",
              "    </tr>\n",
              "    <tr>\n",
              "      <th>4</th>\n",
              "      <td>5</td>\n",
              "      <td>Copycat (1995)</td>\n",
              "      <td>01-Jan-1995</td>\n",
              "      <td>NaN</td>\n",
              "      <td>http://us.imdb.com/M/title-exact?Copycat%20(1995)</td>\n",
              "      <td>0</td>\n",
              "      <td>0</td>\n",
              "      <td>0</td>\n",
              "      <td>0</td>\n",
              "      <td>0</td>\n",
              "      <td>...</td>\n",
              "      <td>0</td>\n",
              "      <td>0</td>\n",
              "      <td>0</td>\n",
              "      <td>0</td>\n",
              "      <td>0</td>\n",
              "      <td>0</td>\n",
              "      <td>0</td>\n",
              "      <td>1</td>\n",
              "      <td>0</td>\n",
              "      <td>0</td>\n",
              "    </tr>\n",
              "  </tbody>\n",
              "</table>\n",
              "<p>5 rows × 24 columns</p>\n",
              "</div>\n",
              "      <button class=\"colab-df-convert\" onclick=\"convertToInteractive('df-59690df3-6092-4033-99e9-760e8e2add84')\"\n",
              "              title=\"Convert this dataframe to an interactive table.\"\n",
              "              style=\"display:none;\">\n",
              "        \n",
              "  <svg xmlns=\"http://www.w3.org/2000/svg\" height=\"24px\"viewBox=\"0 0 24 24\"\n",
              "       width=\"24px\">\n",
              "    <path d=\"M0 0h24v24H0V0z\" fill=\"none\"/>\n",
              "    <path d=\"M18.56 5.44l.94 2.06.94-2.06 2.06-.94-2.06-.94-.94-2.06-.94 2.06-2.06.94zm-11 1L8.5 8.5l.94-2.06 2.06-.94-2.06-.94L8.5 2.5l-.94 2.06-2.06.94zm10 10l.94 2.06.94-2.06 2.06-.94-2.06-.94-.94-2.06-.94 2.06-2.06.94z\"/><path d=\"M17.41 7.96l-1.37-1.37c-.4-.4-.92-.59-1.43-.59-.52 0-1.04.2-1.43.59L10.3 9.45l-7.72 7.72c-.78.78-.78 2.05 0 2.83L4 21.41c.39.39.9.59 1.41.59.51 0 1.02-.2 1.41-.59l7.78-7.78 2.81-2.81c.8-.78.8-2.07 0-2.86zM5.41 20L4 18.59l7.72-7.72 1.47 1.35L5.41 20z\"/>\n",
              "  </svg>\n",
              "      </button>\n",
              "      \n",
              "  <style>\n",
              "    .colab-df-container {\n",
              "      display:flex;\n",
              "      flex-wrap:wrap;\n",
              "      gap: 12px;\n",
              "    }\n",
              "\n",
              "    .colab-df-convert {\n",
              "      background-color: #E8F0FE;\n",
              "      border: none;\n",
              "      border-radius: 50%;\n",
              "      cursor: pointer;\n",
              "      display: none;\n",
              "      fill: #1967D2;\n",
              "      height: 32px;\n",
              "      padding: 0 0 0 0;\n",
              "      width: 32px;\n",
              "    }\n",
              "\n",
              "    .colab-df-convert:hover {\n",
              "      background-color: #E2EBFA;\n",
              "      box-shadow: 0px 1px 2px rgba(60, 64, 67, 0.3), 0px 1px 3px 1px rgba(60, 64, 67, 0.15);\n",
              "      fill: #174EA6;\n",
              "    }\n",
              "\n",
              "    [theme=dark] .colab-df-convert {\n",
              "      background-color: #3B4455;\n",
              "      fill: #D2E3FC;\n",
              "    }\n",
              "\n",
              "    [theme=dark] .colab-df-convert:hover {\n",
              "      background-color: #434B5C;\n",
              "      box-shadow: 0px 1px 3px 1px rgba(0, 0, 0, 0.15);\n",
              "      filter: drop-shadow(0px 1px 2px rgba(0, 0, 0, 0.3));\n",
              "      fill: #FFFFFF;\n",
              "    }\n",
              "  </style>\n",
              "\n",
              "      <script>\n",
              "        const buttonEl =\n",
              "          document.querySelector('#df-59690df3-6092-4033-99e9-760e8e2add84 button.colab-df-convert');\n",
              "        buttonEl.style.display =\n",
              "          google.colab.kernel.accessAllowed ? 'block' : 'none';\n",
              "\n",
              "        async function convertToInteractive(key) {\n",
              "          const element = document.querySelector('#df-59690df3-6092-4033-99e9-760e8e2add84');\n",
              "          const dataTable =\n",
              "            await google.colab.kernel.invokeFunction('convertToInteractive',\n",
              "                                                     [key], {});\n",
              "          if (!dataTable) return;\n",
              "\n",
              "          const docLinkHtml = 'Like what you see? Visit the ' +\n",
              "            '<a target=\"_blank\" href=https://colab.research.google.com/notebooks/data_table.ipynb>data table notebook</a>'\n",
              "            + ' to learn more about interactive tables.';\n",
              "          element.innerHTML = '';\n",
              "          dataTable['output_type'] = 'display_data';\n",
              "          await google.colab.output.renderOutput(dataTable, element);\n",
              "          const docLink = document.createElement('div');\n",
              "          docLink.innerHTML = docLinkHtml;\n",
              "          element.appendChild(docLink);\n",
              "        }\n",
              "      </script>\n",
              "    </div>\n",
              "  </div>\n",
              "  "
            ]
          },
          "metadata": {},
          "execution_count": 8
        }
      ],
      "source": [
        "movies = pd.read_csv(os.path.join(DATA_DIR, 'u.item'), sep='|', header=None, engine='python', encoding='latin-1')\n",
        "\n",
        "# Number of movies\n",
        "nb_movies = len(movies)\n",
        "\n",
        "# Genres\n",
        "movies_genre = np.matrix(movies.loc[:, 5:])\n",
        "movies_genre_name = np.array(pd.read_csv(os.path.join(DATA_DIR, 'u.genre'), sep='|', header=None, engine='python', encoding='latin-1').loc[:, 0])\n",
        "\n",
        "# Quick overview\n",
        "movies.columns = ['Index', 'Title', 'Release', 'The Not a Number column', 'Imdb'] + movies_genre_name.tolist()\n",
        "movies.head()"
      ]
    },
    {
      "cell_type": "markdown",
      "metadata": {
        "id": "bx1_3doJt_ND"
      },
      "source": [
        "Nous présentons les proportions de films en fonction du genre comme statistique descriptive."
      ]
    },
    {
      "cell_type": "code",
      "execution_count": null,
      "metadata": {
        "colab": {
          "base_uri": "https://localhost:8080/",
          "height": 365
        },
        "id": "1ydhLINBt_ND",
        "outputId": "48a21be9-7137-4fd0-ee9c-2e2621cd8ceb"
      },
      "outputs": [
        {
          "output_type": "display_data",
          "data": {
            "text/plain": [
              "<Figure size 432x288 with 1 Axes>"
            ],
            "image/png": "[encoded data removed]"
          },
          "metadata": {}
        }
      ],
      "source": [
        "attributes, scores = utl.rearrange(movies_genre_name, \n",
        "                                   np.array(np.round(np.mean(movies_genre, axis=0) * 1, 2))[0])\n",
        "utl.barplot(attributes, np.array(scores) * 100, xlabel='Genre', ylabel='Percentage (%)', \n",
        "            title=\" \", rotation = 90)"
      ]
    },
    {
      "cell_type": "markdown",
      "metadata": {
        "id": "PGu44gBzt_ND"
      },
      "source": [
        "### 1.3.3 Ratings: Importation et traitement des données\n",
        "\n",
        "La base de données comportant les évaluations des films effectuées par les usagers est constituée d'environ 100 mille lignes (une évaluation par ligne) où sont respectivement recensés le numéro d'identification de l'utilisateur, le numéro d'identification du film, l'évaluation associée et un marqueur de temps auquel le film a été visionné. Les ensembles d'entraînement et de test ont été fournis tels quels, c'est-à-dire que nous n'avons pas besoin de les construire nous-même, et comportent respectivement 80 et 20 mille évaluations.\n",
        "\n",
        "Pour des raisons pratiques, nous convertissons la base de données sous la forme d'une liste grâce à la fonction maison `convert`. "
      ]
    },
    {
      "cell_type": "code",
      "execution_count": null,
      "metadata": {
        "id": "LkG_3A5Nt_ND"
      },
      "outputs": [],
      "source": [
        "training_set = np.array(pd.read_csv(os.path.join(DATA_DIR, 'u1.base'), delimiter='\\t'), dtype='int')\n",
        "testing_set = np.array(pd.read_csv(os.path.join(DATA_DIR, 'u1.test'), delimiter='\\t'), dtype='int')\n",
        "\n",
        "train_set = utl.convert(training_set, nb_users, nb_movies)\n",
        "test_set = utl.convert(testing_set, nb_users, nb_movies)"
      ]
    },
    {
      "cell_type": "markdown",
      "metadata": {
        "id": "KUdRnf7Zt_ND"
      },
      "source": [
        "Comme nous l'avons fait auparavant, nous pouvons obtenir quelques statistiques descriptives associées aux évaluations. Dans une premier temps, il pourrait être intéressant d'étudier les tendances moyennes des individus.\n",
        "\n",
        "##### Question 1\n",
        "\n",
        "1. Quelles autres types de statistiques pourraient être intéressantes?\n",
        "\n",
        "##### Réponse 1\n",
        "\n",
        "1. Nous pourrions définir les différentes statistiques co-dessous en fonction d'autres attributs, tel le sexe des usagers, leur occupation ou encore leur âge."
      ]
    },
    {
      "cell_type": "code",
      "execution_count": null,
      "metadata": {
        "colab": {
          "base_uri": "https://localhost:8080/",
          "height": 81
        },
        "id": "CbOhHliot_NE",
        "outputId": "8b5a0b06-544b-4e03-b6bb-7602a4b5bd74"
      },
      "outputs": [
        {
          "output_type": "execute_result",
          "data": {
            "text/plain": [
              "   count       mean        std  min   25%   50%    75%    max\n",
              "0  943.0  84.834571  83.805787  4.0  27.0  50.0  115.0  685.0"
            ],
            "text/html": [
              "\n",
              "  <div id=\"df-6b2942a6-505b-4947-a727-e6bc0f95900b\">\n",
              "    <div class=\"colab-df-container\">\n",
              "      <div>\n",
              "<style scoped>\n",
              "    .dataframe tbody tr th:only-of-type {\n",
              "        vertical-align: middle;\n",
              "    }\n",
              "\n",
              "    .dataframe tbody tr th {\n",
              "        vertical-align: top;\n",
              "    }\n",
              "\n",
              "    .dataframe thead th {\n",
              "        text-align: right;\n",
              "    }\n",
              "</style>\n",
              "<table border=\"1\" class=\"dataframe\">\n",
              "  <thead>\n",
              "    <tr style=\"text-align: right;\">\n",
              "      <th></th>\n",
              "      <th>count</th>\n",
              "      <th>mean</th>\n",
              "      <th>std</th>\n",
              "      <th>min</th>\n",
              "      <th>25%</th>\n",
              "      <th>50%</th>\n",
              "      <th>75%</th>\n",
              "      <th>max</th>\n",
              "    </tr>\n",
              "  </thead>\n",
              "  <tbody>\n",
              "    <tr>\n",
              "      <th>0</th>\n",
              "      <td>943.0</td>\n",
              "      <td>84.834571</td>\n",
              "      <td>83.805787</td>\n",
              "      <td>4.0</td>\n",
              "      <td>27.0</td>\n",
              "      <td>50.0</td>\n",
              "      <td>115.0</td>\n",
              "      <td>685.0</td>\n",
              "    </tr>\n",
              "  </tbody>\n",
              "</table>\n",
              "</div>\n",
              "      <button class=\"colab-df-convert\" onclick=\"convertToInteractive('df-6b2942a6-505b-4947-a727-e6bc0f95900b')\"\n",
              "              title=\"Convert this dataframe to an interactive table.\"\n",
              "              style=\"display:none;\">\n",
              "        \n",
              "  <svg xmlns=\"http://www.w3.org/2000/svg\" height=\"24px\"viewBox=\"0 0 24 24\"\n",
              "       width=\"24px\">\n",
              "    <path d=\"M0 0h24v24H0V0z\" fill=\"none\"/>\n",
              "    <path d=\"M18.56 5.44l.94 2.06.94-2.06 2.06-.94-2.06-.94-.94-2.06-.94 2.06-2.06.94zm-11 1L8.5 8.5l.94-2.06 2.06-.94-2.06-.94L8.5 2.5l-.94 2.06-2.06.94zm10 10l.94 2.06.94-2.06 2.06-.94-2.06-.94-.94-2.06-.94 2.06-2.06.94z\"/><path d=\"M17.41 7.96l-1.37-1.37c-.4-.4-.92-.59-1.43-.59-.52 0-1.04.2-1.43.59L10.3 9.45l-7.72 7.72c-.78.78-.78 2.05 0 2.83L4 21.41c.39.39.9.59 1.41.59.51 0 1.02-.2 1.41-.59l7.78-7.78 2.81-2.81c.8-.78.8-2.07 0-2.86zM5.41 20L4 18.59l7.72-7.72 1.47 1.35L5.41 20z\"/>\n",
              "  </svg>\n",
              "      </button>\n",
              "      \n",
              "  <style>\n",
              "    .colab-df-container {\n",
              "      display:flex;\n",
              "      flex-wrap:wrap;\n",
              "      gap: 12px;\n",
              "    }\n",
              "\n",
              "    .colab-df-convert {\n",
              "      background-color: #E8F0FE;\n",
              "      border: none;\n",
              "      border-radius: 50%;\n",
              "      cursor: pointer;\n",
              "      display: none;\n",
              "      fill: #1967D2;\n",
              "      height: 32px;\n",
              "      padding: 0 0 0 0;\n",
              "      width: 32px;\n",
              "    }\n",
              "\n",
              "    .colab-df-convert:hover {\n",
              "      background-color: #E2EBFA;\n",
              "      box-shadow: 0px 1px 2px rgba(60, 64, 67, 0.3), 0px 1px 3px 1px rgba(60, 64, 67, 0.15);\n",
              "      fill: #174EA6;\n",
              "    }\n",
              "\n",
              "    [theme=dark] .colab-df-convert {\n",
              "      background-color: #3B4455;\n",
              "      fill: #D2E3FC;\n",
              "    }\n",
              "\n",
              "    [theme=dark] .colab-df-convert:hover {\n",
              "      background-color: #434B5C;\n",
              "      box-shadow: 0px 1px 3px 1px rgba(0, 0, 0, 0.15);\n",
              "      filter: drop-shadow(0px 1px 2px rgba(0, 0, 0, 0.3));\n",
              "      fill: #FFFFFF;\n",
              "    }\n",
              "  </style>\n",
              "\n",
              "      <script>\n",
              "        const buttonEl =\n",
              "          document.querySelector('#df-6b2942a6-505b-4947-a727-e6bc0f95900b button.colab-df-convert');\n",
              "        buttonEl.style.display =\n",
              "          google.colab.kernel.accessAllowed ? 'block' : 'none';\n",
              "\n",
              "        async function convertToInteractive(key) {\n",
              "          const element = document.querySelector('#df-6b2942a6-505b-4947-a727-e6bc0f95900b');\n",
              "          const dataTable =\n",
              "            await google.colab.kernel.invokeFunction('convertToInteractive',\n",
              "                                                     [key], {});\n",
              "          if (!dataTable) return;\n",
              "\n",
              "          const docLinkHtml = 'Like what you see? Visit the ' +\n",
              "            '<a target=\"_blank\" href=https://colab.research.google.com/notebooks/data_table.ipynb>data table notebook</a>'\n",
              "            + ' to learn more about interactive tables.';\n",
              "          element.innerHTML = '';\n",
              "          dataTable['output_type'] = 'display_data';\n",
              "          await google.colab.output.renderOutput(dataTable, element);\n",
              "          const docLink = document.createElement('div');\n",
              "          docLink.innerHTML = docLinkHtml;\n",
              "          element.appendChild(docLink);\n",
              "        }\n",
              "      </script>\n",
              "    </div>\n",
              "  </div>\n",
              "  "
            ]
          },
          "metadata": {},
          "execution_count": 11
        }
      ],
      "source": [
        "train_matrix = np.array(train_set)\n",
        "shape = (len(train_set), len(train_set[0]))\n",
        "train_matrix.reshape(shape)\n",
        "train_matrix_bool = np.where(train_matrix > 0 , 1, 0)\n",
        "\n",
        "user_watch = np.sum(train_matrix_bool, axis=1)\n",
        "pd.DataFrame(user_watch).describe().T"
      ]
    },
    {
      "cell_type": "markdown",
      "metadata": {
        "id": "BT1le7ayt_NE"
      },
      "source": [
        "Avec un petit histogramme..."
      ]
    },
    {
      "cell_type": "code",
      "execution_count": null,
      "metadata": {
        "colab": {
          "base_uri": "https://localhost:8080/",
          "height": 556
        },
        "id": "HAqBpbIYt_NE",
        "outputId": "98792a0f-7a46-4fd4-c755-c9fa8db649db"
      },
      "outputs": [
        {
          "output_type": "display_data",
          "data": {
            "text/plain": [
              "<Figure size 864x576 with 1 Axes>"
            ],
            "image/png": "[encoded data removed]"
          },
          "metadata": {}
        }
      ],
      "source": [
        "sns.set(rc={'figure.figsize':(12,8)})\n",
        "sns.set(font_scale = 1.5)\n",
        "\n",
        "plt.title('Empirical distribution of \\n the number of movies watched per user')\n",
        "plt.xlabel('Number of movies watched')\n",
        "plt.ylabel('Number of users')\n",
        "plt.hist(user_watch, 100);"
      ]
    },
    {
      "cell_type": "markdown",
      "metadata": {
        "id": "3PEMCagTt_NE"
      },
      "source": [
        "Nous présentons finalement quelques statistiques associées aux films."
      ]
    },
    {
      "cell_type": "code",
      "execution_count": null,
      "metadata": {
        "colab": {
          "base_uri": "https://localhost:8080/",
          "height": 81
        },
        "id": "9DckC_STt_NE",
        "outputId": "7d467f1c-1375-4647-86a5-aa0c9ceeafeb"
      },
      "outputs": [
        {
          "output_type": "execute_result",
          "data": {
            "text/plain": [
              "    count      mean       std  min       25%       50%       75%       max\n",
              "0  1682.0  0.050437  0.068664  0.0  0.005302  0.022269  0.066808  0.513256"
            ],
            "text/html": [
              "\n",
              "  <div id=\"df-7cdf309b-fb45-4b6c-b65f-4d89ba81d0c6\">\n",
              "    <div class=\"colab-df-container\">\n",
              "      <div>\n",
              "<style scoped>\n",
              "    .dataframe tbody tr th:only-of-type {\n",
              "        vertical-align: middle;\n",
              "    }\n",
              "\n",
              "    .dataframe tbody tr th {\n",
              "        vertical-align: top;\n",
              "    }\n",
              "\n",
              "    .dataframe thead th {\n",
              "        text-align: right;\n",
              "    }\n",
              "</style>\n",
              "<table border=\"1\" class=\"dataframe\">\n",
              "  <thead>\n",
              "    <tr style=\"text-align: right;\">\n",
              "      <th></th>\n",
              "      <th>count</th>\n",
              "      <th>mean</th>\n",
              "      <th>std</th>\n",
              "      <th>min</th>\n",
              "      <th>25%</th>\n",
              "      <th>50%</th>\n",
              "      <th>75%</th>\n",
              "      <th>max</th>\n",
              "    </tr>\n",
              "  </thead>\n",
              "  <tbody>\n",
              "    <tr>\n",
              "      <th>0</th>\n",
              "      <td>1682.0</td>\n",
              "      <td>0.050437</td>\n",
              "      <td>0.068664</td>\n",
              "      <td>0.0</td>\n",
              "      <td>0.005302</td>\n",
              "      <td>0.022269</td>\n",
              "      <td>0.066808</td>\n",
              "      <td>0.513256</td>\n",
              "    </tr>\n",
              "  </tbody>\n",
              "</table>\n",
              "</div>\n",
              "      <button class=\"colab-df-convert\" onclick=\"convertToInteractive('df-7cdf309b-fb45-4b6c-b65f-4d89ba81d0c6')\"\n",
              "              title=\"Convert this dataframe to an interactive table.\"\n",
              "              style=\"display:none;\">\n",
              "        \n",
              "  <svg xmlns=\"http://www.w3.org/2000/svg\" height=\"24px\"viewBox=\"0 0 24 24\"\n",
              "       width=\"24px\">\n",
              "    <path d=\"M0 0h24v24H0V0z\" fill=\"none\"/>\n",
              "    <path d=\"M18.56 5.44l.94 2.06.94-2.06 2.06-.94-2.06-.94-.94-2.06-.94 2.06-2.06.94zm-11 1L8.5 8.5l.94-2.06 2.06-.94-2.06-.94L8.5 2.5l-.94 2.06-2.06.94zm10 10l.94 2.06.94-2.06 2.06-.94-2.06-.94-.94-2.06-.94 2.06-2.06.94z\"/><path d=\"M17.41 7.96l-1.37-1.37c-.4-.4-.92-.59-1.43-.59-.52 0-1.04.2-1.43.59L10.3 9.45l-7.72 7.72c-.78.78-.78 2.05 0 2.83L4 21.41c.39.39.9.59 1.41.59.51 0 1.02-.2 1.41-.59l7.78-7.78 2.81-2.81c.8-.78.8-2.07 0-2.86zM5.41 20L4 18.59l7.72-7.72 1.47 1.35L5.41 20z\"/>\n",
              "  </svg>\n",
              "      </button>\n",
              "      \n",
              "  <style>\n",
              "    .colab-df-container {\n",
              "      display:flex;\n",
              "      flex-wrap:wrap;\n",
              "      gap: 12px;\n",
              "    }\n",
              "\n",
              "    .colab-df-convert {\n",
              "      background-color: #E8F0FE;\n",
              "      border: none;\n",
              "      border-radius: 50%;\n",
              "      cursor: pointer;\n",
              "      display: none;\n",
              "      fill: #1967D2;\n",
              "      height: 32px;\n",
              "      padding: 0 0 0 0;\n",
              "      width: 32px;\n",
              "    }\n",
              "\n",
              "    .colab-df-convert:hover {\n",
              "      background-color: #E2EBFA;\n",
              "      box-shadow: 0px 1px 2px rgba(60, 64, 67, 0.3), 0px 1px 3px 1px rgba(60, 64, 67, 0.15);\n",
              "      fill: #174EA6;\n",
              "    }\n",
              "\n",
              "    [theme=dark] .colab-df-convert {\n",
              "      background-color: #3B4455;\n",
              "      fill: #D2E3FC;\n",
              "    }\n",
              "\n",
              "    [theme=dark] .colab-df-convert:hover {\n",
              "      background-color: #434B5C;\n",
              "      box-shadow: 0px 1px 3px 1px rgba(0, 0, 0, 0.15);\n",
              "      filter: drop-shadow(0px 1px 2px rgba(0, 0, 0, 0.3));\n",
              "      fill: #FFFFFF;\n",
              "    }\n",
              "  </style>\n",
              "\n",
              "      <script>\n",
              "        const buttonEl =\n",
              "          document.querySelector('#df-7cdf309b-fb45-4b6c-b65f-4d89ba81d0c6 button.colab-df-convert');\n",
              "        buttonEl.style.display =\n",
              "          google.colab.kernel.accessAllowed ? 'block' : 'none';\n",
              "\n",
              "        async function convertToInteractive(key) {\n",
              "          const element = document.querySelector('#df-7cdf309b-fb45-4b6c-b65f-4d89ba81d0c6');\n",
              "          const dataTable =\n",
              "            await google.colab.kernel.invokeFunction('convertToInteractive',\n",
              "                                                     [key], {});\n",
              "          if (!dataTable) return;\n",
              "\n",
              "          const docLinkHtml = 'Like what you see? Visit the ' +\n",
              "            '<a target=\"_blank\" href=https://colab.research.google.com/notebooks/data_table.ipynb>data table notebook</a>'\n",
              "            + ' to learn more about interactive tables.';\n",
              "          element.innerHTML = '';\n",
              "          dataTable['output_type'] = 'display_data';\n",
              "          await google.colab.output.renderOutput(dataTable, element);\n",
              "          const docLink = document.createElement('div');\n",
              "          docLink.innerHTML = docLinkHtml;\n",
              "          element.appendChild(docLink);\n",
              "        }\n",
              "      </script>\n",
              "    </div>\n",
              "  </div>\n",
              "  "
            ]
          },
          "metadata": {},
          "execution_count": 13
        }
      ],
      "source": [
        "movie_frequency = np.mean(train_matrix_bool, axis=0)\n",
        "pd.DataFrame(movie_frequency).describe().T"
      ]
    },
    {
      "cell_type": "markdown",
      "metadata": {
        "id": "uhjg-38nt_NE"
      },
      "source": [
        "##### Question 2\n",
        "\n",
        "1. Quelles statistiques ou observations pourraient nous paraître pertinentes? Pourquoi? \n",
        "2. Quel type de statistique pourrait être plus approprié dans un tel contexte?"
      ]
    },
    {
      "cell_type": "code",
      "execution_count": null,
      "metadata": {
        "colab": {
          "base_uri": "https://localhost:8080/",
          "height": 515
        },
        "id": "1mwF4c4Lt_NF",
        "outputId": "79cd5db8-801e-41ae-db40-d03a219534b3"
      },
      "outputs": [
        {
          "output_type": "display_data",
          "data": {
            "text/plain": [
              "<Figure size 864x576 with 1 Axes>"
            ],
            "image/png": "[encoded data removed]"
          },
          "metadata": {}
        }
      ],
      "source": [
        "plt.xlabel('Proportion of the population who watched the movie')\n",
        "plt.ylabel('Number of Movies')\n",
        "plt.hist(movie_frequency, 100);"
      ]
    },
    {
      "cell_type": "markdown",
      "metadata": {
        "id": "J5OE-CuSt_NF"
      },
      "source": [
        "#### Étude des préférences individuelles en fonction du type de film\n",
        "\n",
        "Nous pourrions également nous intéresser au comportement d'un individu en particulier. Entre autres choses, nous pourrions étudier s'il y a un biais associé à son schème d'évaluation ou encore quelles sont ses préférences cinématographiques en fonction du score attribué."
      ]
    },
    {
      "cell_type": "code",
      "execution_count": null,
      "metadata": {
        "id": "eGHvip6Jt_NF"
      },
      "outputs": [],
      "source": [
        "def stats_user(data, movies_genre, user_id):\n",
        "    \n",
        "    ratings = data[user_id]\n",
        "    stats = np.zeros(6)\n",
        "    eva = np.zeros((6, movies_genre.shape[1]))\n",
        "\n",
        "    for k in np.arange(len(ratings)):\n",
        "        index = int(ratings[k])\n",
        "        stats[index] += 1\n",
        "        eva[index, :] = eva[index, :] + movies_genre[k]\n",
        "\n",
        "    return stats, eva"
      ]
    },
    {
      "cell_type": "code",
      "execution_count": null,
      "metadata": {
        "colab": {
          "base_uri": "https://localhost:8080/",
          "height": 307
        },
        "id": "xitWqzY6t_NF",
        "outputId": "ec0a3d52-456d-4b1a-c378-937459e156ff"
      },
      "outputs": [
        {
          "output_type": "display_data",
          "data": {
            "text/plain": [
              "<Figure size 432x288 with 1 Axes>"
            ],
            "image/png": "[encoded data removed]"
          },
          "metadata": {}
        }
      ],
      "source": [
        "user_id = 0\n",
        "stats, eva = stats_user(train_set, movies_genre, user_id)\n",
        "utl.barplot(np.arange(5) + 1, stats[1:6] / sum(stats[1:6]), xlabel='Number of stars', ylabel='Percentage of movies (%)', \n",
        "            title=\" \", rotation = 0)"
      ]
    },
    {
      "cell_type": "markdown",
      "metadata": {
        "id": "SZmPVqc0t_NF"
      },
      "source": [
        "##### Question 3\n",
        "\n",
        "1. Comment vérifier qu'il existe un biais associé au schème d'évaluation d'un individu?"
      ]
    },
    {
      "cell_type": "markdown",
      "metadata": {
        "id": "nvzWyvsJt_NF"
      },
      "source": [
        "## 1.4 Création des sous-ensembles d'entraînement et de validation\n",
        "\n",
        "En apprentissage automatique, nous manipulons des <a href=\"https://blogs.nvidia.com/blog/2018/04/15/nvidia-research-image-translation/\">bases de données complexes</a> pour lesquelles nous tentons de définir des espaces de fonctions tout aussi complexes dans le but d'accomplir une tâche précise. Ceci étant, ces espaces de fonctions sont définis par un ensemble de paramètres dont le nombre tend à augmenter avec la complexité des données. Une fois l'espace défini par un ensemble de paramètres fixés, nous pouvons varier les différentes valeurs d'hyperparamètres afin d'explorer empiriquement les espaces de fonctions. Pour choisir l'ensemble des paramètres et d'hyperparamètres optimaux, nous définissons une métrique nous permettant d'évaluer le modèle; par exemple, à quel point l'image d'un chat nous paraît vraisemblable. \n",
        "\n",
        "Dans la mesure où nous voulons développer un modèle capable de généraliser, l'évaluation de ses performances, et donc la sélection des (hyperparamtètres) doit se faire sur un ensemble de données indépendant, mais issues de la même distribution, de l'ensemble sur lequel il a appris. Pareil ensemble porte le nom d'ensemble de validation.\n",
        "\n",
        "<b>! Remarque !</b> \n",
        "\n",
        "La notion d'ensemble d'entraînement et de test dans le cadre de système de recommandation est quelque peu différente de ce que l'on voit habituellement avec les problèmes dits supervisés. Si dans le cadre d'un problème supervisé, l'ensemble de test consiste essentiellement en de nouvelles observations (lire lignes d'un fichier) indépendantes des observations préalablement observées dans l'ensemble d'entraînement, le paradigme est sensiblement différent lorsque nous travaillons avec des systèmes de recommandation.\n",
        "\n",
        "Effectivement, et en raison du modèle mathématique sur lequel est basé les systèmes de recommandation, les données appartenant à l'ensemble de test ne sont pas liées à un nouvel individu, mais bien à de nouvelles évaluations, faites par le même ensemble d'individus, mais jusqu'alors inobservées. Dès lors, les données associées aux ensembles d'entraînement, de validation et de test ne sont plus indépendantes tel que supposé (la fameuse hypothèse <i> iid </i>); ce qui complique théoriquement les choses.\n",
        "\n",
        "Puisque le but de l'atelier n'est pas d'étudier la notion de biais associée au type de dépendance entre les différents évaluations dans les systèmes de recommendation, nous allons naïvement supposer que chacune des évaluations sont indépendantes les unes des autres. N'empêche, dans un cadre pratique, ignorer ce genre de considérations pourra éventuellement biaiser les algorithmes."
      ]
    },
    {
      "cell_type": "code",
      "execution_count": null,
      "metadata": {
        "id": "r7vROvjHt_NF"
      },
      "outputs": [],
      "source": [
        "def split(data, ratio, tensor=False):\n",
        "    train = np.zeros((len(data), len(data[0]))).tolist()\n",
        "    valid = np.zeros((len(data), len(data[0]))).tolist()\n",
        "\n",
        "    for i in range(len(data)):\n",
        "        for j in range(len(data[i])):\n",
        "            if data[i][j] > 0:\n",
        "                if np.random.binomial(1, ratio, 1):\n",
        "                    train[i][j] = data[i][j]\n",
        "                else:\n",
        "                    valid[i][j] = data[i][j]\n",
        "\n",
        "    return [train, valid]\n",
        "\n",
        "train = split(train_set, 0.8)\n",
        "test = test_set"
      ]
    },
    {
      "cell_type": "markdown",
      "metadata": {
        "id": "Z5t5Be9qt_NG"
      },
      "source": [
        "# 2. Système de recommandation: Auto-encodeur"
      ]
    },
    {
      "cell_type": "markdown",
      "metadata": {
        "id": "of39UnKyt_NG"
      },
      "source": [
        "## 2.1 Modèle"
      ]
    },
    {
      "cell_type": "markdown",
      "metadata": {
        "id": "aUPrI6Dtt_NG"
      },
      "source": [
        "## 2.1 Modèle\n",
        "\n",
        "De façon générale, les auto-encodeurs sont une classe de réseaux de neurones permettant d'effectuer l'apprentissage non supervisé des caractéristiques latentes des données à l'étude. Pour ce faire, l'AE tentera de prédire, ou copier, les observations en entrée à l'aide de (multiple) couche cachée. Dans sa plus simple expression, l'architecture d'un AE peut se résumer au schéma ci-dessous.\n",
        "\n",
        "![title](https://github.com/davidberger2785/RS-Workshop/blob/master/Images/AE.png?raw=1)\n",
        "\n",
        "En regardant de plus près, l'AE consiste en un encodeur, soit la fonction $h(\\cdot)$ définie par:\n",
        "\n",
        "$$\n",
        "\\begin{align}\n",
        "    h(\\mathbf{x}) = \\frac{1}{1+ \\exp(-\\mathbf{W} \\mathbf{x})}.\n",
        "\\end{align}\n",
        "$$\n",
        "\n",
        "Cette fonction prend en entrée les observations et consistera à la recoder sous forme d'une couche cachée de façon telle à réduire leur dimension (moins de neurones). Par après, un encodeur défini par:\n",
        "\n",
        "$$\n",
        "\\begin{align}\n",
        "    f(h(\\mathbf{x})) = \\mathbf{W}^\\top h(\\mathbf{x})\n",
        "\\end{align}\n",
        "$$\n",
        "\n",
        "tentera de <i>reconstuire</i> les observations présentées en entrée à partir de la couche cachée. En ce sens, l'AE cherche à estimer les observations utilisées en entrée.\n",
        "\n",
        "Nous pouvons avantageusement utiliser les estimations faites par les auto-encodeurs de façon telle à présenter de nouvelles recommandations aux usagers. \n",
        "\n",
        "Par exemple, supposons que l'ensemble des évaluations effectuées par un usager est défini par le vecteur:\n",
        "\n",
        "$$\n",
        "\\begin{align}\n",
        "    \\mathbf{x} = [3, \\ 0, \\ 0, \\ 1, \\ ..., \\ 2, \\ 4].\n",
        "\\end{align}\n",
        "$$\n",
        "\n",
        "Nous remarquons que le film en première position, soit <i> Toy Story </i>, a été moyennement apprécié, alors que les deux films suivant, <i>Golden eye</i> et <i>Four rooms</i>, n'ont pas été visionnés. Supposons encore une fois qu'à ce même ensemble d'évaluations, l'AE présentera les estimations suivantes:\n",
        "\n",
        "$$\n",
        "\\begin{align}\n",
        "    \\mathbf{\\hat{x}} = [3.2, \\ 1.3, \\ 4, \\ 0.5, \\ ..., \\ 3, \\ 1].\n",
        "\\end{align}\n",
        "$$\n",
        "\n",
        "Dès lors, nous pourrons utiliser les estimations associées aux films initiallement non visionnés comme autant de recommandations. Ainsi, le film <i>Four rooms</i>, en troisième position, semble une bonne suggestion pour l'usager, alors que <i>Golden eye</i> n'est définitivement pas un recommandation probante."
      ]
    },
    {
      "cell_type": "markdown",
      "metadata": {
        "id": "lU4uFHtit_NG"
      },
      "source": [
        "## 2.2 L'apprentissage profond avec Pytorch\n",
        "\n",
        "Afin de construire un système de recommandation basé sur les AE, nous allons utiliser la librairie \n",
        "<a href=\"https://pytorch.org/\"> `Pytorch`</a>.  Cette libraire fournit deux fonctionnalités extrêmement intéressantes:\n",
        "<ul>\n",
        "<li> Manipulation de tenseurs (matrices à plusieurs dimensions) permettant d'effectuer les calculs avec GPU.</li>\n",
        "<li> Utilisation de la différentiation automatique avec la classe <a href=\"http://pytorch.org/docs/master/autograd.html\"> autograd</a> permettant de calculer facilement la descente de gradient. </li>"
      ]
    },
    {
      "cell_type": "code",
      "execution_count": null,
      "metadata": {
        "id": "AugJkJX1t_NG"
      },
      "outputs": [],
      "source": [
        "import torch\n",
        "import torch.nn as nn\n",
        "import torch.nn.parallel\n",
        "import torch.optim as optim\n",
        "import torch.utils.data\n",
        "\n",
        "from torch.nn import functional\n",
        "from torch.autograd import Variable"
      ]
    },
    {
      "cell_type": "markdown",
      "metadata": {
        "id": "kvO1F_Rit_NH"
      },
      "source": [
        "Puisque nous travaillerons avec Pytorch, transformons les données de MoviesLens en objet tensoriel."
      ]
    },
    {
      "cell_type": "code",
      "execution_count": null,
      "metadata": {
        "id": "2pZ9HebFt_NH"
      },
      "outputs": [],
      "source": [
        "train = torch.FloatTensor(train_set)\n",
        "train, valid = train[0], train[1]\n",
        "test = torch.FloatTensor(test_set)"
      ]
    },
    {
      "cell_type": "markdown",
      "metadata": {
        "id": "ElcDNl1-t_NH"
      },
      "source": [
        "**! Remarque !** \n",
        "\n",
        "Bien que la documentation disponible pour Pytorch soit détaillée (comparativement à d'autres librairies en apprentissage profond), il est facile de s'y perdre. N'empêche, pour la suite de l'atelier, il n'est pas nécessaire de saisir la totalité des nuances associées aux différentes commandes. En fait, l'essentiel est plutôt de bien saisir les tenants et aboutissants des étapes clés présentées."
      ]
    },
    {
      "cell_type": "markdown",
      "metadata": {
        "id": "bL-TIiELt_NH"
      },
      "source": [
        "## 2.3 Implémentation\n",
        "\n",
        "Nous pouvons décliner en cinq étapes l'implémentation d'un AE comme système de recommandation:\n",
        "\n",
        "1. Initialisation de l'AE,\n",
        "2. Propagation message,\n",
        "3. Estimation:  calcul du coût et rétro propagation,\n",
        "4. Boucle d'apprentissage,\n",
        "5. Évaluation. "
      ]
    },
    {
      "cell_type": "markdown",
      "metadata": {
        "id": "L7NglEYet_NH"
      },
      "source": [
        "### 2.3.1 Initialisation\n",
        "\n",
        "Dans un premier temps, nous définissons la classe de l'auto-encodeur à l'aide de la classe <a href=\"http://pytorch.org/docs/master/nn.html#module\">torch.nn.Module</a>. En PyTorch, tout réseau de neurones doit hériter de cette classe. La classe d'auto-encodeur que nous définierons fait appel à d'autres classes communes dans Pytorch, telle <a href=\"http://pytorch.org/docs/master/nn.html#torch.nn.Linear\">torch.nn.Linear(in_features, out_features)</a>. Cette dernière  implémente une couche linéaire (comme son nom l'indique) et complétement connectée prenant par défaut deux paramètres, soit l'entrée (in_features) et la sortie (out_features).  \n",
        "\n",
        "##### Question 4\n",
        "\n",
        "1. Complétez l'initialisation de la classe d'auto-encodeur conformément au schéma de l'architecture présenté ci-dessus."
      ]
    },
    {
      "cell_type": "code",
      "execution_count": null,
      "metadata": {
        "id": "AeKm95YYt_NH"
      },
      "outputs": [],
      "source": [
        "class AE(nn.Module):\n",
        "    def __init__(self, nb_inputs, nb_outputs, nb_features, criterion=None):\n",
        "        \"\"\"\n",
        "        Args:\n",
        "            self: nom de la classe\n",
        "            nb_inputs: nombre neurones sur la couche d'entrée\n",
        "            nb_outputs: nombre neurones sur la couche de sortie\n",
        "            nb_features: nombre de neurones sur la couche cachée\n",
        "            criterion: fonction de perte utilisé pour l'apprentissage    \n",
        "        \"\"\"\n",
        "        super(AE, self).__init__()\n",
        "\n",
        "        # Complétez ici\n",
        "        # Et là\n",
        "        \n",
        "        self.criterion = criterion"
      ]
    },
    {
      "cell_type": "markdown",
      "metadata": {
        "id": "_KDGfyGzt_NH"
      },
      "source": [
        "La classe maintenant définie, nous définierons:\n",
        "\n",
        "1. Le nombre de neurones en entrée,\n",
        "2. Le nombre de neurones en sortie,\n",
        "3. Le nombre de neuronnes désirés dans la couche cachée. "
      ]
    },
    {
      "cell_type": "markdown",
      "metadata": {
        "id": "wbMVsl-mt_NI"
      },
      "source": [
        "##### Question 5\n",
        "\n",
        "1. Initialisez l'auto-encodeur avec les bonnes valeurs de paramètres.\n",
        "2. Est-ce pertinent que la couche cachée ait plus de neurones que la couche d'entrée?"
      ]
    },
    {
      "cell_type": "code",
      "execution_count": null,
      "metadata": {
        "colab": {
          "base_uri": "https://localhost:8080/",
          "height": 131
        },
        "id": "8q0jx0M1t_NI",
        "outputId": "2409e4e0-ad0b-4502-8933-8893ef23c7ef"
      },
      "outputs": [
        {
          "output_type": "error",
          "ename": "SyntaxError",
          "evalue": "ignored",
          "traceback": [
            "\u001b[0;36m  File \u001b[0;32m\"<ipython-input-21-9b7ca4c6c3a4>\"\u001b[0;36m, line \u001b[0;32m1\u001b[0m\n\u001b[0;31m    nb_inputs = ?\u001b[0m\n\u001b[0m                ^\u001b[0m\n\u001b[0;31mSyntaxError\u001b[0m\u001b[0;31m:\u001b[0m invalid syntax\n"
          ]
        }
      ],
      "source": [
        "nb_inputs = ?\n",
        "nb_outputs = ?\n",
        "nb_features = ?\n",
        "\n",
        "# Ininitalisation \n",
        "ae = AE(?)"
      ]
    },
    {
      "cell_type": "markdown",
      "metadata": {
        "id": "p-w_QsOst_NI"
      },
      "source": [
        "### 2.3.2 Propagation\n",
        "\n",
        "Lors de la phase de propagation, la fonction `forward` associée à la propagation du message définit les opérations à effectuer afin de calculer les éléments de la sortie. Cette fonction est indispensable, porte par défault le nom `forward` et doit concorder avec l'initialisation du modèle lors de l'étape précédente afin de permettre une rétropropagation adéquate.\n",
        "   \n",
        "Notons également l'utilisation de la méthode <a href=\"http://pytorch.org/docs/master/nn.html#torch-nn-functional\">torch.nn.functional</a> définissant un ensemble de fonctions qui peuvent être appliquées aux couches d'un réseau de neurones. Dans le cadre de cet atelier, nous utiliserons des fonctions non-linéaires comme <a href=\"http://pytorch.org/docs/master/nn.html#id36\">sigmoid</a> et des fonctions de coût tel l'erreur quadratique moyenne <a href=\"http://pytorch.org/docs/master/nn.html#mse-loss\">mse_loss</a>."
      ]
    },
    {
      "cell_type": "markdown",
      "metadata": {
        "id": "xBQvzoDTt_NI"
      },
      "source": [
        "##### Question 6\n",
        "\n",
        "1. Complétez la fonction `forward`."
      ]
    },
    {
      "cell_type": "code",
      "execution_count": null,
      "metadata": {
        "id": "yuO2nOojt_NI"
      },
      "outputs": [],
      "source": [
        "def forward(model, x):\n",
        "    \"\"\"\n",
        "    Args: \n",
        "        model: nom de l'auto-encodeur tel qu'initialisé\n",
        "        x: couche d'entrée, ici composée de 1682 neurones\n",
        "    Return: \n",
        "        predictions: la couche de sortie\n",
        "    \"\"\"\n",
        "    \n",
        "    # ...\n",
        "    \n",
        "    return ?"
      ]
    },
    {
      "cell_type": "markdown",
      "metadata": {
        "id": "Gh2_bcfKt_NI"
      },
      "source": [
        "### 2.2.2 Estimation des poids\n",
        "\n",
        "Bien que les réseaux de neurones présentent notamment dans capacités prédictives ahurissantes, la complexité de leur archicture peut s'avérer rapidement très grande. D'un point de vue calculatoire, cela se traduit entre autres choses par l'impossibilité d'obtenir un optimum global pour la fonction de coût et bien sûr, d'estimer la valeur des poids de façon analytique, comme cela peut être fait dans un modèle linéaire sous hypothèse de normalité. N'empêche, si aucun optimum global n'est garanti, et si accessoirement aucune forme analytique ne peut être calculée, il n'en demeure pas moins que les poids associés peuvent être estimés. \n",
        "\n",
        "En ce sens, la descente (stochastique) du gradient (et ses dérivées) est une technique d'optimisation efficace et largement mise de l'avant en apprentissage profond. Cette technique fait appel à trois concepts clés, soit:\n",
        "\n",
        "1. La fonction de coût.\n",
        "2. Le type d'optimisateur.\n",
        "3. La rétropropagation du gradient (implémentée dans la boucle d'apprentissage)"
      ]
    },
    {
      "cell_type": "markdown",
      "metadata": {
        "id": "aypm7cBht_NI"
      },
      "source": [
        "#### 2.2.2.1 Fonction de coût\n",
        "\n",
        "Comme nous l'avons vu lors du précédent atelier, la fonction de coût joue un rôle déterminant dans la construction d'un modèle prédictif. En effect, c'est cette même fonction de coût que nous essaierons de minimiser (ou maximiser c'est selon) en ajustant itérativement les poids de l'AE au fur et à mesure que nous lui fournirons des évaluations. Ainsi, deux fonctions de coût différentes entraîneront fort probablement deux modèles différents. Comme d'habitude, Pytorch propose une grande quantité  de <a href=\"http://pytorch.org/docs/master/nn.html#id42\"> fonctions de coût</a> que vous pourrez explorer à votre guise.\n",
        "\n",
        "Dans la mesure où l'on considère que les évaluations varient entre 1 et 5, l'erreur quadratique moyenne (EQM) semble une première option intéressante. Formellement, dans le cadre d'un système de recommandation, nous définierons l'EQM ainsi : \n",
        "\n",
        "$$\n",
        "\\begin{align}\n",
        "EQM (\\mathbf{R}, \\hat{\\mathbf{R}}) = \\frac{1}{n} \\sum_{r_{ui} \\neq 0} (r_{ui} - \\hat{r}_{ui})^2, \n",
        "\\end{align}\n",
        "$$\n",
        "\n",
        "où $\\mathbf{R}$ et $\\hat{\\mathbf{R}}$ sont respectivement les matrices des évaluations observées et prédites, $n$ est le nombre total d'estimations effectuées. De la même façon, $r_{ui}$ et $\\hat{r}_{ui}$ sont des scalaires associés respectivement à l'évaluation observée et l'évaluation estimée de l'usager $u$ pour l'item $i$.\n",
        "\n",
        "Puisque nous avons codé la fonction de coût comme étant un attribut de la classe des auto-encodeurs, nous pouvons la définir avec la commande suivante."
      ]
    },
    {
      "cell_type": "code",
      "execution_count": null,
      "metadata": {
        "id": "wS6WIz5Tt_NI"
      },
      "outputs": [],
      "source": [
        "ae.criterion = nn.MSELoss()"
      ]
    },
    {
      "cell_type": "markdown",
      "metadata": {
        "id": "1Fnrzge9t_NJ"
      },
      "source": [
        "##### Question 7\n",
        "\n",
        "1. Si l'EQM nous semble une fonction de coût intéressante dans le cas de système de recommandation avec des données explicites, quelle fonction de coût pertinente aurait pu être implémentée si les données avaient été implicites (évaluations binaires en fonction des préférences)? "
      ]
    },
    {
      "cell_type": "markdown",
      "metadata": {
        "id": "-RExaeEJt_NJ"
      },
      "source": [
        "#### 2.2.2.2 Optimiseur\n",
        "\n",
        "PyTorch fournit plusieurs <a href=\"http://pytorch.org/docs/master/optim.html#algorithms\"> méthodes d'optimisation</a> plus ou moins dérivées de la descente du gradient via la classe `torch.optim`. Parmi ces techniques, nommons: \n",
        "<ul>\n",
        "<li> SGD (Descente Stochastique du Gradient) : implémentation de SGD.\n",
        "<li> Adam (Adaptive Moment Estimation) : variation de la méthode de descente de gradient où le taux d'apprentissage est ajusté pour chaque paramètre.     \n",
        "<li> RMSprop : fonction de coût adaptée aux systèmes de recommandations. Plus de détails <a href=\"http://www.cs.toronto.edu/~tijmen/csc321/slides/lecture_slides_lec6.pdf\">ici</a>.\n",
        "</ul>\n",
        "\n",
        "Dans tous les cas, lorsque nous utilisons des méthodes d'optimisation itératives, nous devons fournir un pas d'apprentissage (learning rate) et une contrainte sur les poids, pour des raisons similaires à celles évoquées lors du précédent atelier. "
      ]
    },
    {
      "cell_type": "code",
      "execution_count": null,
      "metadata": {
        "id": "CzdWR17Vt_NJ"
      },
      "outputs": [],
      "source": [
        "learning_rate = 0.02\n",
        "weight_decay = 0.2\n",
        "\n",
        "optimizer = optim.RMSprop(ae.parameters(), lr=learning_rate, weight_decay=weight_decay)"
      ]
    },
    {
      "cell_type": "markdown",
      "metadata": {
        "id": "_bueZCHgt_NJ"
      },
      "source": [
        "#### 2.2.2.3 Rétropropagation du gradient\n",
        "\n",
        "En Pytorch, la rétropropagation du gradient est simplifiée grâce à la différentiation automatique du gradient et de la classe <a href=\"http://pytorch.org/docs/master/notes/autograd.html\">autograd</a>. Celle-ci se fait en deux temps:\n",
        "\n",
        "1. Calcul de la fonction de coût avec la fonction définie au préalable dans la classe de l'AE.\n",
        "2. Dérivation automatique de la fonction de coût grace à la fonction `backward()`.\n",
        "\n",
        "L'ensemble du processus de rétropropagation est directement implémenté dans la boucle d'apprentissage définie ci-dessous."
      ]
    },
    {
      "cell_type": "markdown",
      "metadata": {
        "id": "6xtDsvCEt_NJ"
      },
      "source": [
        "### 2.2.3 Boucle d'apprentissage\n",
        "\n",
        "Lorsqu'un auto-encodeur (et de façon générale une architecture basée sur l'apprentissage profond) est utilisé comme système de recommandation, la boucle d'apprentissage diffère quelque peu de celle associée aux modèles basés sur la factorisation matricielle. Ainsi, chaque évaluation n'est plus considérée de façon individuelle, comme c'était le cas auparavant, mais est ici considérée sur l'ensemble des évaluations fournies par un individu donné par exemple.\n",
        "\n",
        "##### Question 8\n",
        "\n",
        "1. Complétez la phase de propagation.\n",
        "2. À la fin de chaque époque, quelle statistique serait-il préférable de calculer? Codez-la. Remarque : il est préférable d'initialiser des objets en début de fonction (voir ligne 6)\n",
        "3. Implémentez la phase de rétropropagation.\n",
        "4. Dans la mesure où des données issues de l'ensemble d'entraînement, de validation ou de test peuvent être utilisées dans la fonction fit, quelles condition devrions-nous mettre à la ligne 22?"
      ]
    },
    {
      "cell_type": "code",
      "execution_count": null,
      "metadata": {
        "id": "u-8otsPat_NJ"
      },
      "outputs": [],
      "source": [
        "def fit(model, x, y, valid=False):\n",
        "    \"\"\"\n",
        "    Args:\n",
        "        model: nom de l'auto-encodeur tel qu'initialisé\n",
        "        x: entrées\n",
        "        y: sorties\n",
        "        valid: variable booléene nous permettant de dire si on veut ajuster les poids du modèle ou nom\n",
        "    Returns:\n",
        "        model: le modèle d'AE, entraîné ou pas\n",
        "        average_loss: scalaire associée à la fonction de perte\n",
        "        s: compteur du nombre d'observations en terme de x\n",
        "    \"\"\"\n",
        "    \n",
        "    nb_obs, nb_items = len(x), len(x[0])\n",
        "    average_loss, s = 0, 0.\n",
        "\n",
        "    for id_user in range(nb_obs):\n",
        "\n",
        "        inputs = Variable(x[id_user]).unsqueeze(0)\n",
        "        target = Variable(y[id_user]).unsqueeze(0)\n",
        "\n",
        "        if torch.sum(target > 0) > 0:\n",
        "            \n",
        "            # Question 8.1: Phase de propagation\n",
        "            #estimate = ?\n",
        "            #\n",
        "            target.require_grad = False\n",
        "            \n",
        "            # Question 8.3: Phase de rétropropagation\n",
        "            # loss = ?\n",
        "            \n",
        "            # Question 8.4: Condition\n",
        "            if ?:\n",
        "                #loss.backward()\n",
        "                #optimizer.step()\n",
        "\n",
        "            # Question 8.2: Statistique à calculer\n",
        "            #\n",
        "            s += 1.\n",
        "\n",
        "    return model, average_loss, s"
      ]
    },
    {
      "cell_type": "markdown",
      "metadata": {
        "id": "ydMsQWZet_NJ"
      },
      "source": [
        "## 2.4 Entraînement de l'AE\n",
        "\n",
        "L'auto-encodeur et les fonctions associées maintenant implémentés, nous pouvons commencer à entraîner le modèle. Encore une fois, le but ici n'est pas d'ajuster les paramètres de façon telle à obtenir le meilleur modèle possible, mais simplement de comprendre le rôle que ceux-ci peuvent jouer en fonction de leur capacité prédictive. \n",
        "\n",
        "##### Question 9\n",
        "\n",
        "1. Finissez d'implémenter la phase d'entraînement."
      ]
    },
    {
      "cell_type": "code",
      "execution_count": null,
      "metadata": {
        "id": "L5CyzMQDt_NK"
      },
      "outputs": [],
      "source": [
        "nb_epoch = 20\n",
        "\n",
        "for epoch in range(1, nb_epoch + 1):\n",
        "    \n",
        "    # ...\n",
        "    \n",
        "    print(\"epoch: \", \"{:3.0f}\".format(epoch), \"   |   train: \", \"{:1.8f}\".format(train_loss.numpy() / train_s), \\\n",
        "                    '   |   valid: ', \"{:1.8f}\".format(valid_loss.numpy() / valid_s))"
      ]
    },
    {
      "cell_type": "markdown",
      "metadata": {
        "id": "vqLkcXcKt_NK"
      },
      "source": [
        "Vous pouvez maintenant manipuler les différents paramètres et hyperparamètres de l'AE. Parmi les différentes modifications que vous pouvez apporter, voici une (courte et non exhaustive) liste des modifications facilement implémentables:\n",
        "\n",
        "1. Changer les hyperparamètres (un peu plate).\n",
        "2. Augmenter la taille de la couche cachée (plus intéressant).\n",
        "3. Ajouter des couches cachées au modèle en prenant soin de bien les initialiser et d'adapter la fonction forward.\n",
        "4. Dichotomiser les données à l'aide d'un seuil (par exemple 3) et rouler l'ensemble du code en adaptant ou pas la fonction de coût tel que discuté précédemment."
      ]
    },
    {
      "cell_type": "markdown",
      "metadata": {
        "id": "LNtOwE4Kt_NK"
      },
      "source": [
        "Enfin, nous pouvons évaluer les performances de notre modèle sur l'ensemble test."
      ]
    },
    {
      "cell_type": "code",
      "execution_count": null,
      "metadata": {
        "id": "7aMKpm-Wt_NK"
      },
      "outputs": [],
      "source": [
        "ae, test_loss, test_s = fit(model=ae, x=test, y=test, valid=True)\n",
        "print('test: ', np.around(test_loss.numpy() / test_s, 4))"
      ]
    },
    {
      "cell_type": "markdown",
      "metadata": {
        "id": "ruZtVEAxt_NK"
      },
      "source": [
        "## 2.5 Analyse\n",
        "\n",
        "\n",
        "### 2.5.1 Exploration de la couche latente\n",
        "\n",
        "De façon analogue à ce qui a été présenté dans l'atelier sur la factorisation matricielle, nous pouvons explorer la couche latente de l'AE. Dans la mesure où la couche d'entrée représente l'ensemble des évaluations pour un individu donnée, chaque neurone de la couche latente sera associé à un attribut latent d'un individu.\n",
        "\n",
        "À titre d'exemple, posons $\\mathbf{H}_{|U| \\times k}$ la matrice associée à la couche la tente où chaque ligne représente la représentation latente des préférences pour un usager donné et où chaque colonne représente un neurone de cette même couche. Supposons maintenant que les deux premiers neurones de la couche latente  présentent les valeurs suivantes: \n",
        "\n",
        "$$\n",
        "\\begin{align}\n",
        "h_1 &= [1.0, \\ 0.0, \\ -0.5, \\ ..., \\ 1.0, \\ -1.0 ] \n",
        "\\qquad \\text{et} \\qquad\n",
        "h_2 = [1.0, \\ 0.0,  \\ 0.5, \\ ..., \\ -1.0, \\ -0.8 ].\n",
        "\\end{align}\n",
        "$$\n",
        "\n",
        "Et qu'à ces valeurs correspondent les usagers suivant: \n",
        "\n",
        "1. Serena,\n",
        "2. Kali,\n",
        "3. Neil,\n",
        "4. Marie,\n",
        "5. David.\n",
        "\n",
        "Nous pourrons dès lors cartographier les usagers en fonction des valeurs associées à $h_1$ et $h_2$:\n",
        "\n",
        "![title](https://github.com/davidberger2785/RS-Workshop/blob/master/Images/hidden_4.png?raw=1)\n",
        "\n",
        "Cette façon de faire pourrait nous permettre d'effectuer des grappes d'individus en fonction des attributs latents. En fait, un rapide coup d'oeil nous permet de penser que les préférences en terme de cinéma de Serena sont à l'opposé de David, ce qui n'a rien de bien surprenant.\n",
        "\n",
        "Avec les commandes suivantes, nouus proposons d'explorer davatange la structure latente de l'AE."
      ]
    },
    {
      "cell_type": "code",
      "execution_count": null,
      "metadata": {
        "id": "8-LCTRs5t_NK"
      },
      "outputs": [],
      "source": [
        "x = train\n",
        "hidden = torch.sigmoid(ae.fc1(x)).detach().numpy()"
      ]
    },
    {
      "cell_type": "markdown",
      "metadata": {
        "id": "ohN1yjtct_NK"
      },
      "source": [
        "Bien que cette information nous semble informe, nous pourrions nous intéresser, par exemple, aux mesures d'association entre les différentes couches cachées, ou encore une couche cachée et une des caractéristiques sociodémographiques. Pour ce faire, une avenue intéressante serait de simplement calculer les corrélations associées."
      ]
    },
    {
      "cell_type": "code",
      "execution_count": null,
      "metadata": {
        "id": "U0F8qke3t_NL"
      },
      "outputs": [],
      "source": [
        "df = pd.DataFrame(np.array(hidden))\n",
        "\n",
        "f = plt.figure(figsize=(6, 6))\n",
        "plt.matshow(df.corr(), fignum=f.number)\n",
        "plt.xticks(range(df.shape[1]), df.columns, fontsize=10, rotation=0)\n",
        "plt.yticks(range(df.shape[1]), df.columns, fontsize=10)\n",
        "cb = plt.colorbar()\n",
        "cb.ax.tick_params(labelsize=10)"
      ]
    },
    {
      "cell_type": "markdown",
      "metadata": {
        "id": "nbwGnwYBt_NL"
      },
      "source": [
        "Premièrement, en explorant simplement les corrélations entre les différents neurones.\n",
        "\n",
        "##### Question 10\n",
        "\n",
        "1. Quel neurone de la couche cachée vous semble <i>a priori</i> le plus intéressant? Pourquoi?\n",
        "\n",
        "##### Question 11\n",
        "\n",
        "1. L'étude de la couche latente s'est faite ici en fonction des utilisateurs du système. Serait-il possible d'étudier les couches latentes associées aux individus. Si oui, comment?"
      ]
    },
    {
      "cell_type": "markdown",
      "metadata": {
        "id": "CgdzKTOit_NL"
      },
      "source": [
        "# 3. Applications\n",
        "\n",
        "L'un des objectifs premier des systèmes de recommandation est d'effectuer de recommandations (!) personnalisées pour chacun des utilisateurs. Dès lors, il pourrait être intéressant d'étudier les recommandations effectuées par notre modèle pour un individu spécifique. Il serait également préférable que les recommendations faites ne suggèrent que des films non visionnés par l'usager.\n",
        "\n",
        "##### Question 12\n",
        "\n",
        "1. Implémentez une courte fonction afin d'effectuer les <i>k</i> meilleures recommandations de films n'ayant pas encore été visionnés pour un usager choisi."
      ]
    },
    {
      "cell_type": "code",
      "execution_count": null,
      "metadata": {
        "id": "u6afum84t_NL"
      },
      "outputs": [],
      "source": [
        "def recommendations(model, data, titles, k):\n",
        "    \"\"\"\n",
        "    Args:\n",
        "        model: nom de l'auto-encodeur tel qu'initialisé\n",
        "        data: les évaluations associées à l'usager\n",
        "        titles: listes de titres des objets potentiellement recommandés\n",
        "        k: nombre de recommandations voulues\n",
        "    Return:\n",
        "        names: titres des recommandations\n",
        "        scores: le score qui leur est associé\n",
        "    \"\"\"\n",
        "\n",
        "    # ...\n",
        "    \n",
        "    return ?"
      ]
    },
    {
      "cell_type": "markdown",
      "metadata": {
        "id": "eno0iQTxt_NL"
      },
      "source": [
        "Appel de la fonction avec quelques manipulations..."
      ]
    },
    {
      "cell_type": "code",
      "execution_count": null,
      "metadata": {
        "id": "yQwYsWhwt_NL"
      },
      "outputs": [],
      "source": [
        "user_id = 0\n",
        "k=10\n",
        "\n",
        "names, scores = recommendations(?)"
      ]
    },
    {
      "cell_type": "markdown",
      "metadata": {
        "id": "uX0hyKRVt_NL"
      },
      "source": [
        "Comme nous l'avons vu lors de l'atelier portant sur les systèmes de recommandation basés sur la factorisation matricielle, nous pouvons facielement personnaliser les algorithmes en fonction de plusieurs paramètres. À titre d'exemple, nous pourrions implémenter un systèmes proposant les meilleures recommandations en fonction:\n",
        "\n",
        "1. D'un genre de film en particulier.\n",
        "2. D'une préférence minimale souhaitée: un score minimal prédit strictrement supérieur à 4,5 par exemple."
      ]
    },
    {
      "cell_type": "markdown",
      "metadata": {
        "id": "6-oxWhNKt_NM"
      },
      "source": [
        "##### Question 13\n",
        "\n",
        "1. Est-ce que les recommandations faites pour un même usager sont les mêmes d'un algorithme à l'autre?"
      ]
    },
    {
      "cell_type": "markdown",
      "metadata": {
        "id": "I98CFDMJt_NM"
      },
      "source": [
        "# 4. Autres idées de modélisations\n",
        "\n",
        "Jusqu'à présent, nous n'avons considéré que les évaluations dans notre modèle. Il pourrait être intéressant de considérer d'autres types de modélisations. \n",
        "\n",
        "Par exemple, au lieu d'utiliser les évaluations de films fait par un individu comme couche d'entrée (donc 1682 neurones), nous pourrions utiliser les évaluations des individus pour un film en particulier (et donc 943 neurones en couches d'entrée). Dans la même veine, à cette modélisation, nous pourrions incorporer les différents genre des films et/ou leur année de sortie.\n",
        "\n",
        "Enfin, nous pourrions simplement nous détacher des auto-encodeurs et lorgner d'autres types d'architectures. En considérant les différentes fonctions et classe précédement codées, nous pourrions implémenter un perceptron multicouche. Pour ce faire, les entrées du réseaux seraient exactement les mêmes, à la différence que les cibles ne seraient constituées que de films non visionnés."
      ]
    },
    {
      "cell_type": "markdown",
      "metadata": {
        "id": "bVGgxdypt_NM"
      },
      "source": [
        "## 4.1 Utilisation des données sociodémographiques\n",
        "\n",
        "Il pourrait être intéressant de vérifier si l'utilisation des données sociodémographiques des usagers améliore ou non les capacités prédictives du modèle. En fait, dans la mesure où pareilles informations n'amélioreraient que très peu les capacités du modèle, elles pourraient être utiles lorsqu'un nouvel usager compte utiliser le système de recommandation mis en place. Bien qu'imparfaites, les informations associées à l'âge, le genre et l'occupation d'un usager pourraient être utiles pour présenter les premières recommendations.\n",
        "\n",
        "Afin d'observer comment l'AE se comporte avec de telles données, nous devons dans un premier temps modifier les différents ensembles afin que ceux-ci présentent les informations sociodémographiques de chaque usager."
      ]
    },
    {
      "cell_type": "code",
      "execution_count": null,
      "metadata": {
        "id": "F-cNDL62t_NM"
      },
      "outputs": [],
      "source": [
        "train_inputs = torch.FloatTensor(utl.inner_concatenation(user_attributes, train_set[0]))\n",
        "train_outputs = torch.FloatTensor(train_set[0])\n",
        "\n",
        "valid_inputs = torch.FloatTensor(utl.inner_concatenation(user_attributes, train_set[1]))\n",
        "valid_outputs = torch.FloatTensor(train_set[0])\n",
        "\n",
        "test_inputs = torch.FloatTensor(utl.inner_concatenation(user_attributes, test_set))\n",
        "test_outputs = torch.FloatTensor(test_set)"
      ]
    },
    {
      "cell_type": "markdown",
      "metadata": {
        "id": "dllnelAyt_NM"
      },
      "source": [
        "##### Question 14\n",
        "\n",
        "1. Initialisez l'auto-encodeur."
      ]
    },
    {
      "cell_type": "code",
      "execution_count": null,
      "metadata": {
        "id": "Si-z13okt_NM"
      },
      "outputs": [],
      "source": []
    },
    {
      "cell_type": "markdown",
      "metadata": {
        "id": "T1iV4ogqt_NM"
      },
      "source": [
        "##### Question 15\n",
        "\n",
        "1. Implémentez la phase d'entraînement."
      ]
    },
    {
      "cell_type": "code",
      "execution_count": null,
      "metadata": {
        "id": "C3b_fm7Tt_NN"
      },
      "outputs": [],
      "source": []
    },
    {
      "cell_type": "markdown",
      "metadata": {
        "id": "abZbsg1Jt_NN"
      },
      "source": [
        "##### Question 16\n",
        "\n",
        "1. Calculez les performances sur l'ensemble test."
      ]
    },
    {
      "cell_type": "code",
      "execution_count": null,
      "metadata": {
        "id": "alC187Hct_NN"
      },
      "outputs": [],
      "source": []
    },
    {
      "cell_type": "markdown",
      "metadata": {
        "id": "lG9GxR9Pt_NN"
      },
      "source": [
        "### 4.1.1 Problème du démarrage à froid\n",
        "\n",
        "En fait, et tel que mentionné précédemment, au-delà d'améliorer les performances du modèle en fonction de la métrique choisie, l'incorporation de variables sociodémographiques dans le modèle permet d'effectuer des recommandations à un nouvel utilisateur simplement en fonction de ses attributs. Cette modélisation permet de contrecarrer le problème de démarrage à froid ou mieux connu sous le nom de <i>cold start</i>.\n",
        "\n",
        "##### Question 17\n",
        "\n",
        "1. Fixer l'âge, le genre et l'occupation d'un individu.\n",
        "2. Considérer que ce-dernier n'a encore évaluer aucun film.\n",
        "3. Présentez-lui, selon le modèle estimée, les meilleures recommandations de films.\n",
        "4. Faites varier les attributs de l'individus.\n",
        "5. Que remarquez-vous?"
      ]
    },
    {
      "cell_type": "code",
      "execution_count": null,
      "metadata": {
        "id": "hOBXNSx8t_NN"
      },
      "outputs": [],
      "source": [
        "# Question 17.1: Fixez les attributs d'un individu\n",
        "age = [10]\n",
        "gender = [1]\n",
        "\n",
        "occupation = np.zeros(len(occupation_name))\n",
        "occupation_name = np.array(pd.read_csv('../data/ml-100k/u.occupation', \n",
        "                                            sep='|', header=None, engine='python', encoding='latin-1').loc[:, 0])\n",
        "\n",
        "occupation[occupation_name.tolist().index('artist')] = 1\n",
        "\n",
        "# Question 17.2: Aucun film\n",
        "\n",
        "\n",
        "# Question 17.3: Meilleures recommandations\n"
      ]
    }
  ],
  "metadata": {
    "kernelspec": {
      "display_name": "Python 3",
      "language": "python",
      "name": "python3"
    },
    "language_info": {
      "codemirror_mode": {
        "name": "ipython",
        "version": 3
      },
      "file_extension": ".py",
      "mimetype": "text/x-python",
      "name": "python",
      "nbconvert_exporter": "python",
      "pygments_lexer": "ipython3",
      "version": "3.7.3"
    },
    "colab": {
      "provenance": [],
      "include_colab_link": true
    }
  },
  "nbformat": 4,
  "nbformat_minor": 0
}