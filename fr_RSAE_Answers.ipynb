{
 "cells": [
  {
   "cell_type": "markdown",
   "id": "4a276b32",
   "metadata": {
    "id": "KZuuQePvyVel"
   },
   "source": [
    "# Movie recommendation using Autoencoder \n",
    "## IVADO - Online course on Recommender Systems \n",
    "\n",
    "Colab notebook content with key answers originally created for IVADO's workshop on Recommender Systems, August 2019. \n",
    "\n",
    "\n",
    "<b> Authors: </b>\n",
    "\n",
    "David Berger \n",
    "\n",
    "Laurent Charlin \n",
    "\n",
    "Nissan Pow "
   ]
  },
  {
   "cell_type": "markdown",
   "id": "0e78f307",
   "metadata": {
    "id": "GoaUKoMKyVem"
   },
   "source": [
    "# 1. Introduction\n",
    "\n",
    "In this workshop, we propose to implement recommendation systems based on an autoencoder (AE), a classic architecture in deep learning. As with the <i>Matrix factorization</i> workshop, we will use the database <a href=\"https://grouplens.org/datasets/movielens/\"> MovieLens </a> to train the models and conduct experiments."
   ]
  },
  {
   "cell_type": "markdown",
   "id": "6646e735",
   "metadata": {
    "id": "cvwxPf8QyVen"
   },
   "source": [
    "## 1.1 Installing libraries\n",
    "\n",
    "Before we begin, we must make sure to install the libraries for the tutorial using `pip`. To do this, run the following cell by selecting it and clicking `shift`+`Enter`."
   ]
  },
  {
   "cell_type": "code",
   "execution_count": null,
   "id": "6dd83c68",
   "metadata": {
    "id": "pie7pe3eyVeo",
    "outputId": "e3eb27cc-9145-41d2-fedc-d6f200b1c1bb"
   },
   "outputs": [],
   "source": [
    "!rm -rf RS-Workshop\n",
    "!git clone https://github.com/davidberger2785/RS-Workshop"
   ]
  },
  {
   "cell_type": "markdown",
   "id": "41867f4c",
   "metadata": {
    "id": "KuAihIGWyVes"
   },
   "source": [
    "To ensure that the installation has taken place, import all the libraries and modules we will use for this workshop by running the next cell."
   ]
  },
  {
   "cell_type": "code",
   "execution_count": null,
   "id": "7467619e",
   "metadata": {
    "id": "37V4peOHyVes"
   },
   "outputs": [],
   "source": [
    "import numpy as np\n",
    "import pandas as pd\n",
    "\n",
    "# Data vizualisation\n",
    "import matplotlib.pyplot as plt\n",
    "import seaborn as sns\n",
    "\n",
    "import os\n",
    "import sys\n",
    "\n",
    "# Homemade functions\n",
    "sys.path += ['RS-Workshop/Tutoriels - En/']\n",
    "import utilities as utl"
   ]
  },
  {
   "cell_type": "markdown",
   "id": "55d39257",
   "metadata": {
    "id": "eLqG-sKyyVev"
   },
   "source": [
    "We have also coded some boilerplate functions that we have grouped together in the `utilities` library. In fact, these functions probably already exist in python, but we simply ignore thier existence ..."
   ]
  },
  {
   "cell_type": "markdown",
   "id": "cf3864bb",
   "metadata": {
    "id": "7ndOA7zTyVev"
   },
   "source": [
    "## 1.2 Goal\n",
    "\n",
    "The purpose of recommender systems is, as the name implies, to make personalized recommendations. Ideally, these recommendations will have to be good, although this concept seems fuzzy. Unlike other tasks in machine learning, such as the cats images recognition or stock market predictions, making recommendations to help a user is more complex. Is the aim to present a specific user with suggestions that reinforce her previous choices? Do we want to present complementary or totally independent suggestions for the items previously considered? Will we try instead to present her items to which she has not yet been exposed? Each of these options are correct and can be modeled. Without loss of generality, the diagram below simply models the issue of recommendation systems from the perspective of machine learning.\n",
    "\n",
    "![title](https://github.com/davidberger2785/RS-Workshop/blob/master/Images/High_level_1.png?raw=1)\n",
    "\n",
    "Nevertheless, in the context of this workshop, that is, either the suggestion of movies on streaming platforms such as Netflix or Amazon Prime, we can reduce the problem to a relatively simple task: recommend movies that the user will like according to her past interests. In order to carry out this task, we will use all the preferences of the users, certain associated sociodemographic variables as well as certain characteristics of the movies. Finally, we can refine the diagram as follows:\n",
    "\n",
    "![title](https://github.com/davidberger2785/RS-Workshop/blob/master/Images/High_level_2.png?raw=1)"
   ]
  },
  {
   "cell_type": "markdown",
   "id": "b02482bb",
   "metadata": {
    "id": "1K36nGOzyVew"
   },
   "source": [
    "## 1.3 The MoviesLens dataset(s)\n",
    "\n",
    "The data used here consist of more or less 100k movie evaluations by 943 users. Over 1,6k movies are available. In addition to the 100k evaluations, additional information related to users and movies is available.\n",
    "\n",
    "We will use three different datasets to carry out our analyses:\n",
    "\n",
    "<ul>\n",
    "<li> Users : related to users' characteristics,\n",
    "<li> Movies : related to movies' characteristics,\n",
    "<li> Ratings : containing over 100k evaluations.\n",
    "</ul>\n",
    "\n",
    "We used the <a href=\"https://pandas.pydata.org/\">Pandas</a> library in order to download and manipulate the datasets."
   ]
  },
  {
   "cell_type": "markdown",
   "id": "074958d2",
   "metadata": {
    "id": "7BnJO_bUyVew"
   },
   "source": [
    "### 1.3.1 Users: Download and preprocessing"
   ]
  },
  {
   "cell_type": "code",
   "execution_count": null,
   "id": "af6d6e6f",
   "metadata": {
    "id": "k6oNQkZdyVew",
    "outputId": "531b31f0-2c96-4a6e-fd9d-9e09d8452862"
   },
   "outputs": [],
   "source": [
    "# Download\n",
    "ROOT_DIR = 'RS-Workshop/'\n",
    "DATA_DIR = os.path.join(ROOT_DIR, 'data/ml-100k/')\n",
    "\n",
    "users = pd.read_csv(os.path.join(DATA_DIR, 'u.user'), \n",
    "                        sep='|', header=None, engine='python', encoding='latin-1')\n",
    "\n",
    "# Different variables according to the information provided in the readme file\n",
    "users.columns = ['Index', 'Age', 'Gender', 'Occupation', 'Zip code']\n",
    "\n",
    "# Quick overview\n",
    "users.head()"
   ]
  },
  {
   "cell_type": "markdown",
   "id": "644667f3",
   "metadata": {
    "id": "LhwfuWKQyVe0"
   },
   "source": [
    "Before presenting some descriptive statistics related to the population, we transform the users' data in a <a href=\"https://en.wikipedia.org/wiki/List_(abstract_data_type)\">list</a> in order to be able to handle them more easily. The occupation of each user is a string, so we have recoded the 21 possible occupations in Boolean."
   ]
  },
  {
   "cell_type": "code",
   "execution_count": null,
   "id": "e73e029d",
   "metadata": {
    "id": "8d5yGq4WyVe1"
   },
   "outputs": [],
   "source": [
    "# Number of users\n",
    "nb_users = len(users)\n",
    "\n",
    "# Gender\n",
    "gender = np.where(np.matrix(users['Gender']) == 'M', 0, 1)[0]\n",
    "\n",
    "# Occupation\n",
    "occupation_name = np.array(pd.read_csv(os.path.join(DATA_DIR, 'u.occupation'), \n",
    "                                            sep='|', header=None, engine='python', encoding='latin-1').loc[:, 0])\n",
    "\n",
    "# Boolean transformation of user's occupation\n",
    "occupation_matrix = np.zeros((nb_users, len(occupation_name)))\n",
    "\n",
    "for k in np.arange(nb_users):\n",
    "    occupation_matrix[k, occupation_name.tolist().index(users['Occupation'][k])] = 1\n",
    "\n",
    "# Concatenation of the sociodemographic variables \n",
    "user_attributes = np.concatenate((np.matrix(users['Age']), np.matrix(gender), occupation_matrix.T)).T.tolist()"
   ]
  },
  {
   "cell_type": "markdown",
   "id": "5200d96c",
   "metadata": {
    "id": "1olA9hCSyVe3"
   },
   "source": [
    "We then explore the descriptive statistics of the users. These include information related to age (continuous variable), gender (binary variable) and occupation of each user (21, all binary)."
   ]
  },
  {
   "cell_type": "markdown",
   "id": "39f1e546",
   "metadata": {
    "id": "vOAZP0V4yVe3"
   },
   "source": [
    "Descriptive statistics related to <i>Age."
   ]
  },
  {
   "cell_type": "code",
   "execution_count": null,
   "id": "ff2205d1",
   "metadata": {
    "id": "ArsEuqLEyVe4",
    "outputId": "bfabec63-778d-4e15-9ec5-628a8ba1029f"
   },
   "outputs": [],
   "source": [
    "pd.DataFrame(users['Age'].describe()).T"
   ]
  },
  {
   "cell_type": "markdown",
   "id": "226024af",
   "metadata": {
    "id": "1cpvcFoMyVe6"
   },
   "source": [
    "Barplot graph related to <i>Gender."
   ]
  },
  {
   "cell_type": "code",
   "execution_count": null,
   "id": "b3963bbc",
   "metadata": {
    "id": "Axr6qwKVyVe7",
    "outputId": "4caf4ddb-0d97-41dc-e9c0-e0f892f982fd"
   },
   "outputs": [],
   "source": [
    "utl.barplot(['Women', 'Men'], np.array([np.mean(gender) , 1 - np.mean(gender)]) * 100, \n",
    "            'Sex', 'Percentage (%)', \"User's gender\", 0)"
   ]
  },
  {
   "cell_type": "markdown",
   "id": "e174088b",
   "metadata": {
    "id": "f1ktwWizyVe9"
   },
   "source": [
    "Barplot graph related to <i>Occupation."
   ]
  },
  {
   "cell_type": "code",
   "execution_count": null,
   "id": "23744ec2",
   "metadata": {
    "id": "r5lS_wfeyVe-",
    "outputId": "cee8669a-5495-4d35-b310-e1f5c9523cbd"
   },
   "outputs": [],
   "source": [
    "attributes, scores = utl.rearrange(occupation_name, np.mean(occupation_matrix, axis=0) * 100)\n",
    "utl.barplot(attributes, scores, 'Occupation', 'Percentage (%)', \"User's occupation\", 90)"
   ]
  },
  {
   "cell_type": "markdown",
   "id": "8a540801",
   "metadata": {
    "id": "9b7YktwFyVfA"
   },
   "source": [
    "### 1.3.2 Movies: Download and preprocesssing\n",
    "\n",
    "In the same way, we process and explore the data associated with the movies. For each movie, we have the title, the release date in North America, as well as the genres with which it is associated."
   ]
  },
  {
   "cell_type": "code",
   "execution_count": null,
   "id": "d34cbd10",
   "metadata": {
    "id": "_kLbXOehyVfB",
    "outputId": "a9e95092-cff8-4046-b4a9-db679cfbc130"
   },
   "outputs": [],
   "source": [
    "movies = pd.read_csv(os.path.join(DATA_DIR, 'u.item'), sep='|', header=None, engine='python', encoding='latin-1')\n",
    "\n",
    "# Number of movies\n",
    "nb_movies = len(movies)\n",
    "\n",
    "# Genres\n",
    "movies_genre = np.matrix(movies.loc[:, 5:])\n",
    "movies_genre_name = np.array(pd.read_csv(os.path.join(DATA_DIR, 'u.genre'), sep='|', header=None, engine='python', encoding='latin-1').loc[:, 0])\n",
    "\n",
    "# Quick overview\n",
    "movies.columns = ['Index', 'Title', 'Release', 'The Not a Number column', 'Imdb'] + movies_genre_name.tolist()\n",
    "movies.head()"
   ]
  },
  {
   "cell_type": "markdown",
   "id": "af2179a6",
   "metadata": {
    "id": "kpZif01myVfE"
   },
   "source": [
    "We present the ratio of movies according to the genre as a descriptive statistic."
   ]
  },
  {
   "cell_type": "code",
   "execution_count": null,
   "id": "65d30593",
   "metadata": {
    "id": "5kMZfyolyVfE",
    "outputId": "9c3399fe-2f3c-4ef2-e6b3-2474d9c10aad"
   },
   "outputs": [],
   "source": [
    "attributes, scores = utl.rearrange(movies_genre_name, \n",
    "                                   np.array(np.round(np.mean(movies_genre, axis=0) * 1, 2))[0])\n",
    "utl.barplot(attributes, np.array(scores) * 100, xlabel='Genre', ylabel='Percentage (%)', \n",
    "            title=\" \", rotation = 90)"
   ]
  },
  {
   "cell_type": "markdown",
   "id": "87b2780b",
   "metadata": {
    "id": "-AeRKojryVfH"
   },
   "source": [
    "### 1.3.3 Ratings: Download and preprocessing\n",
    "\n",
    "The dataset based on users ratings consists of approximately 100k lines (one evaluation per line) where the following are presented: the user identification number, the identification number of the movie, its associated rating and a time marker. The training and test sets were provided as is, that is, we do not need to build them ourselves, and have 80k and 20k evaluations respectively.\n",
    "\n",
    "For practical reasons, we convert the database as a list using the `convert` house function."
   ]
  },
  {
   "cell_type": "code",
   "execution_count": null,
   "id": "9cfe51b7",
   "metadata": {
    "id": "L-iZpo3syVfH"
   },
   "outputs": [],
   "source": [
    "training_set = np.array(pd.read_csv(os.path.join(DATA_DIR, 'u1.base'), delimiter='\\t'), dtype='int')\n",
    "testing_set = np.array(pd.read_csv(os.path.join(DATA_DIR, 'u1.test'), delimiter='\\t'), dtype='int')\n",
    "\n",
    "train_set = utl.convert(training_set, nb_users, nb_movies)\n",
    "test_set = utl.convert(testing_set, nb_users, nb_movies)"
   ]
  },
  {
   "cell_type": "markdown",
   "id": "43afb915",
   "metadata": {
    "id": "7SLdhM6JyVfJ"
   },
   "source": [
    "As we did before, we can get descriptive statistics associated with the evaluations. At first, it might be interesting to study the average trends of users.\n",
    "\n",
    "##### Question 1\n",
    "\n",
    "1. What other types of statistics might be interesting?\n",
    "\n",
    "**Answer**\n",
    "\n",
    "1. We could define the statistics below according to other attributes, such as the gender of the users, their occupation or their age."
   ]
  },
  {
   "cell_type": "code",
   "execution_count": null,
   "id": "1b3c9c35",
   "metadata": {
    "id": "xKA9NNd3yVfK",
    "outputId": "d2da4f14-ec75-462f-fb70-7b982003cd6c"
   },
   "outputs": [],
   "source": [
    "train_matrix = np.array(train_set)\n",
    "shape = (len(train_set), len(train_set[0]))\n",
    "train_matrix.reshape(shape)\n",
    "train_matrix_bool = np.where(train_matrix > 0 , 1, 0)\n",
    "\n",
    "user_watch = np.sum(train_matrix_bool, axis=1)\n",
    "pd.DataFrame(user_watch).describe().T"
   ]
  },
  {
   "cell_type": "markdown",
   "id": "bb417f15",
   "metadata": {
    "id": "QxJAYhm8yVfM"
   },
   "source": [
    "Histogram of the number of movies watched per user."
   ]
  },
  {
   "cell_type": "code",
   "execution_count": null,
   "id": "56236420",
   "metadata": {
    "id": "NNjqlijayVfN",
    "outputId": "01a62526-9f43-458b-a99d-f04a4bb493f2"
   },
   "outputs": [],
   "source": [
    "sns.set(rc={'figure.figsize':(12,8)})\n",
    "sns.set(font_scale = 1.5)\n",
    "\n",
    "plt.title('Empirical distribution of \\n the number of movies watched per user')\n",
    "plt.xlabel('Number of movies watched')\n",
    "plt.ylabel('Number of users')\n",
    "plt.hist(user_watch, 100);"
   ]
  },
  {
   "cell_type": "markdown",
   "id": "781f952a",
   "metadata": {
    "id": "_25AG1FpyVfP"
   },
   "source": [
    "Descriptive statistics related to the movies' evaluation."
   ]
  },
  {
   "cell_type": "code",
   "execution_count": null,
   "id": "472d70b4",
   "metadata": {
    "id": "7MN6AMmgyVfQ",
    "outputId": "60634dcf-ee5c-45cf-9a25-dbce5fc74e80"
   },
   "outputs": [],
   "source": [
    "movie_frequency = np.mean(train_matrix_bool, axis=0)\n",
    "pd.DataFrame(movie_frequency).describe().T"
   ]
  },
  {
   "cell_type": "markdown",
   "id": "c41e3deb",
   "metadata": {
    "id": "O95975aVyVfS"
   },
   "source": [
    "##### Question 2\n",
    "\n",
    "1. What statistics or observations might we consider relevant? Why?\n",
    "2. What kind of statistics might be more appropriate in such a context?\n",
    "\n",
    "**Answer 2**\n",
    "\n",
    "1. An overview at the histogram informs us that about 25% of movies were viewed by less than 1% of the population. In other words, some movies have been viewed by a large majority. In fact, it's hard enough to define a trend, since there are rare events, such as blockbusters (<i> Toys Story </i>) and a large amount of virtually zero values. In any case, the least relevant statistics for us are the mean and the standard error.\n",
    "2. Any descriptive statistics robust to rare events."
   ]
  },
  {
   "cell_type": "code",
   "execution_count": null,
   "id": "d49808f5",
   "metadata": {
    "id": "IAS_JtyNyVfS",
    "outputId": "8770d4a6-931b-47ac-f2a8-d42b08ca5f53"
   },
   "outputs": [],
   "source": [
    "plt.xlabel('Proportion of the population who watched the movie')\n",
    "plt.ylabel('Number of Movies')\n",
    "plt.hist(movie_frequency, 100);"
   ]
  },
  {
   "cell_type": "markdown",
   "id": "147b70f4",
   "metadata": {
    "id": "yMof9UgayVfW"
   },
   "source": [
    "#### Individual preferences according to the type of movie\n",
    "\n",
    "We could also look at the behavior of a particular individual. Among other things, we could study if there is a bias associated with her evaluation scheme or what are her cinematographic preferences according to the score awarded."
   ]
  },
  {
   "cell_type": "code",
   "execution_count": null,
   "id": "f24d3023",
   "metadata": {
    "id": "w2e2hLOhyVfW"
   },
   "outputs": [],
   "source": [
    "def stats_user(data, movies_genre, user_id):\n",
    "    \n",
    "    ratings = data[user_id]\n",
    "    stats = np.zeros(6)\n",
    "    eva = np.zeros((6, movies_genre.shape[1]))\n",
    "\n",
    "    for k in np.arange(len(ratings)):\n",
    "        index = int(ratings[k])\n",
    "        stats[index] += 1\n",
    "        eva[index, :] = eva[index, :] + movies_genre[k]\n",
    "\n",
    "    return stats, eva"
   ]
  },
  {
   "cell_type": "code",
   "execution_count": null,
   "id": "ef481cc1",
   "metadata": {
    "id": "EXeBAM7tyVfY",
    "outputId": "a1290434-e570-484d-d35a-3dc1c9b43c85"
   },
   "outputs": [],
   "source": [
    "user_id = 0\n",
    "stats, eva = stats_user(train_set, movies_genre, user_id)\n",
    "utl.barplot(np.arange(5) + 1, stats[1:6] / sum(stats[1:6]), xlabel='Number of stars', ylabel='Percentage of movies (%)', \n",
    "            title=\" \", rotation = 0)"
   ]
  },
  {
   "cell_type": "markdown",
   "id": "7e7765b3",
   "metadata": {
    "id": "YN6SjMOCyVfb"
   },
   "source": [
    "##### Question 3\n",
    "\n",
    "1. How can we test to the existence of bias associated to individual's assessment scheme?\n",
    "\n",
    "**Answer 3**\n",
    "\n",
    "1. A simple way would be to perform a t-test in order to check whether the average score of an individual is significantly different from those of the entire population."
   ]
  },
  {
   "cell_type": "markdown",
   "id": "4d5ae7be",
   "metadata": {
    "id": "A-uCiCPLyVfb"
   },
   "source": [
    "## 1.4 Construction of the training and validation sets\n",
    "\n",
    "In machine learning, we manipulate <a href=\"https://blogs.nvidia.com/blog/2018/04/15/nvidia-research-image-translation/\">complex databases</a> for which we attempt to define equally complex function spaces in order to accomplish a specific task. That being said, these function spaces are defined by a set of parameters whose number tends to increase with the complexity of the data. Once space is defined by a set of fixed parameters, we can vary the different values of the hyperparameters in order to empirically explore function spaces. To choose the set of optimal parameters and hyperparameters, we define a metric that allows us to evaluate the model; for example, how much the image of a cat seems likely.\n",
    "\n",
    "To the extent that we want to develop a model that can generalize, the evaluation of its performance must be done on an independent dataset, coming from the same distribution from the set on which the model was trained. This set is called the validation set.\n",
    "\n",
    "<b>! Note! </b>\n",
    "\n",
    "The notion of training and test set in the framework of recommender systems is somewhat different from what is usually seen with so-called supervised problems. If in the context of a supervised problem, the test set consists essentially of new observations (lines from a file) which are independent of observations previously observed in the training set. The paradigm is significantly different when we work with recommendation systems.\n",
    "\n",
    "Indeed, because of the mathematical model on which the recommendation systems are based, the data belonging to the test set are not linked to a new individual, but rather to new evaluations made by the same set of individuals. As a result, the data associated with the training, validation and test sets are no longer independent as assumed (the famous <i>iid</i> hypothesis) which complicates things theoretically.\n",
    "\n",
    "Since the purpose of the workshop is not to study the notion of bias associated with the type of dependence between the different assessments in referral systems, we will naively assume that each of the assessments is independent of each other. Nevertheless, in a practical framework, ignoring this kind of considerations will possibly bias the algorithms."
   ]
  },
  {
   "cell_type": "code",
   "execution_count": null,
   "id": "9c9eba2b",
   "metadata": {
    "id": "PA-FDum7yVfb"
   },
   "outputs": [],
   "source": [
    "def split(data, ratio, tensor=False):\n",
    "    train = np.zeros((len(data), len(data[0]))).tolist()\n",
    "    valid = np.zeros((len(data), len(data[0]))).tolist()\n",
    "\n",
    "    for i in range(len(data)):\n",
    "        for j in range(len(data[i])):\n",
    "            if data[i][j] > 0:\n",
    "                if np.random.binomial(1, ratio, 1):\n",
    "                    train[i][j] = data[i][j]\n",
    "                else:\n",
    "                    valid[i][j] = data[i][j]\n",
    "\n",
    "    return [train, valid]\n",
    "\n",
    "train_0 = split(train_set, 0.8)\n",
    "test = test_set"
   ]
  },
  {
   "cell_type": "markdown",
   "id": "8f9c8332",
   "metadata": {
    "id": "qKr3pCvTyVff"
   },
   "source": [
    "# 2. Autoencoder as recommender systems"
   ]
  },
  {
   "cell_type": "markdown",
   "id": "e35a2f0b",
   "metadata": {
    "id": "l1fH9fv9yVfg"
   },
   "source": [
    "## 2.1 Model\n",
    "\n",
    "In general, auto-encoders are a class of neural networks that allow unsupervised learning of the latent characteristics of the data being studied. To do this, the AE will attempt to predict, or copy, the input observations using (multiple) hidden layer. In its simplest form, the architecture of an AE can be summarized in the diagram below.\n",
    "\n",
    "![title](https://github.com/davidberger2785/RS-Workshop/blob/master/Images/AE.png?raw=1)\n",
    "\n",
    "Looking more closely, the AE consists of an encoder, the function $h(\\cdot)$ defined by:\n",
    "\n",
    "$$\n",
    "\\begin{align}\n",
    "    h(\\mathbf{x}) = \\frac{1}{1+ \\exp(-\\mathbf{W} \\mathbf{x})}.\n",
    "\\end{align}\n",
    "$$\n",
    "\n",
    "This function takes as input the observations and will consist of recoding it as a hidden layer so as to reduce their size (fewer neurons). Afterwards, an encoder defined by:\n",
    "\n",
    "$$\n",
    "\\begin{align}\n",
    "    f(h(\\mathbf{x})) = \\mathbf{W}^\\top h(\\mathbf{x})\n",
    "\\end{align}\n",
    "$$\n",
    "\n",
    "will attempt <i>to reconstruct </i> the input observations from the hidden layer. In this sense, the AE tries to estimate the observations used as input.\n",
    "\n",
    "We can advantageously use the estimates made by the auto-encoders in such a way as to present new recommendations to the users.\n",
    "\n",
    "For example, suppose that the set of evaluations made by a user is defined by the vector:\n",
    "\n",
    "$$\n",
    "\\begin{align}\n",
    "    \\mathbf{x} = [3, \\ 0, \\ 0, \\ 1, \\ ..., \\ 2, \\ 4].\n",
    "\\end{align}\n",
    "$$\n",
    "\n",
    "We note that the movie in first place, <i> Toy Story </i>, was moderately appreciated, while the following two movies, <i> Golden eye </i> and <i> Four rooms </i >, have not been viewed. Suppose once again that in this same set of assessments, the EA will present the following estimates:\n",
    "\n",
    "$$\n",
    "\\begin{align}\n",
    "    \\mathbf{\\hat{x}} = [3.2, \\ 1.3, \\ 4, \\ 0.5, \\ ..., \\ 3, \\ 1].\n",
    "\\end{align}\n",
    "$$\n",
    "\n",
    "As a result, we will be able to use the estimates associated with initially unvisited movies as recommendations. Thus, the movie <i> Four rooms </i>, in third position, seems a good suggestion for the user, while <i> Golden eye </i> is definitely not a convincing recommendation."
   ]
  },
  {
   "cell_type": "markdown",
   "id": "50c8fbf3",
   "metadata": {
    "id": "1TORhW5jyVfg"
   },
   "source": [
    "## 2.2 Deep learning with Pytorch\n",
    "\n",
    "In order to build a recommendation system based on autoencoders, we will use the\n",
    "<a href=\"https://pytorch.org/\">Pytorch</a> library. It provides two extremely interesting features:\n",
    "<ul>\n",
    "<li> Manipulation of tensors (kind of multidimensional matrices) to perform calculations with GPU. </li>\n",
    "<li> Automatic differentiation (!!!) with the <a href=\"http://pytorch.org/docs/master/autograd.html\">autograd class </a> to easily calculate the gradient descent. </li>"
   ]
  },
  {
   "cell_type": "code",
   "execution_count": null,
   "id": "9b7ebeb4",
   "metadata": {
    "id": "-YvdDfhEyVfg"
   },
   "outputs": [],
   "source": [
    "import torch\n",
    "import torch.nn as nn\n",
    "import torch.nn.parallel\n",
    "import torch.optim as optim\n",
    "import torch.utils.data\n",
    "\n",
    "from torch.nn import functional\n",
    "from torch.autograd import Variable"
   ]
  },
  {
   "cell_type": "markdown",
   "id": "fb2b7536",
   "metadata": {
    "id": "v1aMhUBGyVfi"
   },
   "source": [
    "Since we will work with Pytorch, let's turn the MoviesLens dataset into a tensor object."
   ]
  },
  {
   "cell_type": "code",
   "execution_count": null,
   "id": "f40c6ca3",
   "metadata": {
    "id": "qGnLCen2yVfi"
   },
   "outputs": [],
   "source": [
    "train = torch.FloatTensor(train_0)\n",
    "train, valid = train[0], train[1]\n",
    "test = torch.FloatTensor(test_set)"
   ]
  },
  {
   "cell_type": "markdown",
   "id": "daa883b6",
   "metadata": {
    "id": "ayL7cIyeyVfl"
   },
   "source": [
    "**! Note !** \n",
    "\n",
    "Although the documentation available for Pytorch is detailed (compared to other deep learning libraries), it is easy to get lost. Nevertheless, for this workshop, it is not necessary to enter all the details associated with the different commands. In fact, the key is to understand the ins and outs of the key steps presented."
   ]
  },
  {
   "cell_type": "markdown",
   "id": "f2a13042",
   "metadata": {
    "id": "eo5xwmPHyVfm"
   },
   "source": [
    "## 2.3 Implementation\n",
    "\n",
    "We can define in 5 steps the implementation of an AE as a recommendation system:\n",
    "\n",
    "1. Initialization of the AE,\n",
    "2. Propagation of the message,\n",
    "3. Estimation: cost calculation and retropropagation,\n",
    "4. Learning loop,\n",
    "5. Evaluation."
   ]
  },
  {
   "cell_type": "markdown",
   "id": "f0b2049a",
   "metadata": {
    "id": "lodQNOO9yVfm"
   },
   "source": [
    "### 2.3.1 Initialization\n",
    "\n",
    "First, let's define the autoencoder class using the <a href=\"http://pytorch.org/docs/master/nn.html#module\"> torch.nn</a> module. In PyTorch, any neural network must inherit this class. The autoencoder uses other common classes in Pytorch, such as <a href = \"http://pytorch.org/docs/master/nn.html#torch.nn. Linear \"> torch.nn.Linear (in_features, out_features)</a>. The latter implements a fully connected linear layer (as its name suggests).\n",
    "\n"
   ]
  },
  {
   "cell_type": "markdown",
   "id": "7c50ffc1",
   "metadata": {
    "id": "ItjRUi6kPJ_I"
   },
   "source": [
    "##### Question 4\n",
    "\n",
    "1. Complete the initialization of the autoencoder class according to the architecture diagram presented above."
   ]
  },
  {
   "cell_type": "code",
   "execution_count": null,
   "id": "1b44f9b6",
   "metadata": {
    "id": "UQmTugCMyVfn"
   },
   "outputs": [],
   "source": [
    "class AE(nn.Module):\n",
    "    def __init__(self, inputs, outputs, features, criterion=None):\n",
    "        \"\"\"\n",
    "        Args: \n",
    "           self: class name\n",
    "           nb_inputs: number of neurons on the input layer\n",
    "           nb_outputs: number of neurons on the output layer\n",
    "           nb_features: number of neurons on the hidden layer\n",
    "           criterion: loss function used for learning  \n",
    "        \"\"\"\n",
    "        \n",
    "        super(AE, self).__init__()\n",
    "        self.fc1 = nn.Linear(inputs, features)\n",
    "        self.fc2 = nn.Linear(features, outputs)\n",
    "        \n",
    "        self.criterion = criterion"
   ]
  },
  {
   "cell_type": "markdown",
   "id": "55aff9f5",
   "metadata": {
    "id": "_q97wTsayVfp"
   },
   "source": [
    "We then define:\n",
    "\n",
    "1. The number of neurons input,\n",
    "2. The number of neurons output,\n",
    "3. The number of neurons desired in the hidden layer."
   ]
  },
  {
   "cell_type": "markdown",
   "id": "f9808fdf",
   "metadata": {
    "id": "hgqbOadNyVfp"
   },
   "source": [
    "##### Question 5\n",
    "\n",
    "\n"
   ]
  },
  {
   "cell_type": "markdown",
   "id": "992f279d",
   "metadata": {
    "id": "fyrtMgbTMtIB"
   },
   "source": [
    "###### Question 5.1\n",
    "Initialize the autoencoder with the correct parameter values."
   ]
  },
  {
   "cell_type": "code",
   "execution_count": null,
   "id": "8f88072d",
   "metadata": {
    "id": "xR00ijNvyVfp"
   },
   "outputs": [],
   "source": [
    "nb_inputs = len(train[0])\n",
    "nb_outputs = len(train[0])\n",
    "nb_features = 10\n",
    "\n",
    "ae = AE(nb_inputs, nb_outputs, nb_features)"
   ]
  },
  {
   "cell_type": "markdown",
   "id": "c23df043",
   "metadata": {
    "id": "Bn7vvwSpM3dE"
   },
   "source": [
    "###### Question 5.2\n",
    "\n",
    "Is it relevant that the hidden layer has more neurons than the input layer?\n",
    "\n",
    "**Answer 5**\n",
    "\n",
    "2. Assume that the associated loss function for driving the AE is the mean squared error. In the event that the hidden layer is composed of more neurons than the inputs and outputs layers, we could assume that some neurons would reproduce exactly the same message as input, while others would only be a witness and would be associated with zero weights. Thus, the MSE would be zero, which seems an ideal scenario. On the other hand, and to the extent that we are interested in summarize information observed in the hidden layer of an AE, such an architecture would be useless, since no information would have been synthesized."
   ]
  },
  {
   "cell_type": "markdown",
   "id": "09c2ae00",
   "metadata": {
    "id": "F9d5pX8gyVfr"
   },
   "source": [
    "### 2.3.2 Propagation\n",
    "\n",
    "During the propagation phase, the `forward` function associated with the propagation of the message defines the operations to be performed in order to calculate the elements of the output. This function is essential and must match the initialization of the model in the previous step to allow proper backpropagation. \n",
    "   \n",
    "Note the use of the <a href=\"http://pytorch.org/docs/master/nn.html#torch-nn-functional\">torch.nn.functional</a> method which define a set of functions which can be applied to the layers of a neural network. In this workshop, we will use non-linear functions like <a href=\"http://pytorch.org/docs/master/nn.html#id36\">sigmoid</a> and cost functions such as the mean squared error <a href=\"http://pytorch.org/docs/master/nn.html#mse-loss\">mse_loss</a>."
   ]
  },
  {
   "cell_type": "markdown",
   "id": "76cc775a",
   "metadata": {
    "id": "7_VZYwnZyVfs"
   },
   "source": [
    "##### Question 6\n",
    "\n",
    "1. Write down the `forward` function."
   ]
  },
  {
   "cell_type": "code",
   "execution_count": null,
   "id": "78d9d44c",
   "metadata": {
    "id": "RKHDNwY3yVfs"
   },
   "outputs": [],
   "source": [
    "def forward(model, x):\n",
    "    \"\"\"\n",
    "    Args:\n",
    "        model: name of the autoencoder as initialized\n",
    "        x: input layer, here made up of 1682 neurons\n",
    "    Return:\n",
    "        predictions: output layer\n",
    "    \"\"\"\n",
    "    \n",
    "    h1 = torch.sigmoid(model.fc1(x))\n",
    "    return ae.fc2(h1)"
   ]
  },
  {
   "cell_type": "markdown",
   "id": "c999c516",
   "metadata": {
    "id": "78IFSm7xyVfu"
   },
   "source": [
    "### 2.2.2 Weight estimates\n",
    "\n",
    "Although neural networks have breathtaking predictive capabilities, the complexity of their archicture can be quickly very heavy. From a computational point of view, this translates, among other things, into the impossibility of obtaining an optimum regards to the loss function. Of course, estimating the weights analytically, as can be done in a linear model under normality assumption for example, is mostly impossible. Nevertheless, if no global optimum is guaranteed, and if incidentally no analytical form can be calculated, the fact remains that the associated weights can be estimated.\n",
    "\n",
    "That being said, the (stochastic) gradient descent (and its derivatives) is an efficient optimization technique that is mainly used deep learning. This technique uses three key concepts:\n",
    "\n",
    "1. Cost function,\n",
    "2. Optimizer's type,\n",
    "3. Gradient backpropagation (implemented in the learning loop)."
   ]
  },
  {
   "cell_type": "markdown",
   "id": "c2d0489b",
   "metadata": {
    "id": "wpNZdGsgyVfv"
   },
   "source": [
    "#### 2.2.2.1 Loss function\n",
    "\n",
    "As we saw in the previous workshop, the loss function plays an important role in the construction of a predictive model. In fact, it is this same loss function that we try to minimize (or maximize is according to) by iteratively adjusting the weights of the AE. Thus, two different loss functions will most likely result in two different models. As usual, Pytorch offers a large amount of <a href=\"http://pytorch.org/docs/master/nn.html#id42\">loss functions</a> that you can explore at your leisure.\n",
    "\n",
    "Since ratings vary between 1 and 5, the mean square error (MSE) seems an interesting first option. Formally, as part of a recommendation system, we will define the MSE as follows:\n",
    "\n",
    "$$\n",
    "\\begin{align}\n",
    "\\textit{MSE}(\\mathbf{R}, \\hat{\\mathbf{R}}) = \\frac{1}{n} \\sum_{r_{ui} \\neq 0} (r_{ui} - \\hat{r}_{ui})^2, \n",
    "\\end{align}\n",
    "$$\n",
    "\n",
    "where $\\mathbf{R}$ and $\\hat{\\mathbf{R}} $ are respectively the matrices of the observed and predicted ratings and $n$ is the number of estimates. In the same way, $r_{ui}$ and $\\hat{r}_{ui} $ are scalars associated respectively with the observed evaluation and the estimate of the user $u$ for the item $i$.\n",
    "\n",
    "Since we have encoded the loss function as an attribute of the autoencoder class, we define it with the following command."
   ]
  },
  {
   "cell_type": "code",
   "execution_count": null,
   "id": "34854b7e",
   "metadata": {
    "id": "OTiP1eHgyVfv"
   },
   "outputs": [],
   "source": [
    "ae.criterion = nn.MSELoss()"
   ]
  },
  {
   "cell_type": "markdown",
   "id": "c65b290d",
   "metadata": {
    "id": "uqMpVBEzyVfx"
   },
   "source": [
    "##### Question 7\n",
    "\n",
    "1. The MSE is an interesting loss function for recommendation system with explicit data. Which relevant loss function could have been implemented if the data had been preference-based binary evaluations?\n",
    "\n",
    "**Answer 7**\n",
    "\n",
    "1. Cross entropy, which turns out to be the likelihood in a classification problem, would be a laudable loss function. In fact, you could dichotomize the observed ratings into two classes, <i>loved</i> (four or five stars rating) and <i> not liked</i> (lower than four stars) and re-train the entire model, taking care of course to use the appropriate loss function, <a href = \"https://pytorch.org/docs/master/_modules/torch/ nn / modules / loss.html # CrossEntropyLoss \"> nn.CrossEntropyLoss ()</a>."
   ]
  },
  {
   "cell_type": "markdown",
   "id": "63bde186",
   "metadata": {
    "id": "vBAKoLTTyVfx"
   },
   "source": [
    "#### 2.2.2.2 Optimizer\n",
    "\n",
    "PyTorch provides several <a href=\"http://pytorch.org/docs/master/optim.html#algorithms\">optimization methods</a> more or less derived from the gradient descent via the `torch 'class. optim`. Among these techniques:\n",
    "\n",
    "<ul>\n",
    "<li> SGD (Stochastic Gradient Descent): implementation of SGD.\n",
    "<li> Adam (Adaptive Moment Estimation): variation of the gradient descent method where the learning rate is adjusted for each parameter.\n",
    "<li> RMSprop: actual optimizer for this workshop. For more details <a href=\"http://www.cs.toronto.edu/~tijmen/csc321/slides/lecture_slides_lec6.pdf\"> here</a>.\n",
    "</ul>\n",
    "\n",
    "In any case, when we use iterative optimization methods, we must provide a learning rate and a weight decay value, for reasons similar to those mentioned in the <i>Matrix factorization</i> workshop."
   ]
  },
  {
   "cell_type": "code",
   "execution_count": null,
   "id": "abf00518",
   "metadata": {
    "id": "cRG1wcF2yVfy"
   },
   "outputs": [],
   "source": [
    "learning_rate = 0.02\n",
    "weight_decay = 0.2\n",
    "\n",
    "optimizer = optim.RMSprop(ae.parameters(), lr=learning_rate, weight_decay=weight_decay)"
   ]
  },
  {
   "cell_type": "markdown",
   "id": "5a2102e9",
   "metadata": {
    "id": "NWdTmrbMyVf0"
   },
   "source": [
    "#### 2.2.2.3 Backpropagation\n",
    "\n",
    "In Pytorch, the gradient's backpropagation is simplified thanks to the automatic differentiation and the <a href=\"http://pytorch.org/docs/master/notes/autograd.html\">autograd</a> class. This is done in two steps:\n",
    "\n",
    "1. Calculation of the loss function with the function previously defined in the class of the AE.\n",
    "2. Automatic differentiation of the loss function with the `backward()` function.\n",
    "\n",
    "The entire backpropagation process is directly implemented in the learning loop defined below."
   ]
  },
  {
   "cell_type": "markdown",
   "id": "91cea9a3",
   "metadata": {
    "id": "wMs1zrx4yVf1"
   },
   "source": [
    "### 2.2.3 Learning loop\n",
    "\n",
    "When an autoencoder (and generally a deep learning-based architecture) is used as a recommendation system, the learning loop differs somewhat from the matrix factorization-based models. Thus, each rating is no longer considered individually, as it was the case before, but is considered on the whole of the ratings provided by a specific user.\n",
    "\n"
   ]
  },
  {
   "cell_type": "markdown",
   "id": "b38493df",
   "metadata": {
    "id": "btB14Z5lN0l9"
   },
   "source": [
    "##### Question 8\n",
    "\n",
    "1. Complete the propagation phase.\n",
    "2. At the end of each epoch, which statistic would it be better to calculate? Code it. Note: initialize objects at the beginning of the function (see line 4)\n",
    "3. Implement the backpropagation phase.\n",
    "4. Since data from the training, validation or test set can be used in the fit function, what conditions should we put on line 22?"
   ]
  },
  {
   "cell_type": "code",
   "execution_count": null,
   "id": "c1371e32",
   "metadata": {
    "id": "tqZLNusayVf1"
   },
   "outputs": [],
   "source": [
    "def fit(model, x, y, valid=False):\n",
    "    \n",
    "    nb_obs, nb_items = len(x), len(x[0])\n",
    "    average_loss, s = 0, 0.\n",
    "\n",
    "    for id_user in range(nb_obs):\n",
    "\n",
    "        inputs = Variable(x[id_user]).unsqueeze(0)\n",
    "        target = Variable(y[id_user]).unsqueeze(0)\n",
    "\n",
    "        if torch.sum(target > 0) > 0:\n",
    "            \n",
    "            # Answer 8.1: \n",
    "            estimate = forward(model, inputs)\n",
    "            estimate[target == 0] = 0\n",
    "            target.require_grad = False\n",
    "            \n",
    "            # Answer 8.3: \n",
    "            loss = model.criterion(estimate, target)\n",
    "            \n",
    "            # Answer 8.4: \n",
    "            if not valid:\n",
    "                loss.backward()\n",
    "                optimizer.step()\n",
    "\n",
    "            # Answer 8.2: \n",
    "            average_loss += loss.data / float(torch.sum(target.data > 0))\n",
    "            s += 1.\n",
    "\n",
    "    return model, average_loss, s"
   ]
  },
  {
   "cell_type": "markdown",
   "id": "fcd0ce28",
   "metadata": {
    "id": "3MU8wTzyyVf4"
   },
   "source": [
    "## 2.4 Training\n",
    "\n",
    "The autoencoder and the associated functions now implemented, we can start to train the model. Once again, the goal here is not to tune the parameters so as to obtain the best possible model, but simply to understand the role that they can play according to the model's predictive ability.\n",
    "\n"
   ]
  },
  {
   "cell_type": "markdown",
   "id": "24c35742",
   "metadata": {
    "id": "ImqJh9QaPTP3"
   },
   "source": [
    "##### Question 9\n",
    "\n",
    "1. Finish implementing the training phase."
   ]
  },
  {
   "cell_type": "code",
   "execution_count": null,
   "id": "eca35096",
   "metadata": {
    "id": "8Fw6ojJuyVf4",
    "outputId": "2c1b07cd-8725-4b19-e6e7-e9994fa74f95"
   },
   "outputs": [],
   "source": [
    "nb_epoch = 20\n",
    "\n",
    "for epoch in range(1, nb_epoch + 1):\n",
    "    \n",
    "    ae, train_loss, train_s = fit(model=ae, x=train, y=train)\n",
    "    ae, valid_loss, valid_s = fit(model=ae, x=valid, y=valid, valid=True)\n",
    " \n",
    "    print(\"epoch: \", \"{:3.0f}\".format(epoch), \"   |   train: \", \"{:1.8f}\".format(train_loss.numpy() / train_s), \\\n",
    "                    '   |   valid: ', \"{:1.8f}\".format(valid_loss.numpy() / valid_s))"
   ]
  },
  {
   "cell_type": "markdown",
   "id": "9625f869",
   "metadata": {
    "id": "5SWT4GPJyVf6"
   },
   "source": [
    "You can now manipulate the various parameters and hyperparameters of the AE. Among the various modifications that you can make, here is a (short and not exhaustive) list of easily implementable modifications:\n",
    "\n",
    "1. Change the hyperparameters (a bit boring).\n",
    "2. Increase the size of the hidden layer (more interesting).\n",
    "3. Add hidden layers to the model, making sure to initialize them and adapt the forward function.\n",
    "4. Dichotomize the ratigns using a threshold (for example 3) and run the whole code by adapting or not the cost function as discussed previously."
   ]
  },
  {
   "cell_type": "markdown",
   "id": "b337c0eb",
   "metadata": {
    "id": "7LPGWMlTyVf7"
   },
   "source": [
    "Finally, we can evaluate the performance of our model on the test set."
   ]
  },
  {
   "cell_type": "code",
   "execution_count": null,
   "id": "39171857",
   "metadata": {
    "id": "55o-IxT1yVf7",
    "outputId": "e3ac054f-2e81-4fdf-dd52-e15c76e332ae"
   },
   "outputs": [],
   "source": [
    "ae, test_loss, test_s = fit(model=ae, x=test, y=test, valid=True)\n",
    "print('test: ',\"{:1.8f}\".format(test_loss.numpy() / test_s))"
   ]
  },
  {
   "cell_type": "markdown",
   "id": "21780e84",
   "metadata": {
    "id": "fMhowQRCyVf9"
   },
   "source": [
    "## 2.5 Analysis\n",
    "\n",
    "\n",
    "### 2.5.1 Exploration of the latent layer\n",
    "\n",
    "In a similar way to what was presented in the matrix factorization workshop, we can explore the latent layer of AE. Insofar as the input layer represents the set of evaluations for a given individual, each neuron in the latent layer will be associated with a latent attribute of an individual.\n",
    "\n",
    "As an example, let's say $\\mathbf{H}_{|U| \\times k}$ the matrix associated with the tent layer where each row represents the latent representation of the preferences for a given user and where each column represents a neuron of that same layer. Suppose now that the first two neurons of the latent layer have the following values:\n",
    "\n",
    "$$\n",
    "\\begin{align}\n",
    "h_1 &= [1.0, \\ 0.0, \\ -0.5, \\ ..., \\ 1.0, \\ -1.0]\n",
    "\\qquad \\text{and} \\qquad\n",
    "h_2 = [1.0, \\ 0.0, \\ 0.5, \\ ..., \\ -1.0, \\ -0.8].\n",
    "\\end{align}\n",
    "$$\n",
    "\n",
    "And that to these values correspond the following users:\n",
    "\n",
    "1. Serena,\n",
    "2. Kali,\n",
    "3. Neil,\n",
    "4. Marie,\n",
    "5. David.\n",
    "\n",
    "We can then map users based on the values ​​associated with $h_1$ and $h_2$:\n",
    "\n",
    "![title](https://github.com/davidberger2785/RS-Workshop/blob/master/Images/hidden_4.png?raw=1)\n",
    "\n",
    "This approach could allow us to perform clusters of individuals based on latent attributes. In fact, a quick glance allows us to think that the preferences in terms of cinema of Serena are the opposite of David, which is not very surprising.\n",
    "\n",
    "With the following commands, we propose to further explore the latent structure of AE."
   ]
  },
  {
   "cell_type": "code",
   "execution_count": null,
   "id": "31506d43",
   "metadata": {
    "id": "zfuHjW3EyVf-"
   },
   "outputs": [],
   "source": [
    "x = train\n",
    "hidden = torch.sigmoid(ae.fc1(x)).detach().numpy()"
   ]
  },
  {
   "cell_type": "markdown",
   "id": "891247d0",
   "metadata": {
    "id": "KJzuFOVYyVgA"
   },
   "source": [
    "We could be interested, for example, in measures of association between the different hidden layers, or a hidden layer and a socio-demographic characteristics. To do this, an interesting avenue would be to simply calculate the associated correlations.\n",
    "\n",
    "First, by simply exploring the correlations between different neurons."
   ]
  },
  {
   "cell_type": "code",
   "execution_count": null,
   "id": "43050e22",
   "metadata": {
    "id": "ACJ42jTcyVgB",
    "outputId": "e99fb5f6-e049-43c0-d6f3-30bd42f33da9"
   },
   "outputs": [],
   "source": [
    "df = pd.DataFrame(np.array(hidden))\n",
    "f = plt.figure(figsize=(6, 6))\n",
    "plt.matshow(df.corr(), fignum=f.number)\n",
    "plt.xticks(range(df.shape[1]), df.columns, fontsize=10, rotation=0)\n",
    "plt.yticks(range(df.shape[1]), df.columns, fontsize=10)\n",
    "cb = plt.colorbar()\n",
    "cb.ax.tick_params(labelsize=10)"
   ]
  },
  {
   "cell_type": "markdown",
   "id": "95bea0d6",
   "metadata": {
    "id": "i02wQ_o-yVgD"
   },
   "source": [
    "##### Question 10\n",
    "\n",
    "1. Which neuron of the hidden layer seems <i>a priori </i> the most interesting? Why?\n",
    "\n",
    "**Answer 10**\n",
    "\n",
    "1. As you can see, the tenth layer seems to have the correlations closest to zero. We could believe <i>a priori </i> that the information provided by this neuron is complementary to other neurons."
   ]
  },
  {
   "cell_type": "markdown",
   "id": "c2a18067",
   "metadata": {
    "id": "ADu4e1KHyVgD"
   },
   "source": [
    "##### Question 11\n",
    "\n",
    "1. Latent layer study was done here according to the users of the system. Would it be possible to study the latent layers associated with individuals. If yes, how?\n",
    "\n",
    "**Answer 11**\n",
    "\n",
    "1. Yes, it is possible, but we would need to re-train the whole AE. To do this, we will only have to define the input and output layers according to the films (and therefore 943 neurons at the input and output)."
   ]
  },
  {
   "cell_type": "markdown",
   "id": "2fc03029",
   "metadata": {
    "id": "DK_RS6W1yVgD"
   },
   "source": [
    "# 3. Applications\n",
    "\n",
    "One of the primary objectives of the recommendation systems is to make personalized recommendations. Therefore, it might be interesting to study the recommendations made by our model for a specific individual. It would also be preferable that the recommendations made suggest only films not viewed by the user.\n",
    "\n"
   ]
  },
  {
   "cell_type": "markdown",
   "id": "0fe1fd78",
   "metadata": {
    "id": "ezfZFMrrPZSZ"
   },
   "source": [
    "##### Question 12\n",
    "\n",
    "1. Implement a short function which presents the best <i>k</i> recommendations that have not yet been viewed by a specific user."
   ]
  },
  {
   "cell_type": "code",
   "execution_count": null,
   "id": "7037bbdb",
   "metadata": {
    "id": "Z_3gJn4ByVgE"
   },
   "outputs": [],
   "source": [
    "def recommendations(model, data, titles, k):\n",
    "    \"\"\"\n",
    "     Args:\n",
    "         model: name of the autoencoder as initialized\n",
    "         data: assessments associated with the user\n",
    "         titles: list of titles of potentially recommended objects\n",
    "         k: number of recommendations wanted\n",
    "     Return:\n",
    "         names: names of the recommendations\n",
    "         scores: the score associated with them\n",
    "     \"\"\"\n",
    "    \n",
    "    inputs = Variable(data).unsqueeze(0)\n",
    "    outputs = forward(model, inputs)\n",
    "    outputs[inputs != 0] = 0\n",
    "    \n",
    "    names, scores = utl.rearrange(titles, outputs[0].detach().numpy())\n",
    "    \n",
    "    return names[-k:], scores[-k:]"
   ]
  },
  {
   "cell_type": "markdown",
   "id": "10b7b887",
   "metadata": {
    "id": "F8GoBNPlyVgG"
   },
   "source": [
    "Calling the function with a few manipulations..."
   ]
  },
  {
   "cell_type": "code",
   "execution_count": null,
   "id": "4db15ff6",
   "metadata": {
    "id": "C5uM_cdYyVgH",
    "outputId": "ece23f37-b76c-4962-9cb5-554f9f87a0a9"
   },
   "outputs": [],
   "source": [
    "user_id = 0\n",
    "k=10\n",
    "names, scores = recommendations(ae, (train + valid + test)[user_id], movies['Title'], k)\n",
    "\n",
    "df = pd.DataFrame(np.matrix((names[-k:], scores[-k:])).T, (np.arange(k) + 1).tolist())\n",
    "df.columns = ['Title', 'Predicted rating']\n",
    "df"
   ]
  },
  {
   "cell_type": "markdown",
   "id": "161fb5ae",
   "metadata": {
    "id": "RtDNLNaJyVgJ"
   },
   "source": [
    "As we saw in the workshop on matrix-based recommendation systems, we can customize algorithms with different parameters. For example, we could implement a system with the best recommendations based on:\n",
    "\n",
    "1. Of a particular genre of movie.\n",
    "2. A minimum preferred quality: a minimum predicted score strictly greater than 4.5, for example."
   ]
  },
  {
   "cell_type": "markdown",
   "id": "abd53442",
   "metadata": {
    "id": "CY9qBPGvyVgJ"
   },
   "source": [
    "##### Question 13\n",
    "\n",
    "1. Do different algorithms make identical recommendations? \n",
    "\n",
    "**Answer 13**\n",
    "\n",
    "1. Recommendations can be different. Different algorithms could learn different important features for the same user, and thus give different recommendations to this user."
   ]
  },
  {
   "cell_type": "markdown",
   "id": "aabf518e",
   "metadata": {
    "id": "WzGXRSrryVgK"
   },
   "source": [
    "# 4. Other modeling ideas\n",
    "\n",
    "So far we have only considered the evaluations in our model. It might be interesting to consider other types of modeling.\n",
    "\n",
    "For example, instead of using film ratings made by an individual as an input layer (hence 1682 neurons), we could use the ratings of individuals for a particular movie (and thus 943 input layer neurons). In this modeling, we could incorporate the different types of films and/or their year of release.\n",
    "\n",
    "Finally, we could simply get ourselves away from autoencoders and ogle other types of architectures. Considering the different functions and class previously coded, we could implement a multilayer perceptron (MLP). To do this, the inputs of the network would be exactly the same, with the difference that the targets would consist only of unvisited films."
   ]
  },
  {
   "cell_type": "markdown",
   "id": "0bbf53bc",
   "metadata": {
    "id": "xrApoK6ZyVgL"
   },
   "source": [
    "## 4.1 Use of socio-demographic informations\n",
    "\n",
    "It might be interesting to check whether the use of socio-demographic informations improves or not the predictive capabilities of the model. To the extent that such information would only improve the capabilities of the model very little, they could be useful when a new user intends to use the recommendation system already in place. Although imperfect, the information associated with the age, gender and occupation of a user could be useful for presenting the first recommendations.\n",
    "\n",
    "In order to observe how the recommendation system behaves with such data, we must first modify the different sets so that they present the socio-demographic information of each user."
   ]
  },
  {
   "cell_type": "code",
   "execution_count": null,
   "id": "bc5786cf",
   "metadata": {
    "id": "g8gPpnYOyVgL"
   },
   "outputs": [],
   "source": [
    "train_inputs = torch.FloatTensor(utl.inner_concatenation(user_attributes, train_0[0]))\n",
    "train_outputs = torch.FloatTensor(train_0[0])\n",
    "\n",
    "valid_inputs = torch.FloatTensor(utl.inner_concatenation(user_attributes, train_0[1]))\n",
    "valid_outputs = torch.FloatTensor(train_0[1])\n",
    "\n",
    "test_inputs = torch.FloatTensor(utl.inner_concatenation(user_attributes, test_set))\n",
    "test_outputs = torch.FloatTensor(test_set)"
   ]
  },
  {
   "cell_type": "markdown",
   "id": "4bebc966",
   "metadata": {
    "id": "pc5o169kyVgN"
   },
   "source": [
    "##### Question 14\n",
    "\n",
    "1. Initialize the autoencoder."
   ]
  },
  {
   "cell_type": "code",
   "execution_count": null,
   "id": "44705bda",
   "metadata": {
    "id": "BBF4i_gryVgO"
   },
   "outputs": [],
   "source": [
    "ae = AE(len(train_inputs[0]), len(train_outputs[0]), nb_features)\n",
    "ae.criterion = nn.MSELoss()\n",
    "optimizer = optim.RMSprop(ae.parameters(), lr=learning_rate, weight_decay=weight_decay)"
   ]
  },
  {
   "cell_type": "markdown",
   "id": "4f4304e8",
   "metadata": {
    "id": "4tYjb6Q9yVgQ"
   },
   "source": [
    "##### Question 15\n",
    "\n",
    "1. Code the training phase."
   ]
  },
  {
   "cell_type": "code",
   "execution_count": null,
   "id": "a7b0af76",
   "metadata": {
    "id": "1aEUHFyJyVgR",
    "outputId": "1b1f2074-fba9-413f-a9c9-d476bd954d78"
   },
   "outputs": [],
   "source": [
    "for epoch in range(1, nb_epoch + 1):\n",
    "    \n",
    "    ae, train_loss, train_s = fit(model=ae, x=train_inputs, y=train_outputs, valid=False)\n",
    "    ae, valid_loss, valid_s = fit(model=ae, x=valid_inputs, y=valid_outputs, valid=True)\n",
    " \n",
    "    print(\"epoch: \", \"{:3.0f}\".format(epoch), \"   |   train: \", \"{:1.8f}\".format(train_loss.numpy() / train_s), \\\n",
    "                    '   |   valid: ', \"{:1.8f}\".format(valid_loss.numpy() / valid_s))"
   ]
  },
  {
   "cell_type": "markdown",
   "id": "49c250f2",
   "metadata": {
    "id": "a4fWd9xXyVgU"
   },
   "source": [
    "##### Question 16\n",
    "\n",
    "1. Calculate the performance on the test set."
   ]
  },
  {
   "cell_type": "code",
   "execution_count": null,
   "id": "6ab74fdb",
   "metadata": {
    "id": "A6ZTeg2vyVgU",
    "outputId": "196f9adf-2af3-43d2-dea7-ba4a680e163f"
   },
   "outputs": [],
   "source": [
    "ae, test_loss, test_s = fit(model=ae, x=test_inputs, y=test_outputs, valid=True)\n",
    "print('test: ', \"{:1.8f}\".format(test_loss.numpy() / test_s))"
   ]
  },
  {
   "cell_type": "markdown",
   "id": "33ac9959",
   "metadata": {
    "id": "tzFQnARgyVgX"
   },
   "source": [
    "### 4.1.1 Cold start problem\n",
    "\n",
    "In fact, and as previously mentioned, beyond improving the performance of the model according to the chosen metric, the use of socio-demographic variables in the model makes it possible to make recommendations to a new user simply according to his attributes. This modeling can counteract the cold start problem.\n"
   ]
  },
  {
   "cell_type": "markdown",
   "id": "0363d48e",
   "metadata": {
    "id": "xhuBXiykO9za"
   },
   "source": [
    "##### Question 17\n",
    "\n",
    "1. Set the age, gender and occupation of an individual.\n",
    "2. Consider that the latter has not yet evaluated any movie.\n",
    "3. Show her/him, according to the estimated model, the best movie recommendations.\n"
   ]
  },
  {
   "cell_type": "code",
   "execution_count": null,
   "id": "f97977a6",
   "metadata": {
    "id": "iIzuKsp6yVgY",
    "outputId": "149ce2c9-11d1-49cd-d334-f6cd8cd3e935"
   },
   "outputs": [],
   "source": [
    "# Answer 17.1:\n",
    "age = [25]\n",
    "gender = [0]\n",
    "\n",
    "occupation = np.zeros(len(occupation_name))\n",
    "occupation[occupation_name.tolist().index('artist')] = 1\n",
    "\n",
    "# Answer 17.2: \n",
    "inputs = np.concatenate((age, gender, occupation, np.zeros(len(train_set[0]))))\n",
    "inputs = Variable(torch.FloatTensor(inputs)).unsqueeze(0)\n",
    "\n",
    "# Answer 17.3: \n",
    "outputs = forward(ae, inputs)\n",
    "\n",
    "names, scores = utl.rearrange(movies['Title'], outputs[0].detach().numpy())\n",
    "df = pd.DataFrame(np.matrix((names[-k:], scores[-k:])).T, (np.arange(k) + 1).tolist())\n",
    "df.columns = ['Title', 'Predicted rating']\n",
    "df"
   ]
  }
 ],
 "metadata": {
  "jupytext": {
   "formats": "ipynb,md"
  },
  "kernelspec": {
   "display_name": "Python 3",
   "language": "python",
   "name": "python3"
  }
 },
 "nbformat": 4,
 "nbformat_minor": 5
}
